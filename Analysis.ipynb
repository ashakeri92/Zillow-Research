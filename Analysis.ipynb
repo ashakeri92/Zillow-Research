{
 "cells": [
  {
   "cell_type": "markdown",
   "metadata": {},
   "source": [
    "# Zillow Research Analysis"
   ]
  },
  {
   "cell_type": "markdown",
   "metadata": {},
   "source": [
    "by: Armun Shakeri"
   ]
  },
  {
   "cell_type": "code",
   "execution_count": 1,
   "metadata": {},
   "outputs": [],
   "source": [
    "# Ideas for analysis\n",
    "\n",
    "# 3 year, 5 year, and 10 year\n",
    "# forecast housing prices \n",
    "# ROI, highest and lowest\n",
    "# Median Sale Price\n"
   ]
  },
  {
   "cell_type": "markdown",
   "metadata": {},
   "source": [
    "## Overview and Business Problem"
   ]
  },
  {
   "cell_type": "markdown",
   "metadata": {},
   "source": [
    "This project analyzes 3 bedroom homes in Texas to determine which 10 zipcodes had the highest ROI for 3, 5 and 10 year span. "
   ]
  },
  {
   "cell_type": "markdown",
   "metadata": {},
   "source": [
    "## Data Understanding"
   ]
  },
  {
   "cell_type": "markdown",
   "metadata": {},
   "source": [
    "This data represents median monthly housing sales for 3 bedroom homes across the United States. \n",
    "\n",
    "Each row represents a unique ZipCode. Each record contains loccation info and median housing sales prices for each month.\n",
    "\n",
    "There are 23404 rows and 281 variables:\n",
    "\n",
    "RegionID: Unique index, \n",
    "<br />RegionName: Unique Zip Code,\n",
    "<br />City: City in which the zip code is located,\n",
    "<br />State: State in which the zip code is located,\n",
    "<br />Metro: Metropolitan Area in which the zip code is located,\n",
    "<br />CountyName: County in which the zip code is located,\n",
    "<br />SizeRank: Numerical rank of size of zip code, ranked 1 through 23404\n",
    "01-00 through 08-22: refers to the median housing sales values for January 2000 through August 2022, that is 274 data points of monthly data for each zip code"
   ]
  },
  {
   "cell_type": "markdown",
   "metadata": {},
   "source": [
    "## Import standard packages and data"
   ]
  },
  {
   "cell_type": "code",
   "execution_count": 2,
   "metadata": {},
   "outputs": [
    {
     "name": "stderr",
     "output_type": "stream",
     "text": [
      "/opt/anaconda3/envs/learn-env/lib/python3.8/site-packages/sklearn/utils/deprecation.py:143: FutureWarning: The sklearn.utils.testing module is  deprecated in version 0.22 and will be removed in version 0.24. The corresponding classes / functions should instead be imported from sklearn.utils. Anything that cannot be imported from sklearn.utils is now part of the private API.\n",
      "  warnings.warn(message, FutureWarning)\n"
     ]
    }
   ],
   "source": [
    "import pandas as pd\n",
    "import numpy as np\n",
    "import matplotlib.pyplot as plt\n",
    "import seaborn as sns\n",
    "import itertools\n",
    "import time\n",
    "from datetime import datetime\n",
    "\n",
    "import matplotlib.ticker as mtick\n",
    "from matplotlib.ticker import FuncFormatter\n",
    "from sklearn.metrics import mean_squared_error\n",
    "\n",
    "from statsmodels.tsa.stattools import adfuller\n",
    "from statsmodels.graphics.tsaplots import plot_acf, plot_pacf\n",
    "from statsmodels.tsa.arima.model import ARIMA\n",
    "from statsmodels.tsa.statespace.sarimax import SARIMAX\n",
    "from pmdarima import auto_arima\n",
    "\n",
    "import warnings\n",
    "from sklearn.utils.testing import ignore_warnings\n",
    "from sklearn.exceptions import ConvergenceWarning\n",
    "warnings.filterwarnings('ignore')"
   ]
  },
  {
   "cell_type": "code",
   "execution_count": 3,
   "metadata": {},
   "outputs": [
    {
     "data": {
      "text/html": [
       "<div>\n",
       "<style scoped>\n",
       "    .dataframe tbody tr th:only-of-type {\n",
       "        vertical-align: middle;\n",
       "    }\n",
       "\n",
       "    .dataframe tbody tr th {\n",
       "        vertical-align: top;\n",
       "    }\n",
       "\n",
       "    .dataframe thead th {\n",
       "        text-align: right;\n",
       "    }\n",
       "</style>\n",
       "<table border=\"1\" class=\"dataframe\">\n",
       "  <thead>\n",
       "    <tr style=\"text-align: right;\">\n",
       "      <th></th>\n",
       "      <th>RegionID</th>\n",
       "      <th>SizeRank</th>\n",
       "      <th>RegionName</th>\n",
       "      <th>RegionType</th>\n",
       "      <th>StateName</th>\n",
       "      <th>State</th>\n",
       "      <th>City</th>\n",
       "      <th>Metro</th>\n",
       "      <th>CountyName</th>\n",
       "      <th>2000-01-31</th>\n",
       "      <th>...</th>\n",
       "      <th>2021-11-30</th>\n",
       "      <th>2021-12-31</th>\n",
       "      <th>2022-01-31</th>\n",
       "      <th>2022-02-28</th>\n",
       "      <th>2022-03-31</th>\n",
       "      <th>2022-04-30</th>\n",
       "      <th>2022-05-31</th>\n",
       "      <th>2022-06-30</th>\n",
       "      <th>2022-07-31</th>\n",
       "      <th>2022-08-31</th>\n",
       "    </tr>\n",
       "  </thead>\n",
       "  <tbody>\n",
       "    <tr>\n",
       "      <th>0</th>\n",
       "      <td>91940</td>\n",
       "      <td>0</td>\n",
       "      <td>77449</td>\n",
       "      <td>zip</td>\n",
       "      <td>TX</td>\n",
       "      <td>TX</td>\n",
       "      <td>NaN</td>\n",
       "      <td>Houston-The Woodlands-Sugar Land, TX</td>\n",
       "      <td>Harris County</td>\n",
       "      <td>96603.0</td>\n",
       "      <td>...</td>\n",
       "      <td>232376.0</td>\n",
       "      <td>236021.0</td>\n",
       "      <td>239693.0</td>\n",
       "      <td>244103.0</td>\n",
       "      <td>249528.0</td>\n",
       "      <td>255561.0</td>\n",
       "      <td>261406.0</td>\n",
       "      <td>266140.0</td>\n",
       "      <td>269363.0</td>\n",
       "      <td>271087.0</td>\n",
       "    </tr>\n",
       "    <tr>\n",
       "      <th>1</th>\n",
       "      <td>91982</td>\n",
       "      <td>1</td>\n",
       "      <td>77494</td>\n",
       "      <td>zip</td>\n",
       "      <td>TX</td>\n",
       "      <td>TX</td>\n",
       "      <td>NaN</td>\n",
       "      <td>Houston-The Woodlands-Sugar Land, TX</td>\n",
       "      <td>Fort Bend County</td>\n",
       "      <td>163540.0</td>\n",
       "      <td>...</td>\n",
       "      <td>330128.0</td>\n",
       "      <td>334969.0</td>\n",
       "      <td>339733.0</td>\n",
       "      <td>346806.0</td>\n",
       "      <td>355476.0</td>\n",
       "      <td>365971.0</td>\n",
       "      <td>374539.0</td>\n",
       "      <td>379908.0</td>\n",
       "      <td>381471.0</td>\n",
       "      <td>380327.0</td>\n",
       "    </tr>\n",
       "    <tr>\n",
       "      <th>2</th>\n",
       "      <td>93144</td>\n",
       "      <td>2</td>\n",
       "      <td>79936</td>\n",
       "      <td>zip</td>\n",
       "      <td>TX</td>\n",
       "      <td>TX</td>\n",
       "      <td>El Paso</td>\n",
       "      <td>El Paso, TX</td>\n",
       "      <td>El Paso County</td>\n",
       "      <td>87170.0</td>\n",
       "      <td>...</td>\n",
       "      <td>167760.0</td>\n",
       "      <td>169442.0</td>\n",
       "      <td>171444.0</td>\n",
       "      <td>173448.0</td>\n",
       "      <td>175569.0</td>\n",
       "      <td>178832.0</td>\n",
       "      <td>182377.0</td>\n",
       "      <td>185780.0</td>\n",
       "      <td>188090.0</td>\n",
       "      <td>189856.0</td>\n",
       "    </tr>\n",
       "    <tr>\n",
       "      <th>3</th>\n",
       "      <td>62080</td>\n",
       "      <td>3</td>\n",
       "      <td>11368</td>\n",
       "      <td>zip</td>\n",
       "      <td>NY</td>\n",
       "      <td>NY</td>\n",
       "      <td>New York</td>\n",
       "      <td>New York-Newark-Jersey City, NY-NJ-PA</td>\n",
       "      <td>Queens County</td>\n",
       "      <td>324450.0</td>\n",
       "      <td>...</td>\n",
       "      <td>814606.0</td>\n",
       "      <td>815163.0</td>\n",
       "      <td>817786.0</td>\n",
       "      <td>818496.0</td>\n",
       "      <td>823195.0</td>\n",
       "      <td>827059.0</td>\n",
       "      <td>836542.0</td>\n",
       "      <td>842837.0</td>\n",
       "      <td>849412.0</td>\n",
       "      <td>852484.0</td>\n",
       "    </tr>\n",
       "    <tr>\n",
       "      <th>4</th>\n",
       "      <td>62093</td>\n",
       "      <td>4</td>\n",
       "      <td>11385</td>\n",
       "      <td>zip</td>\n",
       "      <td>NY</td>\n",
       "      <td>NY</td>\n",
       "      <td>New York</td>\n",
       "      <td>New York-Newark-Jersey City, NY-NJ-PA</td>\n",
       "      <td>Queens County</td>\n",
       "      <td>279395.0</td>\n",
       "      <td>...</td>\n",
       "      <td>749033.0</td>\n",
       "      <td>750202.0</td>\n",
       "      <td>754601.0</td>\n",
       "      <td>758353.0</td>\n",
       "      <td>764191.0</td>\n",
       "      <td>766694.0</td>\n",
       "      <td>772804.0</td>\n",
       "      <td>778368.0</td>\n",
       "      <td>783167.0</td>\n",
       "      <td>785138.0</td>\n",
       "    </tr>\n",
       "  </tbody>\n",
       "</table>\n",
       "<p>5 rows × 281 columns</p>\n",
       "</div>"
      ],
      "text/plain": [
       "   RegionID  SizeRank  RegionName RegionType StateName State      City  \\\n",
       "0     91940         0       77449        zip        TX    TX       NaN   \n",
       "1     91982         1       77494        zip        TX    TX       NaN   \n",
       "2     93144         2       79936        zip        TX    TX   El Paso   \n",
       "3     62080         3       11368        zip        NY    NY  New York   \n",
       "4     62093         4       11385        zip        NY    NY  New York   \n",
       "\n",
       "                                   Metro        CountyName  2000-01-31  ...  \\\n",
       "0   Houston-The Woodlands-Sugar Land, TX     Harris County     96603.0  ...   \n",
       "1   Houston-The Woodlands-Sugar Land, TX  Fort Bend County    163540.0  ...   \n",
       "2                            El Paso, TX    El Paso County     87170.0  ...   \n",
       "3  New York-Newark-Jersey City, NY-NJ-PA     Queens County    324450.0  ...   \n",
       "4  New York-Newark-Jersey City, NY-NJ-PA     Queens County    279395.0  ...   \n",
       "\n",
       "   2021-11-30  2021-12-31  2022-01-31  2022-02-28  2022-03-31  2022-04-30  \\\n",
       "0    232376.0    236021.0    239693.0    244103.0    249528.0    255561.0   \n",
       "1    330128.0    334969.0    339733.0    346806.0    355476.0    365971.0   \n",
       "2    167760.0    169442.0    171444.0    173448.0    175569.0    178832.0   \n",
       "3    814606.0    815163.0    817786.0    818496.0    823195.0    827059.0   \n",
       "4    749033.0    750202.0    754601.0    758353.0    764191.0    766694.0   \n",
       "\n",
       "   2022-05-31  2022-06-30  2022-07-31  2022-08-31  \n",
       "0    261406.0    266140.0    269363.0    271087.0  \n",
       "1    374539.0    379908.0    381471.0    380327.0  \n",
       "2    182377.0    185780.0    188090.0    189856.0  \n",
       "3    836542.0    842837.0    849412.0    852484.0  \n",
       "4    772804.0    778368.0    783167.0    785138.0  \n",
       "\n",
       "[5 rows x 281 columns]"
      ]
     },
     "execution_count": 3,
     "metadata": {},
     "output_type": "execute_result"
    }
   ],
   "source": [
    "data = pd.read_csv(\"Data/Zip_zhvi_bdrmcnt_3_uc_sfrcondo_tier_0.33_0.67_sm_sa_month.csv\")\n",
    "data.head()"
   ]
  },
  {
   "cell_type": "markdown",
   "metadata": {},
   "source": [
    "Drop all states outside of Texas, and display information regarding columns. "
   ]
  },
  {
   "cell_type": "code",
   "execution_count": 4,
   "metadata": {},
   "outputs": [
    {
     "name": "stdout",
     "output_type": "stream",
     "text": [
      "<class 'pandas.core.frame.DataFrame'>\n",
      "Int64Index: 1293 entries, 0 to 23400\n",
      "Data columns (total 281 columns):\n",
      " #   Column      Dtype  \n",
      "---  ------      -----  \n",
      " 0   RegionID    int64  \n",
      " 1   SizeRank    int64  \n",
      " 2   RegionName  int64  \n",
      " 3   RegionType  object \n",
      " 4   StateName   object \n",
      " 5   State       object \n",
      " 6   City        object \n",
      " 7   Metro       object \n",
      " 8   CountyName  object \n",
      " 9   2000-01-31  float64\n",
      " 10  2000-02-29  float64\n",
      " 11  2000-03-31  float64\n",
      " 12  2000-04-30  float64\n",
      " 13  2000-05-31  float64\n",
      " 14  2000-06-30  float64\n",
      " 15  2000-07-31  float64\n",
      " 16  2000-08-31  float64\n",
      " 17  2000-09-30  float64\n",
      " 18  2000-10-31  float64\n",
      " 19  2000-11-30  float64\n",
      " 20  2000-12-31  float64\n",
      " 21  2001-01-31  float64\n",
      " 22  2001-02-28  float64\n",
      " 23  2001-03-31  float64\n",
      " 24  2001-04-30  float64\n",
      " 25  2001-05-31  float64\n",
      " 26  2001-06-30  float64\n",
      " 27  2001-07-31  float64\n",
      " 28  2001-08-31  float64\n",
      " 29  2001-09-30  float64\n",
      " 30  2001-10-31  float64\n",
      " 31  2001-11-30  float64\n",
      " 32  2001-12-31  float64\n",
      " 33  2002-01-31  float64\n",
      " 34  2002-02-28  float64\n",
      " 35  2002-03-31  float64\n",
      " 36  2002-04-30  float64\n",
      " 37  2002-05-31  float64\n",
      " 38  2002-06-30  float64\n",
      " 39  2002-07-31  float64\n",
      " 40  2002-08-31  float64\n",
      " 41  2002-09-30  float64\n",
      " 42  2002-10-31  float64\n",
      " 43  2002-11-30  float64\n",
      " 44  2002-12-31  float64\n",
      " 45  2003-01-31  float64\n",
      " 46  2003-02-28  float64\n",
      " 47  2003-03-31  float64\n",
      " 48  2003-04-30  float64\n",
      " 49  2003-05-31  float64\n",
      " 50  2003-06-30  float64\n",
      " 51  2003-07-31  float64\n",
      " 52  2003-08-31  float64\n",
      " 53  2003-09-30  float64\n",
      " 54  2003-10-31  float64\n",
      " 55  2003-11-30  float64\n",
      " 56  2003-12-31  float64\n",
      " 57  2004-01-31  float64\n",
      " 58  2004-02-29  float64\n",
      " 59  2004-03-31  float64\n",
      " 60  2004-04-30  float64\n",
      " 61  2004-05-31  float64\n",
      " 62  2004-06-30  float64\n",
      " 63  2004-07-31  float64\n",
      " 64  2004-08-31  float64\n",
      " 65  2004-09-30  float64\n",
      " 66  2004-10-31  float64\n",
      " 67  2004-11-30  float64\n",
      " 68  2004-12-31  float64\n",
      " 69  2005-01-31  float64\n",
      " 70  2005-02-28  float64\n",
      " 71  2005-03-31  float64\n",
      " 72  2005-04-30  float64\n",
      " 73  2005-05-31  float64\n",
      " 74  2005-06-30  float64\n",
      " 75  2005-07-31  float64\n",
      " 76  2005-08-31  float64\n",
      " 77  2005-09-30  float64\n",
      " 78  2005-10-31  float64\n",
      " 79  2005-11-30  float64\n",
      " 80  2005-12-31  float64\n",
      " 81  2006-01-31  float64\n",
      " 82  2006-02-28  float64\n",
      " 83  2006-03-31  float64\n",
      " 84  2006-04-30  float64\n",
      " 85  2006-05-31  float64\n",
      " 86  2006-06-30  float64\n",
      " 87  2006-07-31  float64\n",
      " 88  2006-08-31  float64\n",
      " 89  2006-09-30  float64\n",
      " 90  2006-10-31  float64\n",
      " 91  2006-11-30  float64\n",
      " 92  2006-12-31  float64\n",
      " 93  2007-01-31  float64\n",
      " 94  2007-02-28  float64\n",
      " 95  2007-03-31  float64\n",
      " 96  2007-04-30  float64\n",
      " 97  2007-05-31  float64\n",
      " 98  2007-06-30  float64\n",
      " 99  2007-07-31  float64\n",
      " 100 2007-08-31  float64\n",
      " 101 2007-09-30  float64\n",
      " 102 2007-10-31  float64\n",
      " 103 2007-11-30  float64\n",
      " 104 2007-12-31  float64\n",
      " 105 2008-01-31  float64\n",
      " 106 2008-02-29  float64\n",
      " 107 2008-03-31  float64\n",
      " 108 2008-04-30  float64\n",
      " 109 2008-05-31  float64\n",
      " 110 2008-06-30  float64\n",
      " 111 2008-07-31  float64\n",
      " 112 2008-08-31  float64\n",
      " 113 2008-09-30  float64\n",
      " 114 2008-10-31  float64\n",
      " 115 2008-11-30  float64\n",
      " 116 2008-12-31  float64\n",
      " 117 2009-01-31  float64\n",
      " 118 2009-02-28  float64\n",
      " 119 2009-03-31  float64\n",
      " 120 2009-04-30  float64\n",
      " 121 2009-05-31  float64\n",
      " 122 2009-06-30  float64\n",
      " 123 2009-07-31  float64\n",
      " 124 2009-08-31  float64\n",
      " 125 2009-09-30  float64\n",
      " 126 2009-10-31  float64\n",
      " 127 2009-11-30  float64\n",
      " 128 2009-12-31  float64\n",
      " 129 2010-01-31  float64\n",
      " 130 2010-02-28  float64\n",
      " 131 2010-03-31  float64\n",
      " 132 2010-04-30  float64\n",
      " 133 2010-05-31  float64\n",
      " 134 2010-06-30  float64\n",
      " 135 2010-07-31  float64\n",
      " 136 2010-08-31  float64\n",
      " 137 2010-09-30  float64\n",
      " 138 2010-10-31  float64\n",
      " 139 2010-11-30  float64\n",
      " 140 2010-12-31  float64\n",
      " 141 2011-01-31  float64\n",
      " 142 2011-02-28  float64\n",
      " 143 2011-03-31  float64\n",
      " 144 2011-04-30  float64\n",
      " 145 2011-05-31  float64\n",
      " 146 2011-06-30  float64\n",
      " 147 2011-07-31  float64\n",
      " 148 2011-08-31  float64\n",
      " 149 2011-09-30  float64\n",
      " 150 2011-10-31  float64\n",
      " 151 2011-11-30  float64\n",
      " 152 2011-12-31  float64\n",
      " 153 2012-01-31  float64\n",
      " 154 2012-02-29  float64\n",
      " 155 2012-03-31  float64\n",
      " 156 2012-04-30  float64\n",
      " 157 2012-05-31  float64\n",
      " 158 2012-06-30  float64\n",
      " 159 2012-07-31  float64\n",
      " 160 2012-08-31  float64\n",
      " 161 2012-09-30  float64\n",
      " 162 2012-10-31  float64\n",
      " 163 2012-11-30  float64\n",
      " 164 2012-12-31  float64\n",
      " 165 2013-01-31  float64\n",
      " 166 2013-02-28  float64\n",
      " 167 2013-03-31  float64\n",
      " 168 2013-04-30  float64\n",
      " 169 2013-05-31  float64\n",
      " 170 2013-06-30  float64\n",
      " 171 2013-07-31  float64\n",
      " 172 2013-08-31  float64\n",
      " 173 2013-09-30  float64\n",
      " 174 2013-10-31  float64\n",
      " 175 2013-11-30  float64\n",
      " 176 2013-12-31  float64\n",
      " 177 2014-01-31  float64\n",
      " 178 2014-02-28  float64\n",
      " 179 2014-03-31  float64\n",
      " 180 2014-04-30  float64\n",
      " 181 2014-05-31  float64\n",
      " 182 2014-06-30  float64\n",
      " 183 2014-07-31  float64\n",
      " 184 2014-08-31  float64\n",
      " 185 2014-09-30  float64\n",
      " 186 2014-10-31  float64\n",
      " 187 2014-11-30  float64\n",
      " 188 2014-12-31  float64\n",
      " 189 2015-01-31  float64\n",
      " 190 2015-02-28  float64\n",
      " 191 2015-03-31  float64\n",
      " 192 2015-04-30  float64\n",
      " 193 2015-05-31  float64\n",
      " 194 2015-06-30  float64\n",
      " 195 2015-07-31  float64\n",
      " 196 2015-08-31  float64\n",
      " 197 2015-09-30  float64\n",
      " 198 2015-10-31  float64\n",
      " 199 2015-11-30  float64\n",
      " 200 2015-12-31  float64\n",
      " 201 2016-01-31  float64\n",
      " 202 2016-02-29  float64\n",
      " 203 2016-03-31  float64\n",
      " 204 2016-04-30  float64\n",
      " 205 2016-05-31  float64\n",
      " 206 2016-06-30  float64\n",
      " 207 2016-07-31  float64\n",
      " 208 2016-08-31  float64\n",
      " 209 2016-09-30  float64\n",
      " 210 2016-10-31  float64\n",
      " 211 2016-11-30  float64\n",
      " 212 2016-12-31  float64\n",
      " 213 2017-01-31  float64\n",
      " 214 2017-02-28  float64\n",
      " 215 2017-03-31  float64\n",
      " 216 2017-04-30  float64\n",
      " 217 2017-05-31  float64\n",
      " 218 2017-06-30  float64\n",
      " 219 2017-07-31  float64\n",
      " 220 2017-08-31  float64\n",
      " 221 2017-09-30  float64\n",
      " 222 2017-10-31  float64\n",
      " 223 2017-11-30  float64\n",
      " 224 2017-12-31  float64\n",
      " 225 2018-01-31  float64\n",
      " 226 2018-02-28  float64\n",
      " 227 2018-03-31  float64\n",
      " 228 2018-04-30  float64\n",
      " 229 2018-05-31  float64\n",
      " 230 2018-06-30  float64\n",
      " 231 2018-07-31  float64\n",
      " 232 2018-08-31  float64\n",
      " 233 2018-09-30  float64\n",
      " 234 2018-10-31  float64\n",
      " 235 2018-11-30  float64\n",
      " 236 2018-12-31  float64\n",
      " 237 2019-01-31  float64\n",
      " 238 2019-02-28  float64\n",
      " 239 2019-03-31  float64\n",
      " 240 2019-04-30  float64\n",
      " 241 2019-05-31  float64\n",
      " 242 2019-06-30  float64\n",
      " 243 2019-07-31  float64\n",
      " 244 2019-08-31  float64\n",
      " 245 2019-09-30  float64\n",
      " 246 2019-10-31  float64\n",
      " 247 2019-11-30  float64\n",
      " 248 2019-12-31  float64\n",
      " 249 2020-01-31  float64\n",
      " 250 2020-02-29  float64\n",
      " 251 2020-03-31  float64\n",
      " 252 2020-04-30  float64\n",
      " 253 2020-05-31  float64\n",
      " 254 2020-06-30  float64\n",
      " 255 2020-07-31  float64\n",
      " 256 2020-08-31  float64\n",
      " 257 2020-09-30  float64\n",
      " 258 2020-10-31  float64\n",
      " 259 2020-11-30  float64\n",
      " 260 2020-12-31  float64\n",
      " 261 2021-01-31  float64\n",
      " 262 2021-02-28  float64\n",
      " 263 2021-03-31  float64\n",
      " 264 2021-04-30  float64\n",
      " 265 2021-05-31  float64\n",
      " 266 2021-06-30  float64\n",
      " 267 2021-07-31  float64\n",
      " 268 2021-08-31  float64\n",
      " 269 2021-09-30  float64\n",
      " 270 2021-10-31  float64\n",
      " 271 2021-11-30  float64\n",
      " 272 2021-12-31  float64\n",
      " 273 2022-01-31  float64\n",
      " 274 2022-02-28  float64\n",
      " 275 2022-03-31  float64\n",
      " 276 2022-04-30  float64\n",
      " 277 2022-05-31  float64\n",
      " 278 2022-06-30  float64\n",
      " 279 2022-07-31  float64\n",
      " 280 2022-08-31  float64\n",
      "dtypes: float64(272), int64(3), object(6)\n",
      "memory usage: 2.8+ MB\n"
     ]
    }
   ],
   "source": [
    "data = data[data['State'] == 'TX']\n",
    "data.head()\n",
    "data.info(verbose=True)"
   ]
  },
  {
   "cell_type": "markdown",
   "metadata": {},
   "source": [
    "We will drop 'StateName' and 'RegionType' due to redundancy, and 'SizeRank' due to it being irrelevant for analysis. "
   ]
  },
  {
   "cell_type": "code",
   "execution_count": 5,
   "metadata": {},
   "outputs": [],
   "source": [
    "# Drop unnecessary columns \n",
    "data = data.drop(['RegionID', 'StateName', 'RegionType', 'SizeRank'], axis=1)\n",
    "\n",
    "# Change name of 'RegionName' to 'ZipCode'\n",
    "data = data.rename(columns={'RegionName': 'ZipCode'})"
   ]
  },
  {
   "cell_type": "markdown",
   "metadata": {},
   "source": [
    "We can see that there are 101,792 missing values within the dataset. "
   ]
  },
  {
   "cell_type": "code",
   "execution_count": 6,
   "metadata": {},
   "outputs": [
    {
     "data": {
      "text/plain": [
       "101792"
      ]
     },
     "execution_count": 6,
     "metadata": {},
     "output_type": "execute_result"
    }
   ],
   "source": [
    "data.isna().sum().sum()"
   ]
  },
  {
   "cell_type": "markdown",
   "metadata": {},
   "source": [
    "The data has 1,293 rows and 279 columns."
   ]
  },
  {
   "cell_type": "code",
   "execution_count": 7,
   "metadata": {},
   "outputs": [
    {
     "data": {
      "text/plain": [
       "(1293, 277)"
      ]
     },
     "execution_count": 7,
     "metadata": {},
     "output_type": "execute_result"
    }
   ],
   "source": [
    "data.shape"
   ]
  },
  {
   "cell_type": "markdown",
   "metadata": {},
   "source": [
    "## Analyze 'ZipCode'"
   ]
  },
  {
   "cell_type": "markdown",
   "metadata": {},
   "source": [
    "Next we will look at RegionName, this is the zip code. We can see that there are 419 unique values. "
   ]
  },
  {
   "cell_type": "code",
   "execution_count": 8,
   "metadata": {},
   "outputs": [
    {
     "data": {
      "text/plain": [
       "77880    1\n",
       "76437    1\n",
       "76476    1\n",
       "78526    1\n",
       "76085    1\n",
       "        ..\n",
       "78933    1\n",
       "79226    1\n",
       "77657    1\n",
       "75134    1\n",
       "77563    1\n",
       "Name: ZipCode, Length: 1293, dtype: int64"
      ]
     },
     "execution_count": 8,
     "metadata": {},
     "output_type": "execute_result"
    }
   ],
   "source": [
    "data.ZipCode.value_counts() "
   ]
  },
  {
   "cell_type": "markdown",
   "metadata": {},
   "source": [
    "All zipcodes are unique. I will change the astype to string."
   ]
  },
  {
   "cell_type": "code",
   "execution_count": 9,
   "metadata": {},
   "outputs": [],
   "source": [
    "data.ZipCode = data.ZipCode.astype('string')"
   ]
  },
  {
   "cell_type": "code",
   "execution_count": 10,
   "metadata": {},
   "outputs": [
    {
     "data": {
      "text/html": [
       "<div>\n",
       "<style scoped>\n",
       "    .dataframe tbody tr th:only-of-type {\n",
       "        vertical-align: middle;\n",
       "    }\n",
       "\n",
       "    .dataframe tbody tr th {\n",
       "        vertical-align: top;\n",
       "    }\n",
       "\n",
       "    .dataframe thead th {\n",
       "        text-align: right;\n",
       "    }\n",
       "</style>\n",
       "<table border=\"1\" class=\"dataframe\">\n",
       "  <thead>\n",
       "    <tr style=\"text-align: right;\">\n",
       "      <th></th>\n",
       "      <th>ZipCode</th>\n",
       "      <th>State</th>\n",
       "    </tr>\n",
       "  </thead>\n",
       "  <tbody>\n",
       "    <tr>\n",
       "      <th>7529</th>\n",
       "      <td>75001</td>\n",
       "      <td>TX</td>\n",
       "    </tr>\n",
       "    <tr>\n",
       "      <th>142</th>\n",
       "      <td>75002</td>\n",
       "      <td>TX</td>\n",
       "    </tr>\n",
       "    <tr>\n",
       "      <th>768</th>\n",
       "      <td>75006</td>\n",
       "      <td>TX</td>\n",
       "    </tr>\n",
       "    <tr>\n",
       "      <th>571</th>\n",
       "      <td>75007</td>\n",
       "      <td>TX</td>\n",
       "    </tr>\n",
       "    <tr>\n",
       "      <th>6689</th>\n",
       "      <td>75009</td>\n",
       "      <td>TX</td>\n",
       "    </tr>\n",
       "    <tr>\n",
       "      <th>...</th>\n",
       "      <td>...</td>\n",
       "      <td>...</td>\n",
       "    </tr>\n",
       "    <tr>\n",
       "      <th>3745</th>\n",
       "      <td>79932</td>\n",
       "      <td>TX</td>\n",
       "    </tr>\n",
       "    <tr>\n",
       "      <th>4607</th>\n",
       "      <td>79934</td>\n",
       "      <td>TX</td>\n",
       "    </tr>\n",
       "    <tr>\n",
       "      <th>7240</th>\n",
       "      <td>79935</td>\n",
       "      <td>TX</td>\n",
       "    </tr>\n",
       "    <tr>\n",
       "      <th>2</th>\n",
       "      <td>79936</td>\n",
       "      <td>TX</td>\n",
       "    </tr>\n",
       "    <tr>\n",
       "      <th>97</th>\n",
       "      <td>79938</td>\n",
       "      <td>TX</td>\n",
       "    </tr>\n",
       "  </tbody>\n",
       "</table>\n",
       "<p>1293 rows × 2 columns</p>\n",
       "</div>"
      ],
      "text/plain": [
       "     ZipCode State\n",
       "7529   75001    TX\n",
       "142    75002    TX\n",
       "768    75006    TX\n",
       "571    75007    TX\n",
       "6689   75009    TX\n",
       "...      ...   ...\n",
       "3745   79932    TX\n",
       "4607   79934    TX\n",
       "7240   79935    TX\n",
       "2      79936    TX\n",
       "97     79938    TX\n",
       "\n",
       "[1293 rows x 2 columns]"
      ]
     },
     "execution_count": 10,
     "metadata": {},
     "output_type": "execute_result"
    }
   ],
   "source": [
    "data[['ZipCode', 'State']].sort_values(by=['ZipCode'])"
   ]
  },
  {
   "cell_type": "markdown",
   "metadata": {},
   "source": [
    "## Analyze 'City'"
   ]
  },
  {
   "cell_type": "code",
   "execution_count": 11,
   "metadata": {},
   "outputs": [
    {
     "data": {
      "text/plain": [
       "701"
      ]
     },
     "execution_count": 11,
     "metadata": {},
     "output_type": "execute_result"
    }
   ],
   "source": [
    "data.City.nunique()"
   ]
  },
  {
   "cell_type": "code",
   "execution_count": 12,
   "metadata": {},
   "outputs": [
    {
     "data": {
      "text/plain": [
       "102"
      ]
     },
     "execution_count": 12,
     "metadata": {},
     "output_type": "execute_result"
    }
   ],
   "source": [
    "data.City.isna().sum()"
   ]
  },
  {
   "cell_type": "code",
   "execution_count": 13,
   "metadata": {},
   "outputs": [],
   "source": [
    "data.City.fillna('None', inplace=True)"
   ]
  },
  {
   "cell_type": "markdown",
   "metadata": {},
   "source": [
    "## Analyze 'Metro'"
   ]
  },
  {
   "cell_type": "markdown",
   "metadata": {},
   "source": [
    "Fillna with None"
   ]
  },
  {
   "cell_type": "code",
   "execution_count": 14,
   "metadata": {},
   "outputs": [
    {
     "name": "stdout",
     "output_type": "stream",
     "text": [
      "Dallas-Fort Worth-Arlington, TX         249\n",
      "Houston-The Woodlands-Sugar Land, TX    213\n",
      "San Antonio-New Braunfels, TX            94\n",
      "Austin-Round Rock-Georgetown, TX         83\n",
      "El Paso, TX                              26\n",
      "                                       ... \n",
      "Pearsall, TX                              1\n",
      "Lamesa, TX                                1\n",
      "Vernon, TX                                1\n",
      "Pecos, TX                                 1\n",
      "Beeville, TX                              1\n",
      "Name: Metro, Length: 71, dtype: int64\n",
      "71\n"
     ]
    }
   ],
   "source": [
    "print(data.Metro.value_counts())\n",
    "print(data.Metro.nunique())"
   ]
  },
  {
   "cell_type": "code",
   "execution_count": 15,
   "metadata": {},
   "outputs": [],
   "source": [
    "data.Metro.fillna('None', inplace=True)"
   ]
  },
  {
   "cell_type": "code",
   "execution_count": 16,
   "metadata": {},
   "outputs": [
    {
     "data": {
      "text/plain": [
       "Dallas-Fort Worth-Arlington, TX         249\n",
       "Houston-The Woodlands-Sugar Land, TX    213\n",
       "None                                    189\n",
       "San Antonio-New Braunfels, TX            94\n",
       "Austin-Round Rock-Georgetown, TX         83\n",
       "                                       ... \n",
       "Eagle Pass, TX                            1\n",
       "Raymondville, TX                          1\n",
       "Uvalde, TX                                1\n",
       "Andrews, TX                               1\n",
       "Beeville, TX                              1\n",
       "Name: Metro, Length: 72, dtype: int64"
      ]
     },
     "execution_count": 16,
     "metadata": {},
     "output_type": "execute_result"
    }
   ],
   "source": [
    "data.Metro.value_counts()"
   ]
  },
  {
   "cell_type": "markdown",
   "metadata": {},
   "source": [
    "## Analyze 'CountyName'"
   ]
  },
  {
   "cell_type": "code",
   "execution_count": 17,
   "metadata": {},
   "outputs": [
    {
     "data": {
      "text/plain": [
       "Harris County     129\n",
       "Dallas County      77\n",
       "Bexar County       65\n",
       "Tarrant County     63\n",
       "Travis County      45\n",
       "                 ... \n",
       "Mills County        1\n",
       "Bee County          1\n",
       "Kinney County       1\n",
       "Brooks County       1\n",
       "Scurry County       1\n",
       "Name: CountyName, Length: 206, dtype: int64"
      ]
     },
     "execution_count": 17,
     "metadata": {},
     "output_type": "execute_result"
    }
   ],
   "source": [
    "data.CountyName.value_counts()"
   ]
  },
  {
   "cell_type": "code",
   "execution_count": 18,
   "metadata": {},
   "outputs": [
    {
     "data": {
      "text/plain": [
       "ZipCode        0\n",
       "State          0\n",
       "City           0\n",
       "Metro          0\n",
       "CountyName     0\n",
       "              ..\n",
       "2022-04-30    16\n",
       "2022-05-31    13\n",
       "2022-06-30     6\n",
       "2022-07-31     4\n",
       "2022-08-31     0\n",
       "Length: 277, dtype: int64"
      ]
     },
     "execution_count": 18,
     "metadata": {},
     "output_type": "execute_result"
    }
   ],
   "source": [
    "data.isna().sum()"
   ]
  },
  {
   "cell_type": "code",
   "execution_count": 19,
   "metadata": {},
   "outputs": [],
   "source": [
    "data.CountyName.fillna('None', inplace=True)"
   ]
  },
  {
   "cell_type": "markdown",
   "metadata": {},
   "source": [
    "## Drop sales data that have missing values"
   ]
  },
  {
   "cell_type": "markdown",
   "metadata": {},
   "source": [
    "We will need to drop all sales data that are missing sales values since we will not be able to use them for analysis. "
   ]
  },
  {
   "cell_type": "code",
   "execution_count": 20,
   "metadata": {},
   "outputs": [
    {
     "data": {
      "text/html": [
       "<div>\n",
       "<style scoped>\n",
       "    .dataframe tbody tr th:only-of-type {\n",
       "        vertical-align: middle;\n",
       "    }\n",
       "\n",
       "    .dataframe tbody tr th {\n",
       "        vertical-align: top;\n",
       "    }\n",
       "\n",
       "    .dataframe thead th {\n",
       "        text-align: right;\n",
       "    }\n",
       "</style>\n",
       "<table border=\"1\" class=\"dataframe\">\n",
       "  <thead>\n",
       "    <tr style=\"text-align: right;\">\n",
       "      <th></th>\n",
       "      <th>ZipCode</th>\n",
       "      <th>State</th>\n",
       "      <th>City</th>\n",
       "      <th>Metro</th>\n",
       "      <th>CountyName</th>\n",
       "      <th>2000-01-31</th>\n",
       "      <th>2000-02-29</th>\n",
       "      <th>2000-03-31</th>\n",
       "      <th>2000-04-30</th>\n",
       "      <th>2000-05-31</th>\n",
       "      <th>...</th>\n",
       "      <th>2021-11-30</th>\n",
       "      <th>2021-12-31</th>\n",
       "      <th>2022-01-31</th>\n",
       "      <th>2022-02-28</th>\n",
       "      <th>2022-03-31</th>\n",
       "      <th>2022-04-30</th>\n",
       "      <th>2022-05-31</th>\n",
       "      <th>2022-06-30</th>\n",
       "      <th>2022-07-31</th>\n",
       "      <th>2022-08-31</th>\n",
       "    </tr>\n",
       "  </thead>\n",
       "  <tbody>\n",
       "    <tr>\n",
       "      <th>32</th>\n",
       "      <td>78521</td>\n",
       "      <td>TX</td>\n",
       "      <td>Brownsville</td>\n",
       "      <td>Brownsville-Harlingen, TX</td>\n",
       "      <td>Cameron County</td>\n",
       "      <td>NaN</td>\n",
       "      <td>NaN</td>\n",
       "      <td>NaN</td>\n",
       "      <td>NaN</td>\n",
       "      <td>NaN</td>\n",
       "      <td>...</td>\n",
       "      <td>141332.0</td>\n",
       "      <td>143702.0</td>\n",
       "      <td>145785.0</td>\n",
       "      <td>148925.0</td>\n",
       "      <td>151875.0</td>\n",
       "      <td>155071.0</td>\n",
       "      <td>157557.0</td>\n",
       "      <td>160752.0</td>\n",
       "      <td>163829.0</td>\n",
       "      <td>167074.0</td>\n",
       "    </tr>\n",
       "    <tr>\n",
       "      <th>50</th>\n",
       "      <td>77573</td>\n",
       "      <td>TX</td>\n",
       "      <td>League City</td>\n",
       "      <td>Houston-The Woodlands-Sugar Land, TX</td>\n",
       "      <td>Galveston County</td>\n",
       "      <td>NaN</td>\n",
       "      <td>NaN</td>\n",
       "      <td>NaN</td>\n",
       "      <td>NaN</td>\n",
       "      <td>NaN</td>\n",
       "      <td>...</td>\n",
       "      <td>290825.0</td>\n",
       "      <td>294876.0</td>\n",
       "      <td>297864.0</td>\n",
       "      <td>301136.0</td>\n",
       "      <td>305735.0</td>\n",
       "      <td>312295.0</td>\n",
       "      <td>317528.0</td>\n",
       "      <td>320674.0</td>\n",
       "      <td>321755.0</td>\n",
       "      <td>323265.0</td>\n",
       "    </tr>\n",
       "    <tr>\n",
       "      <th>86</th>\n",
       "      <td>78666</td>\n",
       "      <td>TX</td>\n",
       "      <td>San Marcos</td>\n",
       "      <td>Austin-Round Rock-Georgetown, TX</td>\n",
       "      <td>Hays County</td>\n",
       "      <td>NaN</td>\n",
       "      <td>NaN</td>\n",
       "      <td>NaN</td>\n",
       "      <td>NaN</td>\n",
       "      <td>NaN</td>\n",
       "      <td>...</td>\n",
       "      <td>347549.0</td>\n",
       "      <td>354405.0</td>\n",
       "      <td>362174.0</td>\n",
       "      <td>372118.0</td>\n",
       "      <td>378769.0</td>\n",
       "      <td>385599.0</td>\n",
       "      <td>387554.0</td>\n",
       "      <td>389007.0</td>\n",
       "      <td>386720.0</td>\n",
       "      <td>383152.0</td>\n",
       "    </tr>\n",
       "    <tr>\n",
       "      <th>87</th>\n",
       "      <td>78572</td>\n",
       "      <td>TX</td>\n",
       "      <td>Mission</td>\n",
       "      <td>McAllen-Edinburg-Mission, TX</td>\n",
       "      <td>Hidalgo County</td>\n",
       "      <td>NaN</td>\n",
       "      <td>NaN</td>\n",
       "      <td>NaN</td>\n",
       "      <td>NaN</td>\n",
       "      <td>NaN</td>\n",
       "      <td>...</td>\n",
       "      <td>155467.0</td>\n",
       "      <td>157316.0</td>\n",
       "      <td>159385.0</td>\n",
       "      <td>161236.0</td>\n",
       "      <td>163578.0</td>\n",
       "      <td>165853.0</td>\n",
       "      <td>168492.0</td>\n",
       "      <td>171377.0</td>\n",
       "      <td>174236.0</td>\n",
       "      <td>177440.0</td>\n",
       "    </tr>\n",
       "    <tr>\n",
       "      <th>93</th>\n",
       "      <td>78130</td>\n",
       "      <td>TX</td>\n",
       "      <td>New Braunfels</td>\n",
       "      <td>San Antonio-New Braunfels, TX</td>\n",
       "      <td>Comal County</td>\n",
       "      <td>NaN</td>\n",
       "      <td>NaN</td>\n",
       "      <td>NaN</td>\n",
       "      <td>NaN</td>\n",
       "      <td>NaN</td>\n",
       "      <td>...</td>\n",
       "      <td>306869.0</td>\n",
       "      <td>313174.0</td>\n",
       "      <td>320356.0</td>\n",
       "      <td>326121.0</td>\n",
       "      <td>333881.0</td>\n",
       "      <td>342038.0</td>\n",
       "      <td>349460.0</td>\n",
       "      <td>354485.0</td>\n",
       "      <td>356144.0</td>\n",
       "      <td>357161.0</td>\n",
       "    </tr>\n",
       "    <tr>\n",
       "      <th>...</th>\n",
       "      <td>...</td>\n",
       "      <td>...</td>\n",
       "      <td>...</td>\n",
       "      <td>...</td>\n",
       "      <td>...</td>\n",
       "      <td>...</td>\n",
       "      <td>...</td>\n",
       "      <td>...</td>\n",
       "      <td>...</td>\n",
       "      <td>...</td>\n",
       "      <td>...</td>\n",
       "      <td>...</td>\n",
       "      <td>...</td>\n",
       "      <td>...</td>\n",
       "      <td>...</td>\n",
       "      <td>...</td>\n",
       "      <td>...</td>\n",
       "      <td>...</td>\n",
       "      <td>...</td>\n",
       "      <td>...</td>\n",
       "      <td>...</td>\n",
       "    </tr>\n",
       "    <tr>\n",
       "      <th>23278</th>\n",
       "      <td>77476</td>\n",
       "      <td>TX</td>\n",
       "      <td>Simonton</td>\n",
       "      <td>Houston-The Woodlands-Sugar Land, TX</td>\n",
       "      <td>Fort Bend County</td>\n",
       "      <td>NaN</td>\n",
       "      <td>NaN</td>\n",
       "      <td>NaN</td>\n",
       "      <td>NaN</td>\n",
       "      <td>NaN</td>\n",
       "      <td>...</td>\n",
       "      <td>NaN</td>\n",
       "      <td>NaN</td>\n",
       "      <td>NaN</td>\n",
       "      <td>NaN</td>\n",
       "      <td>NaN</td>\n",
       "      <td>NaN</td>\n",
       "      <td>385388.0</td>\n",
       "      <td>389306.0</td>\n",
       "      <td>390118.0</td>\n",
       "      <td>389159.0</td>\n",
       "    </tr>\n",
       "    <tr>\n",
       "      <th>23325</th>\n",
       "      <td>79350</td>\n",
       "      <td>TX</td>\n",
       "      <td>New Deal</td>\n",
       "      <td>Lubbock, TX</td>\n",
       "      <td>Lubbock County</td>\n",
       "      <td>NaN</td>\n",
       "      <td>NaN</td>\n",
       "      <td>NaN</td>\n",
       "      <td>NaN</td>\n",
       "      <td>NaN</td>\n",
       "      <td>...</td>\n",
       "      <td>107664.0</td>\n",
       "      <td>108907.0</td>\n",
       "      <td>110654.0</td>\n",
       "      <td>113874.0</td>\n",
       "      <td>114829.0</td>\n",
       "      <td>117038.0</td>\n",
       "      <td>117008.0</td>\n",
       "      <td>118964.0</td>\n",
       "      <td>120559.0</td>\n",
       "      <td>121161.0</td>\n",
       "    </tr>\n",
       "    <tr>\n",
       "      <th>23371</th>\n",
       "      <td>77978</td>\n",
       "      <td>TX</td>\n",
       "      <td>Point Comfort</td>\n",
       "      <td>Port Lavaca, TX</td>\n",
       "      <td>Calhoun County</td>\n",
       "      <td>NaN</td>\n",
       "      <td>NaN</td>\n",
       "      <td>NaN</td>\n",
       "      <td>NaN</td>\n",
       "      <td>NaN</td>\n",
       "      <td>...</td>\n",
       "      <td>115988.0</td>\n",
       "      <td>118425.0</td>\n",
       "      <td>120843.0</td>\n",
       "      <td>123808.0</td>\n",
       "      <td>124556.0</td>\n",
       "      <td>125456.0</td>\n",
       "      <td>125696.0</td>\n",
       "      <td>127545.0</td>\n",
       "      <td>129641.0</td>\n",
       "      <td>132003.0</td>\n",
       "    </tr>\n",
       "    <tr>\n",
       "      <th>23372</th>\n",
       "      <td>77663</td>\n",
       "      <td>TX</td>\n",
       "      <td>Village Mills</td>\n",
       "      <td>Beaumont-Port Arthur, TX</td>\n",
       "      <td>Hardin County</td>\n",
       "      <td>NaN</td>\n",
       "      <td>NaN</td>\n",
       "      <td>NaN</td>\n",
       "      <td>NaN</td>\n",
       "      <td>NaN</td>\n",
       "      <td>...</td>\n",
       "      <td>195445.0</td>\n",
       "      <td>197359.0</td>\n",
       "      <td>200307.0</td>\n",
       "      <td>202782.0</td>\n",
       "      <td>204581.0</td>\n",
       "      <td>206977.0</td>\n",
       "      <td>209768.0</td>\n",
       "      <td>213646.0</td>\n",
       "      <td>216736.0</td>\n",
       "      <td>219361.0</td>\n",
       "    </tr>\n",
       "    <tr>\n",
       "      <th>23400</th>\n",
       "      <td>77451</td>\n",
       "      <td>TX</td>\n",
       "      <td>East Bernard</td>\n",
       "      <td>Houston-The Woodlands-Sugar Land, TX</td>\n",
       "      <td>Fort Bend County</td>\n",
       "      <td>NaN</td>\n",
       "      <td>NaN</td>\n",
       "      <td>NaN</td>\n",
       "      <td>NaN</td>\n",
       "      <td>NaN</td>\n",
       "      <td>...</td>\n",
       "      <td>NaN</td>\n",
       "      <td>NaN</td>\n",
       "      <td>NaN</td>\n",
       "      <td>NaN</td>\n",
       "      <td>NaN</td>\n",
       "      <td>NaN</td>\n",
       "      <td>211125.0</td>\n",
       "      <td>211719.0</td>\n",
       "      <td>210235.0</td>\n",
       "      <td>205233.0</td>\n",
       "    </tr>\n",
       "  </tbody>\n",
       "</table>\n",
       "<p>760 rows × 277 columns</p>\n",
       "</div>"
      ],
      "text/plain": [
       "      ZipCode State           City                                 Metro  \\\n",
       "32      78521    TX    Brownsville             Brownsville-Harlingen, TX   \n",
       "50      77573    TX    League City  Houston-The Woodlands-Sugar Land, TX   \n",
       "86      78666    TX     San Marcos      Austin-Round Rock-Georgetown, TX   \n",
       "87      78572    TX        Mission          McAllen-Edinburg-Mission, TX   \n",
       "93      78130    TX  New Braunfels         San Antonio-New Braunfels, TX   \n",
       "...       ...   ...            ...                                   ...   \n",
       "23278   77476    TX       Simonton  Houston-The Woodlands-Sugar Land, TX   \n",
       "23325   79350    TX       New Deal                           Lubbock, TX   \n",
       "23371   77978    TX  Point Comfort                       Port Lavaca, TX   \n",
       "23372   77663    TX  Village Mills              Beaumont-Port Arthur, TX   \n",
       "23400   77451    TX   East Bernard  Houston-The Woodlands-Sugar Land, TX   \n",
       "\n",
       "             CountyName  2000-01-31  2000-02-29  2000-03-31  2000-04-30  \\\n",
       "32       Cameron County         NaN         NaN         NaN         NaN   \n",
       "50     Galveston County         NaN         NaN         NaN         NaN   \n",
       "86          Hays County         NaN         NaN         NaN         NaN   \n",
       "87       Hidalgo County         NaN         NaN         NaN         NaN   \n",
       "93         Comal County         NaN         NaN         NaN         NaN   \n",
       "...                 ...         ...         ...         ...         ...   \n",
       "23278  Fort Bend County         NaN         NaN         NaN         NaN   \n",
       "23325    Lubbock County         NaN         NaN         NaN         NaN   \n",
       "23371    Calhoun County         NaN         NaN         NaN         NaN   \n",
       "23372     Hardin County         NaN         NaN         NaN         NaN   \n",
       "23400  Fort Bend County         NaN         NaN         NaN         NaN   \n",
       "\n",
       "       2000-05-31  ...  2021-11-30  2021-12-31  2022-01-31  2022-02-28  \\\n",
       "32            NaN  ...    141332.0    143702.0    145785.0    148925.0   \n",
       "50            NaN  ...    290825.0    294876.0    297864.0    301136.0   \n",
       "86            NaN  ...    347549.0    354405.0    362174.0    372118.0   \n",
       "87            NaN  ...    155467.0    157316.0    159385.0    161236.0   \n",
       "93            NaN  ...    306869.0    313174.0    320356.0    326121.0   \n",
       "...           ...  ...         ...         ...         ...         ...   \n",
       "23278         NaN  ...         NaN         NaN         NaN         NaN   \n",
       "23325         NaN  ...    107664.0    108907.0    110654.0    113874.0   \n",
       "23371         NaN  ...    115988.0    118425.0    120843.0    123808.0   \n",
       "23372         NaN  ...    195445.0    197359.0    200307.0    202782.0   \n",
       "23400         NaN  ...         NaN         NaN         NaN         NaN   \n",
       "\n",
       "       2022-03-31  2022-04-30  2022-05-31  2022-06-30  2022-07-31  2022-08-31  \n",
       "32       151875.0    155071.0    157557.0    160752.0    163829.0    167074.0  \n",
       "50       305735.0    312295.0    317528.0    320674.0    321755.0    323265.0  \n",
       "86       378769.0    385599.0    387554.0    389007.0    386720.0    383152.0  \n",
       "87       163578.0    165853.0    168492.0    171377.0    174236.0    177440.0  \n",
       "93       333881.0    342038.0    349460.0    354485.0    356144.0    357161.0  \n",
       "...           ...         ...         ...         ...         ...         ...  \n",
       "23278         NaN         NaN    385388.0    389306.0    390118.0    389159.0  \n",
       "23325    114829.0    117038.0    117008.0    118964.0    120559.0    121161.0  \n",
       "23371    124556.0    125456.0    125696.0    127545.0    129641.0    132003.0  \n",
       "23372    204581.0    206977.0    209768.0    213646.0    216736.0    219361.0  \n",
       "23400         NaN         NaN    211125.0    211719.0    210235.0    205233.0  \n",
       "\n",
       "[760 rows x 277 columns]"
      ]
     },
     "execution_count": 20,
     "metadata": {},
     "output_type": "execute_result"
    }
   ],
   "source": [
    "# 760 zip codes don't have full data\n",
    "data[data['2000-01-31'].isna()]"
   ]
  },
  {
   "cell_type": "code",
   "execution_count": 21,
   "metadata": {},
   "outputs": [
    {
     "data": {
      "text/html": [
       "<div>\n",
       "<style scoped>\n",
       "    .dataframe tbody tr th:only-of-type {\n",
       "        vertical-align: middle;\n",
       "    }\n",
       "\n",
       "    .dataframe tbody tr th {\n",
       "        vertical-align: top;\n",
       "    }\n",
       "\n",
       "    .dataframe thead th {\n",
       "        text-align: right;\n",
       "    }\n",
       "</style>\n",
       "<table border=\"1\" class=\"dataframe\">\n",
       "  <thead>\n",
       "    <tr style=\"text-align: right;\">\n",
       "      <th></th>\n",
       "      <th>ZipCode</th>\n",
       "      <th>State</th>\n",
       "      <th>City</th>\n",
       "      <th>Metro</th>\n",
       "      <th>CountyName</th>\n",
       "      <th>2000-01-31</th>\n",
       "      <th>2000-02-29</th>\n",
       "      <th>2000-03-31</th>\n",
       "      <th>2000-04-30</th>\n",
       "      <th>2000-05-31</th>\n",
       "      <th>...</th>\n",
       "      <th>2021-11-30</th>\n",
       "      <th>2021-12-31</th>\n",
       "      <th>2022-01-31</th>\n",
       "      <th>2022-02-28</th>\n",
       "      <th>2022-03-31</th>\n",
       "      <th>2022-04-30</th>\n",
       "      <th>2022-05-31</th>\n",
       "      <th>2022-06-30</th>\n",
       "      <th>2022-07-31</th>\n",
       "      <th>2022-08-31</th>\n",
       "    </tr>\n",
       "  </thead>\n",
       "  <tbody>\n",
       "  </tbody>\n",
       "</table>\n",
       "<p>0 rows × 277 columns</p>\n",
       "</div>"
      ],
      "text/plain": [
       "Empty DataFrame\n",
       "Columns: [ZipCode, State, City, Metro, CountyName, 2000-01-31, 2000-02-29, 2000-03-31, 2000-04-30, 2000-05-31, 2000-06-30, 2000-07-31, 2000-08-31, 2000-09-30, 2000-10-31, 2000-11-30, 2000-12-31, 2001-01-31, 2001-02-28, 2001-03-31, 2001-04-30, 2001-05-31, 2001-06-30, 2001-07-31, 2001-08-31, 2001-09-30, 2001-10-31, 2001-11-30, 2001-12-31, 2002-01-31, 2002-02-28, 2002-03-31, 2002-04-30, 2002-05-31, 2002-06-30, 2002-07-31, 2002-08-31, 2002-09-30, 2002-10-31, 2002-11-30, 2002-12-31, 2003-01-31, 2003-02-28, 2003-03-31, 2003-04-30, 2003-05-31, 2003-06-30, 2003-07-31, 2003-08-31, 2003-09-30, 2003-10-31, 2003-11-30, 2003-12-31, 2004-01-31, 2004-02-29, 2004-03-31, 2004-04-30, 2004-05-31, 2004-06-30, 2004-07-31, 2004-08-31, 2004-09-30, 2004-10-31, 2004-11-30, 2004-12-31, 2005-01-31, 2005-02-28, 2005-03-31, 2005-04-30, 2005-05-31, 2005-06-30, 2005-07-31, 2005-08-31, 2005-09-30, 2005-10-31, 2005-11-30, 2005-12-31, 2006-01-31, 2006-02-28, 2006-03-31, 2006-04-30, 2006-05-31, 2006-06-30, 2006-07-31, 2006-08-31, 2006-09-30, 2006-10-31, 2006-11-30, 2006-12-31, 2007-01-31, 2007-02-28, 2007-03-31, 2007-04-30, 2007-05-31, 2007-06-30, 2007-07-31, 2007-08-31, 2007-09-30, 2007-10-31, 2007-11-30, ...]\n",
       "Index: []\n",
       "\n",
       "[0 rows x 277 columns]"
      ]
     },
     "execution_count": 21,
     "metadata": {},
     "output_type": "execute_result"
    }
   ],
   "source": [
    "# All zipcodes have some data\n",
    "data[data['2022-08-31'].isna()]"
   ]
  },
  {
   "cell_type": "markdown",
   "metadata": {},
   "source": [
    "We will need to find an ROI that we can compare all of them on, nex"
   ]
  },
  {
   "cell_type": "code",
   "execution_count": 22,
   "metadata": {},
   "outputs": [],
   "source": [
    "# I need to find an ROI that I can compare them all on\n",
    "# Find the zips with the least data\n",
    "# for col in reversed(data.columns):\n",
    "#     if data[col].isna().sum() > 0:\n",
    "#         print(col)\n",
    "#         break"
   ]
  },
  {
   "cell_type": "code",
   "execution_count": 23,
   "metadata": {},
   "outputs": [],
   "source": [
    "# 4 zip codes only go back to 07-22\n",
    "# data[data['07-22'].isna()]"
   ]
  },
  {
   "cell_type": "code",
   "execution_count": 24,
   "metadata": {},
   "outputs": [],
   "source": [
    "def melt_data(data):\n",
    "    melted = pd.melt(data,\n",
    "                     id_vars=['ZipCode', 'State', 'City', 'Metro', 'CountyName'],\n",
    "                     var_name='Date')\n",
    "    melted['Date'] = pd.to_datetime(melted['Date'], infer_datetime_format=True)\n",
    "    melted = melted.dropna(subset=['value'])\n",
    "    return melted"
   ]
  },
  {
   "cell_type": "code",
   "execution_count": 25,
   "metadata": {},
   "outputs": [
    {
     "name": "stdout",
     "output_type": "stream",
     "text": [
      "<class 'pandas.core.frame.DataFrame'>\n",
      "Int64Index: 250195 entries, 0 to 351695\n",
      "Data columns (total 7 columns):\n",
      " #   Column      Non-Null Count   Dtype         \n",
      "---  ------      --------------   -----         \n",
      " 0   ZipCode     250195 non-null  string        \n",
      " 1   State       250195 non-null  object        \n",
      " 2   City        250195 non-null  object        \n",
      " 3   Metro       250195 non-null  object        \n",
      " 4   CountyName  250195 non-null  object        \n",
      " 5   Date        250195 non-null  datetime64[ns]\n",
      " 6   value       250195 non-null  float64       \n",
      "dtypes: datetime64[ns](1), float64(1), object(4), string(1)\n",
      "memory usage: 15.3+ MB\n"
     ]
    }
   ],
   "source": [
    "melted_data = melt_data(data)\n",
    "melted_data.info()"
   ]
  },
  {
   "cell_type": "code",
   "execution_count": 26,
   "metadata": {},
   "outputs": [
    {
     "data": {
      "text/plain": [
       "<bound method DataFrame.info of            ZipCode State           City                                 Metro  \\\n",
       "Date                                                                            \n",
       "2000-01-31   77449    TX           None  Houston-The Woodlands-Sugar Land, TX   \n",
       "2000-01-31   77494    TX           None  Houston-The Woodlands-Sugar Land, TX   \n",
       "2000-01-31   79936    TX        El Paso                           El Paso, TX   \n",
       "2000-01-31   77084    TX        Houston  Houston-The Woodlands-Sugar Land, TX   \n",
       "2000-01-31   78660    TX   Pflugerville      Austin-Round Rock-Georgetown, TX   \n",
       "...            ...   ...            ...                                   ...   \n",
       "2022-08-31   79350    TX       New Deal                           Lubbock, TX   \n",
       "2022-08-31   79366    TX  Ransom Canyon                           Lubbock, TX   \n",
       "2022-08-31   77978    TX  Point Comfort                       Port Lavaca, TX   \n",
       "2022-08-31   77663    TX  Village Mills              Beaumont-Port Arthur, TX   \n",
       "2022-08-31   77451    TX   East Bernard  Houston-The Woodlands-Sugar Land, TX   \n",
       "\n",
       "                  CountyName     value  \n",
       "Date                                    \n",
       "2000-01-31     Harris County   96603.0  \n",
       "2000-01-31  Fort Bend County  163540.0  \n",
       "2000-01-31    El Paso County   87170.0  \n",
       "2000-01-31     Harris County   96608.0  \n",
       "2000-01-31     Travis County  142867.0  \n",
       "...                      ...       ...  \n",
       "2022-08-31    Lubbock County  121161.0  \n",
       "2022-08-31    Lubbock County  345207.0  \n",
       "2022-08-31    Calhoun County  132003.0  \n",
       "2022-08-31     Hardin County  219361.0  \n",
       "2022-08-31  Fort Bend County  205233.0  \n",
       "\n",
       "[250195 rows x 6 columns]>"
      ]
     },
     "execution_count": 26,
     "metadata": {},
     "output_type": "execute_result"
    }
   ],
   "source": [
    "# Make sure the data type of the 'Date' column is datetime\n",
    "melted_data['Date'] = pd.to_datetime(melted_data['Date'], format='%Y/%m')\n",
    "\n",
    "# Set the 'Date' columns as index\n",
    "melted_data.set_index('Date', inplace=True)\n",
    "\n",
    "melted_data.info"
   ]
  },
  {
   "cell_type": "code",
   "execution_count": 27,
   "metadata": {},
   "outputs": [
    {
     "data": {
      "text/html": [
       "<div>\n",
       "<style scoped>\n",
       "    .dataframe tbody tr th:only-of-type {\n",
       "        vertical-align: middle;\n",
       "    }\n",
       "\n",
       "    .dataframe tbody tr th {\n",
       "        vertical-align: top;\n",
       "    }\n",
       "\n",
       "    .dataframe thead th {\n",
       "        text-align: right;\n",
       "    }\n",
       "</style>\n",
       "<table border=\"1\" class=\"dataframe\">\n",
       "  <thead>\n",
       "    <tr style=\"text-align: right;\">\n",
       "      <th></th>\n",
       "      <th>ZipCode</th>\n",
       "      <th>State</th>\n",
       "      <th>City</th>\n",
       "      <th>Metro</th>\n",
       "      <th>CountyName</th>\n",
       "      <th>value</th>\n",
       "    </tr>\n",
       "    <tr>\n",
       "      <th>Date</th>\n",
       "      <th></th>\n",
       "      <th></th>\n",
       "      <th></th>\n",
       "      <th></th>\n",
       "      <th></th>\n",
       "      <th></th>\n",
       "    </tr>\n",
       "  </thead>\n",
       "  <tbody>\n",
       "    <tr>\n",
       "      <th>2000-01-31</th>\n",
       "      <td>77449</td>\n",
       "      <td>TX</td>\n",
       "      <td>None</td>\n",
       "      <td>Houston-The Woodlands-Sugar Land, TX</td>\n",
       "      <td>Harris County</td>\n",
       "      <td>96603.0</td>\n",
       "    </tr>\n",
       "    <tr>\n",
       "      <th>2000-01-31</th>\n",
       "      <td>77494</td>\n",
       "      <td>TX</td>\n",
       "      <td>None</td>\n",
       "      <td>Houston-The Woodlands-Sugar Land, TX</td>\n",
       "      <td>Fort Bend County</td>\n",
       "      <td>163540.0</td>\n",
       "    </tr>\n",
       "    <tr>\n",
       "      <th>2000-01-31</th>\n",
       "      <td>79936</td>\n",
       "      <td>TX</td>\n",
       "      <td>El Paso</td>\n",
       "      <td>El Paso, TX</td>\n",
       "      <td>El Paso County</td>\n",
       "      <td>87170.0</td>\n",
       "    </tr>\n",
       "    <tr>\n",
       "      <th>2000-01-31</th>\n",
       "      <td>77084</td>\n",
       "      <td>TX</td>\n",
       "      <td>Houston</td>\n",
       "      <td>Houston-The Woodlands-Sugar Land, TX</td>\n",
       "      <td>Harris County</td>\n",
       "      <td>96608.0</td>\n",
       "    </tr>\n",
       "    <tr>\n",
       "      <th>2000-01-31</th>\n",
       "      <td>78660</td>\n",
       "      <td>TX</td>\n",
       "      <td>Pflugerville</td>\n",
       "      <td>Austin-Round Rock-Georgetown, TX</td>\n",
       "      <td>Travis County</td>\n",
       "      <td>142867.0</td>\n",
       "    </tr>\n",
       "  </tbody>\n",
       "</table>\n",
       "</div>"
      ],
      "text/plain": [
       "           ZipCode State          City                                 Metro  \\\n",
       "Date                                                                           \n",
       "2000-01-31   77449    TX          None  Houston-The Woodlands-Sugar Land, TX   \n",
       "2000-01-31   77494    TX          None  Houston-The Woodlands-Sugar Land, TX   \n",
       "2000-01-31   79936    TX       El Paso                           El Paso, TX   \n",
       "2000-01-31   77084    TX       Houston  Houston-The Woodlands-Sugar Land, TX   \n",
       "2000-01-31   78660    TX  Pflugerville      Austin-Round Rock-Georgetown, TX   \n",
       "\n",
       "                  CountyName     value  \n",
       "Date                                    \n",
       "2000-01-31     Harris County   96603.0  \n",
       "2000-01-31  Fort Bend County  163540.0  \n",
       "2000-01-31    El Paso County   87170.0  \n",
       "2000-01-31     Harris County   96608.0  \n",
       "2000-01-31     Travis County  142867.0  "
      ]
     },
     "execution_count": 27,
     "metadata": {},
     "output_type": "execute_result"
    }
   ],
   "source": [
    "melted_data.head()"
   ]
  },
  {
   "cell_type": "markdown",
   "metadata": {},
   "source": [
    "## EDA on ZipCodes"
   ]
  },
  {
   "cell_type": "code",
   "execution_count": 28,
   "metadata": {},
   "outputs": [
    {
     "name": "stdout",
     "output_type": "stream",
     "text": [
      "Average TX home value 303454\n"
     ]
    }
   ],
   "source": [
    "print('Average TX home value' ,round(data['2022-08-31'].mean()))"
   ]
  },
  {
   "cell_type": "code",
   "execution_count": 29,
   "metadata": {},
   "outputs": [
    {
     "data": {
      "image/png": "[encoded data removed]",
      "text/plain": [
       "<Figure size 864x360 with 1 Axes>"
      ]
     },
     "metadata": {
      "needs_background": "light"
     },
     "output_type": "display_data"
    }
   ],
   "source": [
    "#Average Home Value by Month and Year\n",
    "month_data = melted_data['value'].resample('MS').mean()\n",
    "month_data = month_data.fillna(month_data.bfill())\n",
    "month_data.plot(figsize=(12,5), color='red')\n",
    "plt.title('Average TX Home Value By Month')\n",
    "plt.ylabel('Value')\n",
    "plt.show()"
   ]
  },
  {
   "cell_type": "code",
   "execution_count": 30,
   "metadata": {},
   "outputs": [
    {
     "data": {
      "image/png": "[encoded data removed]",
      "text/plain": [
       "<Figure size 864x360 with 1 Axes>"
      ]
     },
     "metadata": {
      "needs_background": "light"
     },
     "output_type": "display_data"
    }
   ],
   "source": [
    "yr_data = melted_data['value'].resample('A').mean()\n",
    "yr_data.plot.line(figsize=(12,5), color='orange')\n",
    "plt.title('Average TX Home Value By Year')\n",
    "plt.ylabel('Value')\n",
    "plt.show()"
   ]
  },
  {
   "cell_type": "markdown",
   "metadata": {},
   "source": [
    "## Top 10 Metro and County (mean)"
   ]
  },
  {
   "cell_type": "code",
   "execution_count": 31,
   "metadata": {},
   "outputs": [
    {
     "data": {
      "image/png": "[encoded data removed]",
      "text/plain": [
       "<Figure size 864x504 with 1 Axes>"
      ]
     },
     "metadata": {
      "needs_background": "light"
     },
     "output_type": "display_data"
    }
   ],
   "source": [
    "# Get Mean Home Value by metro\n",
    "metro = melted_data.groupby('Metro')\n",
    "metro = metro.value.mean()\n",
    "metro = metro.sort_values(ascending=False).head(10)\n",
    "\n",
    "# Plot Mean Home Value by Metro\n",
    "metro.plot.barh(figsize=(12,7), color='blue')\n",
    "plt.title('10-Year Mean Value by Metro')\n",
    "plt.xlabel('Value in Millions of Dollars ($)')\n",
    "plt.show()"
   ]
  },
  {
   "cell_type": "code",
   "execution_count": 32,
   "metadata": {},
   "outputs": [
    {
     "data": {
      "image/png": "[encoded data removed]",
      "text/plain": [
       "<Figure size 864x504 with 1 Axes>"
      ]
     },
     "metadata": {
      "needs_background": "light"
     },
     "output_type": "display_data"
    }
   ],
   "source": [
    "# Get Mean Home Value by County\n",
    "county = melted_data.groupby('CountyName')\n",
    "county = county.value.mean()\n",
    "county = county.sort_values(ascending=False).head(10)\n",
    "\n",
    "# Plot Mean Home Value by County\n",
    "county.plot.barh(figsize = (12,7), color='darkgreen')\n",
    "plt.title('10-Year Mean Value by County')\n",
    "plt.xlabel('Value in Millions of Dollars ($)')\n",
    "plt.ylabel('County Name')\n",
    "plt.show()"
   ]
  },
  {
   "cell_type": "markdown",
   "metadata": {},
   "source": [
    "## Most recent one year ROI"
   ]
  },
  {
   "cell_type": "code",
   "execution_count": 33,
   "metadata": {},
   "outputs": [
    {
     "data": {
      "text/plain": [
       "0        0.232488\n",
       "1        0.219513\n",
       "2        0.182189\n",
       "7        0.207553\n",
       "17       0.123829\n",
       "           ...   \n",
       "23325    0.175567\n",
       "23352    0.179743\n",
       "23371    0.169669\n",
       "23372    0.145991\n",
       "23400         NaN\n",
       "Name: recent_1_yr_ROI, Length: 1293, dtype: float64"
      ]
     },
     "execution_count": 33,
     "metadata": {},
     "output_type": "execute_result"
    }
   ],
   "source": [
    "# Check out most recent 1 year ROI\n",
    "data['recent_1_yr_ROI'] = (data['2022-08-31'] - data['2021-08-31'])/(data['2021-08-31'])\n",
    "data['recent_1_yr_ROI']"
   ]
  },
  {
   "cell_type": "code",
   "execution_count": 34,
   "metadata": {},
   "outputs": [
    {
     "data": {
      "text/html": [
       "<div>\n",
       "<style scoped>\n",
       "    .dataframe tbody tr th:only-of-type {\n",
       "        vertical-align: middle;\n",
       "    }\n",
       "\n",
       "    .dataframe tbody tr th {\n",
       "        vertical-align: top;\n",
       "    }\n",
       "\n",
       "    .dataframe thead th {\n",
       "        text-align: right;\n",
       "    }\n",
       "</style>\n",
       "<table border=\"1\" class=\"dataframe\">\n",
       "  <thead>\n",
       "    <tr style=\"text-align: right;\">\n",
       "      <th></th>\n",
       "      <th>ZipCode</th>\n",
       "      <th>City</th>\n",
       "      <th>recent_1_yr_ROI</th>\n",
       "    </tr>\n",
       "  </thead>\n",
       "  <tbody>\n",
       "    <tr>\n",
       "      <th>15843</th>\n",
       "      <td>78650</td>\n",
       "      <td>McDade</td>\n",
       "      <td>-0.038050</td>\n",
       "    </tr>\n",
       "    <tr>\n",
       "      <th>5133</th>\n",
       "      <td>79764</td>\n",
       "      <td>Odessa</td>\n",
       "      <td>-0.001729</td>\n",
       "    </tr>\n",
       "    <tr>\n",
       "      <th>10220</th>\n",
       "      <td>75758</td>\n",
       "      <td>Chandler</td>\n",
       "      <td>0.001106</td>\n",
       "    </tr>\n",
       "    <tr>\n",
       "      <th>7696</th>\n",
       "      <td>77701</td>\n",
       "      <td>Beaumont</td>\n",
       "      <td>0.001393</td>\n",
       "    </tr>\n",
       "    <tr>\n",
       "      <th>16286</th>\n",
       "      <td>77335</td>\n",
       "      <td>None</td>\n",
       "      <td>0.004570</td>\n",
       "    </tr>\n",
       "  </tbody>\n",
       "</table>\n",
       "</div>"
      ],
      "text/plain": [
       "      ZipCode      City  recent_1_yr_ROI\n",
       "15843   78650    McDade        -0.038050\n",
       "5133    79764    Odessa        -0.001729\n",
       "10220   75758  Chandler         0.001106\n",
       "7696    77701  Beaumont         0.001393\n",
       "16286   77335      None         0.004570"
      ]
     },
     "execution_count": 34,
     "metadata": {},
     "output_type": "execute_result"
    }
   ],
   "source": [
    "# Lowest Values\n",
    "data.sort_values('recent_1_yr_ROI').head()[['ZipCode', 'City', 'recent_1_yr_ROI']]"
   ]
  },
  {
   "cell_type": "code",
   "execution_count": 35,
   "metadata": {},
   "outputs": [
    {
     "data": {
      "text/html": [
       "<div>\n",
       "<style scoped>\n",
       "    .dataframe tbody tr th:only-of-type {\n",
       "        vertical-align: middle;\n",
       "    }\n",
       "\n",
       "    .dataframe tbody tr th {\n",
       "        vertical-align: top;\n",
       "    }\n",
       "\n",
       "    .dataframe thead th {\n",
       "        text-align: right;\n",
       "    }\n",
       "</style>\n",
       "<table border=\"1\" class=\"dataframe\">\n",
       "  <thead>\n",
       "    <tr style=\"text-align: right;\">\n",
       "      <th></th>\n",
       "      <th>ZipCode</th>\n",
       "      <th>City</th>\n",
       "      <th>recent_1_yr_ROI</th>\n",
       "    </tr>\n",
       "  </thead>\n",
       "  <tbody>\n",
       "    <tr>\n",
       "      <th>6514</th>\n",
       "      <td>76541</td>\n",
       "      <td>Killeen</td>\n",
       "      <td>0.405265</td>\n",
       "    </tr>\n",
       "    <tr>\n",
       "      <th>18276</th>\n",
       "      <td>78615</td>\n",
       "      <td>Coupland</td>\n",
       "      <td>0.382277</td>\n",
       "    </tr>\n",
       "    <tr>\n",
       "      <th>17560</th>\n",
       "      <td>75058</td>\n",
       "      <td>Gunter</td>\n",
       "      <td>0.362419</td>\n",
       "    </tr>\n",
       "    <tr>\n",
       "      <th>11436</th>\n",
       "      <td>78583</td>\n",
       "      <td>Rio Hondo</td>\n",
       "      <td>0.360510</td>\n",
       "    </tr>\n",
       "    <tr>\n",
       "      <th>15845</th>\n",
       "      <td>76569</td>\n",
       "      <td>Rogers</td>\n",
       "      <td>0.356386</td>\n",
       "    </tr>\n",
       "  </tbody>\n",
       "</table>\n",
       "</div>"
      ],
      "text/plain": [
       "      ZipCode       City  recent_1_yr_ROI\n",
       "6514    76541    Killeen         0.405265\n",
       "18276   78615   Coupland         0.382277\n",
       "17560   75058     Gunter         0.362419\n",
       "11436   78583  Rio Hondo         0.360510\n",
       "15845   76569     Rogers         0.356386"
      ]
     },
     "execution_count": 35,
     "metadata": {},
     "output_type": "execute_result"
    }
   ],
   "source": [
    "# Highest Values \n",
    "data.sort_values('recent_1_yr_ROI', ascending=False).head()[['ZipCode', 'City', 'recent_1_yr_ROI']]"
   ]
  },
  {
   "cell_type": "markdown",
   "metadata": {},
   "source": [
    "## Top 10 ZipCode mean ROI"
   ]
  },
  {
   "cell_type": "code",
   "execution_count": 36,
   "metadata": {},
   "outputs": [
    {
     "name": "stdout",
     "output_type": "stream",
     "text": [
      "count    1.293000e+03\n",
      "mean     2.252465e+05\n",
      "std      1.291236e+05\n",
      "min      5.522542e+04\n",
      "25%      1.509374e+05\n",
      "50%      1.945346e+05\n",
      "75%      2.580096e+05\n",
      "max      1.924567e+06\n",
      "Name: yr_avg, dtype: float64 \n",
      "\n",
      "Average Value 70% cutoff value: 240801.07\n",
      "Average Value 30% cutoff value: 162913.46\n",
      "Amount of zipcodes: 517\n"
     ]
    }
   ],
   "source": [
    "# Calculate average home value in the DataFrame\n",
    "data['yr_avg']=data.iloc[:,-60:].mean(skipna=True, axis=1)\n",
    "\n",
    "# Get zipcodes with an average value 2 decile above the median and 2 deciles below.\n",
    "print(data['yr_avg'].describe(),'\\n')\n",
    "\n",
    "# Calculate the 70% cutoff value (2 decile above).\n",
    "q_70 = data['yr_avg'].quantile(q=0.70)\n",
    "print(f'Average Value 70% cutoff value: {round(q_70,2)}')\n",
    "\n",
    "# Calculate the 30% cutoff value (2 deciles below).\n",
    "q_30 = data['yr_avg'].quantile(q=0.30)\n",
    "print(f'Average Value 30% cutoff value: {round(q_30,2)}')\n",
    "\n",
    "# Get data frame with selected zipcodes.\n",
    "data_avg = data[(data['yr_avg']<q_70) & (data['yr_avg']>q_30)]\n",
    "print(f'Amount of zipcodes: {len(data_avg)}')"
   ]
  },
  {
   "cell_type": "markdown",
   "metadata": {},
   "source": [
    "We will build risk profile using coefficient of variation and assume that above 60 percentile is risky. This is a very common method used by many investors and analysts to determine the volatility and risk when making investments. The lower the ratio of the standard deviation to mean return, the better risk-return trade-off."
   ]
  },
  {
   "cell_type": "code",
   "execution_count": 37,
   "metadata": {},
   "outputs": [
    {
     "data": {
      "text/html": [
       "<div>\n",
       "<style scoped>\n",
       "    .dataframe tbody tr th:only-of-type {\n",
       "        vertical-align: middle;\n",
       "    }\n",
       "\n",
       "    .dataframe tbody tr th {\n",
       "        vertical-align: top;\n",
       "    }\n",
       "\n",
       "    .dataframe thead th {\n",
       "        text-align: right;\n",
       "    }\n",
       "</style>\n",
       "<table border=\"1\" class=\"dataframe\">\n",
       "  <thead>\n",
       "    <tr style=\"text-align: right;\">\n",
       "      <th></th>\n",
       "      <th>ZipCode</th>\n",
       "      <th>std</th>\n",
       "      <th>mean</th>\n",
       "      <th>ROI</th>\n",
       "      <th>CV</th>\n",
       "      <th>CountyName</th>\n",
       "    </tr>\n",
       "  </thead>\n",
       "  <tbody>\n",
       "    <tr>\n",
       "      <th>0</th>\n",
       "      <td>77449</td>\n",
       "      <td>38255.348186</td>\n",
       "      <td>134568.811321</td>\n",
       "      <td>0.965331</td>\n",
       "      <td>0.284281</td>\n",
       "      <td>Harris County</td>\n",
       "    </tr>\n",
       "    <tr>\n",
       "      <th>7</th>\n",
       "      <td>77084</td>\n",
       "      <td>35940.504716</td>\n",
       "      <td>133920.822642</td>\n",
       "      <td>0.935217</td>\n",
       "      <td>0.268371</td>\n",
       "      <td>Harris County</td>\n",
       "    </tr>\n",
       "    <tr>\n",
       "      <th>34</th>\n",
       "      <td>75052</td>\n",
       "      <td>50213.676283</td>\n",
       "      <td>147757.241509</td>\n",
       "      <td>1.152440</td>\n",
       "      <td>0.339839</td>\n",
       "      <td>Dallas County</td>\n",
       "    </tr>\n",
       "    <tr>\n",
       "      <th>36</th>\n",
       "      <td>77433</td>\n",
       "      <td>41345.208111</td>\n",
       "      <td>170054.267925</td>\n",
       "      <td>0.803552</td>\n",
       "      <td>0.243129</td>\n",
       "      <td>Harris County</td>\n",
       "    </tr>\n",
       "    <tr>\n",
       "      <th>52</th>\n",
       "      <td>77429</td>\n",
       "      <td>41718.370106</td>\n",
       "      <td>169614.011321</td>\n",
       "      <td>0.838165</td>\n",
       "      <td>0.245961</td>\n",
       "      <td>Harris County</td>\n",
       "    </tr>\n",
       "  </tbody>\n",
       "</table>\n",
       "</div>"
      ],
      "text/plain": [
       "   ZipCode           std           mean       ROI        CV     CountyName\n",
       "0    77449  38255.348186  134568.811321  0.965331  0.284281  Harris County\n",
       "7    77084  35940.504716  133920.822642  0.935217  0.268371  Harris County\n",
       "34   75052  50213.676283  147757.241509  1.152440  0.339839  Dallas County\n",
       "36   77433  41345.208111  170054.267925  0.803552  0.243129  Harris County\n",
       "52   77429  41718.370106  169614.011321  0.838165  0.245961  Harris County"
      ]
     },
     "execution_count": 37,
     "metadata": {},
     "output_type": "execute_result"
    }
   ],
   "source": [
    "# Calculate historical return on investment\n",
    "data_avg['ROI'] = (data_avg['yr_avg']/data_avg['2000-08-31'])-1\n",
    "\n",
    "# Calculate standard deviation of monthly values\n",
    "data_avg['std'] = data_avg.loc[:,'2000-08-31':'2022-08-31'].std(skipna=True, axis=1)\n",
    "\n",
    "# Calculate historical mean value\n",
    "data_avg['mean'] = data_avg.loc[:, '2000-08-31':'2022-08-31'].mean(skipna=True, axis=1)\n",
    "\n",
    "# Calculate coefficient of variation\n",
    "data_avg['CV'] = data_avg['std']/data_avg['mean']\n",
    "\n",
    "# Show calculated values\n",
    "data_avg[['ZipCode','std','mean','ROI','CV','CountyName']].head()"
   ]
  },
  {
   "cell_type": "code",
   "execution_count": 38,
   "metadata": {},
   "outputs": [
    {
     "data": {
      "text/plain": [
       "CountyName\n",
       "Harris County        54.517058\n",
       "Dallas County        40.584509\n",
       "Tarrant County       40.401031\n",
       "Bexar County         35.143200\n",
       "Montgomery County    12.017695\n",
       "Brazoria County      10.464508\n",
       "Fort Bend County      8.534071\n",
       "Gregg County          8.005692\n",
       "Lubbock County        4.701615\n",
       "Denton County         3.420254\n",
       "Name: ROI, dtype: float64"
      ]
     },
     "execution_count": 38,
     "metadata": {},
     "output_type": "execute_result"
    }
   ],
   "source": [
    "# Find out the top 10 counties with highest ROI\n",
    "grp_county = data_avg.groupby('CountyName', group_keys=False).sum()['ROI']\n",
    "grp_county.sort_values(ascending=False)[:10]"
   ]
  },
  {
   "cell_type": "code",
   "execution_count": 39,
   "metadata": {},
   "outputs": [
    {
     "data": {
      "text/plain": [
       "Index(['Harris County', 'Dallas County', 'Tarrant County', 'Bexar County',\n",
       "       'Montgomery County', 'Brazoria County', 'Fort Bend County',\n",
       "       'Gregg County', 'Lubbock County', 'Denton County'],\n",
       "      dtype='object', name='CountyName')"
      ]
     },
     "execution_count": 39,
     "metadata": {},
     "output_type": "execute_result"
    }
   ],
   "source": [
    "# Top 10 counties with highest ROI before considering risk factor CV\n",
    "grp_county.sort_values(ascending=False)[:10].keys()"
   ]
  },
  {
   "cell_type": "code",
   "execution_count": 40,
   "metadata": {},
   "outputs": [
    {
     "name": "stdout",
     "output_type": "stream",
     "text": [
      "count    516.000000\n",
      "mean       0.235770\n",
      "std        0.081496\n",
      "min        0.013246\n",
      "25%        0.191332\n",
      "50%        0.243798\n",
      "75%        0.284897\n",
      "max        0.463360\n",
      "Name: CV, dtype: float64\n",
      "\n",
      "CV upper limit: 0.25736849345388185\n"
     ]
    },
    {
     "data": {
      "text/plain": [
       "CountyName\n",
       "Harris County        29.353340\n",
       "Bexar County          7.554121\n",
       "Fort Bend County      6.311819\n",
       "Brazoria County       4.811210\n",
       "Montgomery County     4.472374\n",
       "Gregg County          4.069725\n",
       "Lubbock County        3.399041\n",
       "El Paso County        2.622002\n",
       "Galveston County      0.891431\n",
       "Guadalupe County      0.843617\n",
       "Name: ROI, dtype: float64"
      ]
     },
     "execution_count": 40,
     "metadata": {},
     "output_type": "execute_result"
    }
   ],
   "source": [
    "# Descriptive statistics of coeficients of variance\n",
    "print(data_avg.CV.describe())\n",
    "\n",
    "# Define upper limit of CV according to risk profile\n",
    "thresh_cv = data_avg.CV.quantile(.6)\n",
    "print(f'\\nCV upper limit: {thresh_cv}')\n",
    "\n",
    "# Get the 10 counties with highest ROIs within the firms risk profile\n",
    "data_top10 = data_avg[data_avg['CV']<thresh_cv].sort_values('ROI', axis=0, ascending=False)\n",
    "\n",
    "# Find out the top 10 counties with highest ROI\n",
    "grp_county = data_top10.groupby('CountyName').sum()['ROI']\n",
    "grp_county.sort_values(ascending=False)[:10]"
   ]
  },
  {
   "cell_type": "code",
   "execution_count": 41,
   "metadata": {},
   "outputs": [
    {
     "data": {
      "text/plain": [
       "['Harris County',\n",
       " 'Bexar County',\n",
       " 'Fort Bend County',\n",
       " 'Brazoria County',\n",
       " 'Montgomery County',\n",
       " 'Gregg County',\n",
       " 'Lubbock County',\n",
       " 'El Paso County',\n",
       " 'Galveston County',\n",
       " 'Guadalupe County']"
      ]
     },
     "execution_count": 41,
     "metadata": {},
     "output_type": "execute_result"
    }
   ],
   "source": [
    "top10_county = list(grp_county.sort_values(ascending=False)[:10].index)\n",
    "top10_county"
   ]
  },
  {
   "cell_type": "code",
   "execution_count": 42,
   "metadata": {},
   "outputs": [],
   "source": [
    "data_top10 = data_top10.loc[data_top10['CountyName'].isin(top10_county)]"
   ]
  },
  {
   "cell_type": "code",
   "execution_count": 43,
   "metadata": {},
   "outputs": [
    {
     "data": {
      "text/plain": [
       "Harris County        36\n",
       "Fort Bend County     10\n",
       "Bexar County          9\n",
       "Brazoria County       7\n",
       "Montgomery County     6\n",
       "El Paso County        5\n",
       "Galveston County      5\n",
       "Gregg County          4\n",
       "Lubbock County        4\n",
       "Guadalupe County      3\n",
       "Name: CountyName, dtype: int64"
      ]
     },
     "execution_count": 43,
     "metadata": {},
     "output_type": "execute_result"
    }
   ],
   "source": [
    "# Check how many ZipCode are in each county\n",
    "data_top10['CountyName'].value_counts()"
   ]
  },
  {
   "cell_type": "code",
   "execution_count": 44,
   "metadata": {},
   "outputs": [
    {
     "name": "stdout",
     "output_type": "stream",
     "text": [
      "County: Harris County, Average ROI: 81.53705671672635 \n",
      "City: Crosby, ZipCode: 77532, Metro: Houston-The Woodlands-Sugar Land, TX\n",
      "\n",
      "County: Bexar County, Average ROI: 83.93467554304374 \n",
      "City: San Antonio, ZipCode: 78229, Metro: San Antonio-New Braunfels, TX\n",
      "\n",
      "County: Fort Bend County, Average ROI: 78.8977328380016 \n",
      "City: Rosenberg, ZipCode: 77471, Metro: Houston-The Woodlands-Sugar Land, TX\n",
      "\n",
      "County: Brazoria County, Average ROI: 96.22419210416874 \n",
      "City: West Columbia, ZipCode: 77486, Metro: Houston-The Woodlands-Sugar Land, TX\n",
      "\n",
      "County: Montgomery County, Average ROI: 74.539561572528 \n",
      "City: The Woodlands, ZipCode: 77380, Metro: Houston-The Woodlands-Sugar Land, TX\n",
      "\n",
      "County: Gregg County, Average ROI: 101.74313673018614 \n",
      "City: Longview, ZipCode: 75605, Metro: Longview, TX\n",
      "\n",
      "County: Lubbock County, Average ROI: 84.97603401477758 \n",
      "City: Wolfforth, ZipCode: 79382, Metro: Lubbock, TX\n",
      "\n",
      "County: El Paso County, Average ROI: 65.55005487866306 \n",
      "City: El Paso, ZipCode: 79902, Metro: El Paso, TX\n",
      "\n",
      "County: Galveston County, Average ROI: 89.14312986685249 \n",
      "City: Friendswood, ZipCode: 77546, Metro: Houston-The Woodlands-Sugar Land, TX\n",
      "\n",
      "County: Guadalupe County, Average ROI: 84.36173099073108 \n",
      "City: Schertz, ZipCode: 78154, Metro: San Antonio-New Braunfels, TX\n",
      "\n"
     ]
    }
   ],
   "source": [
    "# Get city and state names for each ZipCode\n",
    "ziplist = []\n",
    "roi_top10 = {}\n",
    "\n",
    "for i in top10_county:\n",
    "    City = data_top10[data_top10['CountyName']==i].City.values[0]\n",
    "    Metro = data_top10[data_top10['CountyName']==i].Metro.values[0]\n",
    "    County = data_top10[data_top10['CountyName']==i].CountyName.values[0]\n",
    "    ZipCode = data_top10[data_top10['CountyName']==i].ZipCode.values[0]\n",
    "    ROI = (data_top10[data_top10['CountyName']==i].mean()['ROI'])*100\n",
    "    \n",
    "    ziplist.append(str(ZipCode))\n",
    "\n",
    "    roi_top10[i] = ROI\n",
    "    print(f'County: {i}, Average ROI: {ROI} \\nCity: {City}, ZipCode: {ZipCode}, Metro: {Metro}\\n')"
   ]
  },
  {
   "cell_type": "code",
   "execution_count": 45,
   "metadata": {},
   "outputs": [
    {
     "data": {
      "image/png": "[encoded data removed]",
      "text/plain": [
       "<Figure size 1440x360 with 1 Axes>"
      ]
     },
     "metadata": {
      "needs_background": "light"
     },
     "output_type": "display_data"
    }
   ],
   "source": [
    "x = dict(sorted(roi_top10.items(), key=lambda item: item[1])).keys()\n",
    "y = dict(sorted(roi_top10.items(), key=lambda item: item[1])).values()\n",
    "\n",
    "plt.figure(figsize=(20,5))\n",
    "plt.bar(x,y, color='green')\n",
    "plt.title('Average ROI homes in Top 10 TX Ccounties')\n",
    "plt.xlabel('County Name')\n",
    "plt.ylabel('% Gained on Original Investment')\n",
    "plt.show()"
   ]
  },
  {
   "cell_type": "markdown",
   "metadata": {},
   "source": [
    "Our analysis shows that all top 10 counties saw ROI above 125% since April 1996. Out of those counties, San Luis Obispo, Alameda, and Ornage counties had the highest ROI around 200%."
   ]
  },
  {
   "cell_type": "code",
   "execution_count": 46,
   "metadata": {},
   "outputs": [],
   "source": [
    "zip_77532 = melted_data[melted_data.ZipCode == '77532']\n",
    "zip_78229 = melted_data[melted_data.ZipCode == '78229']\n",
    "zip_77471 = melted_data[melted_data.ZipCode == '77471']\n",
    "zip_77486 = melted_data[melted_data.ZipCode == '77486']\n",
    "zip_77380 = melted_data[melted_data.ZipCode == '77380']\n",
    "zip_75605 = melted_data[melted_data.ZipCode == '75605']\n",
    "zip_79382 = melted_data[melted_data.ZipCode == '79382']\n",
    "zip_79902 = melted_data[melted_data.ZipCode == '79902']\n",
    "zip_77546 = melted_data[melted_data.ZipCode == '77546']\n",
    "zip_78154 = melted_data[melted_data.ZipCode == '78154']"
   ]
  },
  {
   "cell_type": "code",
   "execution_count": 47,
   "metadata": {},
   "outputs": [
    {
     "data": {
      "text/html": [
       "<div>\n",
       "<style scoped>\n",
       "    .dataframe tbody tr th:only-of-type {\n",
       "        vertical-align: middle;\n",
       "    }\n",
       "\n",
       "    .dataframe tbody tr th {\n",
       "        vertical-align: top;\n",
       "    }\n",
       "\n",
       "    .dataframe thead th {\n",
       "        text-align: right;\n",
       "    }\n",
       "</style>\n",
       "<table border=\"1\" class=\"dataframe\">\n",
       "  <thead>\n",
       "    <tr style=\"text-align: right;\">\n",
       "      <th></th>\n",
       "      <th>ZipCode</th>\n",
       "      <th>State</th>\n",
       "      <th>City</th>\n",
       "      <th>Metro</th>\n",
       "      <th>CountyName</th>\n",
       "      <th>value</th>\n",
       "    </tr>\n",
       "    <tr>\n",
       "      <th>Date</th>\n",
       "      <th></th>\n",
       "      <th></th>\n",
       "      <th></th>\n",
       "      <th></th>\n",
       "      <th></th>\n",
       "      <th></th>\n",
       "    </tr>\n",
       "  </thead>\n",
       "  <tbody>\n",
       "    <tr>\n",
       "      <th>2000-01-31</th>\n",
       "      <td>77532</td>\n",
       "      <td>TX</td>\n",
       "      <td>Crosby</td>\n",
       "      <td>Houston-The Woodlands-Sugar Land, TX</td>\n",
       "      <td>Harris County</td>\n",
       "      <td>98841.0</td>\n",
       "    </tr>\n",
       "    <tr>\n",
       "      <th>2000-02-29</th>\n",
       "      <td>77532</td>\n",
       "      <td>TX</td>\n",
       "      <td>Crosby</td>\n",
       "      <td>Houston-The Woodlands-Sugar Land, TX</td>\n",
       "      <td>Harris County</td>\n",
       "      <td>99293.0</td>\n",
       "    </tr>\n",
       "    <tr>\n",
       "      <th>2000-03-31</th>\n",
       "      <td>77532</td>\n",
       "      <td>TX</td>\n",
       "      <td>Crosby</td>\n",
       "      <td>Houston-The Woodlands-Sugar Land, TX</td>\n",
       "      <td>Harris County</td>\n",
       "      <td>99466.0</td>\n",
       "    </tr>\n",
       "    <tr>\n",
       "      <th>2000-04-30</th>\n",
       "      <td>77532</td>\n",
       "      <td>TX</td>\n",
       "      <td>Crosby</td>\n",
       "      <td>Houston-The Woodlands-Sugar Land, TX</td>\n",
       "      <td>Harris County</td>\n",
       "      <td>99917.0</td>\n",
       "    </tr>\n",
       "    <tr>\n",
       "      <th>2000-05-31</th>\n",
       "      <td>77532</td>\n",
       "      <td>TX</td>\n",
       "      <td>Crosby</td>\n",
       "      <td>Houston-The Woodlands-Sugar Land, TX</td>\n",
       "      <td>Harris County</td>\n",
       "      <td>99827.0</td>\n",
       "    </tr>\n",
       "  </tbody>\n",
       "</table>\n",
       "</div>"
      ],
      "text/plain": [
       "           ZipCode State    City                                 Metro  \\\n",
       "Date                                                                     \n",
       "2000-01-31   77532    TX  Crosby  Houston-The Woodlands-Sugar Land, TX   \n",
       "2000-02-29   77532    TX  Crosby  Houston-The Woodlands-Sugar Land, TX   \n",
       "2000-03-31   77532    TX  Crosby  Houston-The Woodlands-Sugar Land, TX   \n",
       "2000-04-30   77532    TX  Crosby  Houston-The Woodlands-Sugar Land, TX   \n",
       "2000-05-31   77532    TX  Crosby  Houston-The Woodlands-Sugar Land, TX   \n",
       "\n",
       "               CountyName    value  \n",
       "Date                                \n",
       "2000-01-31  Harris County  98841.0  \n",
       "2000-02-29  Harris County  99293.0  \n",
       "2000-03-31  Harris County  99466.0  \n",
       "2000-04-30  Harris County  99917.0  \n",
       "2000-05-31  Harris County  99827.0  "
      ]
     },
     "execution_count": 47,
     "metadata": {},
     "output_type": "execute_result"
    }
   ],
   "source": [
    "zip_data = pd.DataFrame()\n",
    "zip_data = zip_data.append(zip_77532)\n",
    "zip_data = zip_data.append(zip_78229)\n",
    "zip_data = zip_data.append(zip_77471)\n",
    "zip_data = zip_data.append(zip_77486)\n",
    "zip_data = zip_data.append(zip_77380)\n",
    "zip_data = zip_data.append(zip_75605)\n",
    "zip_data = zip_data.append(zip_79382)\n",
    "zip_data = zip_data.append(zip_79902)\n",
    "zip_data = zip_data.append(zip_77546)\n",
    "zip_data = zip_data.append(zip_78154)\n",
    "zip_data.head()"
   ]
  },
  {
   "cell_type": "code",
   "execution_count": 48,
   "metadata": {},
   "outputs": [],
   "source": [
    "zip_ts = []\n",
    "for zc in zip_data.ZipCode.unique():\n",
    "    #Create separate dataframes for each zipcode with a monthly frequency.\n",
    "    top5_data = zip_data[zip_data['ZipCode']==zc].asfreq('MS')\n",
    "    zip_ts.append(top5_data)"
   ]
  },
  {
   "cell_type": "code",
   "execution_count": 49,
   "metadata": {},
   "outputs": [],
   "source": [
    "#Calculate monthly returns in new column 'ret' for each zipcode.\n",
    "for zc in range(len(zip_ts)):\n",
    "    zip_ts[zc]['ret']=np.nan*len(zip_ts[zc])\n",
    "    for i in range(len(zip_ts[zc])-1):\n",
    "        zip_ts[zc]['ret'][i+1]= ((zip_ts[zc].value.iloc[i+1] / zip_ts[zc].value.iloc[i]) - 1) * 100"
   ]
  },
  {
   "cell_type": "code",
   "execution_count": 50,
   "metadata": {},
   "outputs": [
    {
     "data": {
      "image/png": "[encoded data removed]",
      "text/plain": [
       "<Figure size 1080x432 with 1 Axes>"
      ]
     },
     "metadata": {
      "needs_background": "light"
     },
     "output_type": "display_data"
    }
   ],
   "source": [
    "# Plot Median Home Values Over ime\n",
    "for i in range(10):\n",
    "    ax = zip_ts[i].ret.plot(label=zip_ts[i].ZipCode[0],figsize=(15,6))\n",
    "    plt.title('Median Home Values of Each Zipcode Over Time')\n",
    "    plt.xlabel('Time')\n",
    "    plt.ylabel('ROI (%)')\n",
    "    \n",
    "    # manipulate\n",
    "    vals = ax.get_yticks()\n",
    "    ax.yaxis.set_major_formatter(FuncFormatter(lambda y, _: '{:.0%}'.format(y)))\n",
    "    plt.legend();\n",
    "    \n",
    "######## Neeed help with this"
   ]
  },
  {
   "cell_type": "markdown",
   "metadata": {},
   "source": [
    "## Preprocessing"
   ]
  },
  {
   "cell_type": "code",
   "execution_count": 51,
   "metadata": {},
   "outputs": [],
   "source": [
    "# Create a dictionary for each ZipCode\n",
    "ts = {}\n",
    "for zc in ziplist:\n",
    "    temp_data = melted_data.groupby('ZipCode').get_group(zc).sort_index()['value']\n",
    "    ts[zc] = temp_data"
   ]
  },
  {
   "cell_type": "code",
   "execution_count": 52,
   "metadata": {},
   "outputs": [
    {
     "data": {
      "text/plain": [
       "{'77532': Date\n",
       " 2000-01-31     98841.0\n",
       " 2000-02-29     99293.0\n",
       " 2000-03-31     99466.0\n",
       " 2000-04-30     99917.0\n",
       " 2000-05-31     99827.0\n",
       "                 ...   \n",
       " 2022-04-30    253658.0\n",
       " 2022-05-31    258242.0\n",
       " 2022-06-30    261621.0\n",
       " 2022-07-31    263594.0\n",
       " 2022-08-31    264674.0\n",
       " Name: value, Length: 272, dtype: float64,\n",
       " '78229': Date\n",
       " 2000-01-31    102278.0\n",
       " 2000-02-29    102296.0\n",
       " 2000-03-31    102398.0\n",
       " 2000-04-30    102485.0\n",
       " 2000-05-31    101790.0\n",
       "                 ...   \n",
       " 2022-04-30    252489.0\n",
       " 2022-05-31    255353.0\n",
       " 2022-06-30    257522.0\n",
       " 2022-07-31    258343.0\n",
       " 2022-08-31    258747.0\n",
       " Name: value, Length: 272, dtype: float64,\n",
       " '77471': Date\n",
       " 2000-01-31     97120.0\n",
       " 2000-02-29     97297.0\n",
       " 2000-03-31     97659.0\n",
       " 2000-04-30     98006.0\n",
       " 2000-05-31     97790.0\n",
       "                 ...   \n",
       " 2022-04-30    255920.0\n",
       " 2022-05-31    260765.0\n",
       " 2022-06-30    264013.0\n",
       " 2022-07-31    265312.0\n",
       " 2022-08-31    264613.0\n",
       " Name: value, Length: 272, dtype: float64,\n",
       " '77486': Date\n",
       " 2000-01-31     95295.0\n",
       " 2000-02-29     94999.0\n",
       " 2000-03-31     94827.0\n",
       " 2000-04-30     94754.0\n",
       " 2000-05-31     95101.0\n",
       "                 ...   \n",
       " 2022-04-30    236194.0\n",
       " 2022-05-31    239907.0\n",
       " 2022-06-30    241501.0\n",
       " 2022-07-31    243625.0\n",
       " 2022-08-31    245626.0\n",
       " Name: value, Length: 272, dtype: float64,\n",
       " '77380': Date\n",
       " 2000-01-31    124315.0\n",
       " 2000-02-29    124386.0\n",
       " 2000-03-31    124464.0\n",
       " 2000-04-30    124675.0\n",
       " 2000-05-31    124982.0\n",
       "                 ...   \n",
       " 2022-04-30    301299.0\n",
       " 2022-05-31    308958.0\n",
       " 2022-06-30    315506.0\n",
       " 2022-07-31    319195.0\n",
       " 2022-08-31    319941.0\n",
       " Name: value, Length: 272, dtype: float64,\n",
       " '75605': Date\n",
       " 2000-01-31     96438.0\n",
       " 2000-02-29     96570.0\n",
       " 2000-03-31     96675.0\n",
       " 2000-04-30     97001.0\n",
       " 2000-05-31     97368.0\n",
       "                 ...   \n",
       " 2022-04-30    244583.0\n",
       " 2022-05-31    248255.0\n",
       " 2022-06-30    251819.0\n",
       " 2022-07-31    255237.0\n",
       " 2022-08-31    257829.0\n",
       " Name: value, Length: 268, dtype: float64,\n",
       " '79382': Date\n",
       " 2000-01-31     90856.0\n",
       " 2000-02-29     91586.0\n",
       " 2000-03-31     92131.0\n",
       " 2000-04-30     93192.0\n",
       " 2000-05-31     93774.0\n",
       "                 ...   \n",
       " 2022-04-30    227482.0\n",
       " 2022-05-31    230188.0\n",
       " 2022-06-30    231795.0\n",
       " 2022-07-31    233788.0\n",
       " 2022-08-31    235155.0\n",
       " Name: value, Length: 271, dtype: float64,\n",
       " '79902': Date\n",
       " 2000-01-31    115157.0\n",
       " 2000-02-29    115152.0\n",
       " 2000-03-31    114934.0\n",
       " 2000-04-30    114847.0\n",
       " 2000-05-31    115012.0\n",
       "                 ...   \n",
       " 2022-04-30    276407.0\n",
       " 2022-05-31    283630.0\n",
       " 2022-06-30    290483.0\n",
       " 2022-07-31    293836.0\n",
       " 2022-08-31    295192.0\n",
       " Name: value, Length: 272, dtype: float64,\n",
       " '77546': Date\n",
       " 2000-01-31    116817.0\n",
       " 2000-02-29    116746.0\n",
       " 2000-03-31    116437.0\n",
       " 2000-04-30    116371.0\n",
       " 2000-05-31    116334.0\n",
       "                 ...   \n",
       " 2022-04-30    283070.0\n",
       " 2022-05-31    287517.0\n",
       " 2022-06-30    290431.0\n",
       " 2022-07-31    292010.0\n",
       " 2022-08-31    293042.0\n",
       " Name: value, Length: 272, dtype: float64,\n",
       " '78154': Date\n",
       " 2000-01-31    127199.0\n",
       " 2000-02-29    127446.0\n",
       " 2000-03-31    127348.0\n",
       " 2000-04-30    127301.0\n",
       " 2000-05-31    126271.0\n",
       "                 ...   \n",
       " 2022-04-30    306119.0\n",
       " 2022-05-31    311841.0\n",
       " 2022-06-30    315479.0\n",
       " 2022-07-31    316432.0\n",
       " 2022-08-31    316023.0\n",
       " Name: value, Length: 272, dtype: float64}"
      ]
     },
     "execution_count": 52,
     "metadata": {},
     "output_type": "execute_result"
    }
   ],
   "source": [
    "ts"
   ]
  },
  {
   "cell_type": "code",
   "execution_count": 53,
   "metadata": {},
   "outputs": [
    {
     "data": {
      "text/html": [
       "<div>\n",
       "<style scoped>\n",
       "    .dataframe tbody tr th:only-of-type {\n",
       "        vertical-align: middle;\n",
       "    }\n",
       "\n",
       "    .dataframe tbody tr th {\n",
       "        vertical-align: top;\n",
       "    }\n",
       "\n",
       "    .dataframe thead th {\n",
       "        text-align: right;\n",
       "    }\n",
       "</style>\n",
       "<table border=\"1\" class=\"dataframe\">\n",
       "  <thead>\n",
       "    <tr style=\"text-align: right;\">\n",
       "      <th></th>\n",
       "      <th>77532</th>\n",
       "      <th>78229</th>\n",
       "      <th>77471</th>\n",
       "      <th>77486</th>\n",
       "      <th>77380</th>\n",
       "      <th>75605</th>\n",
       "      <th>79382</th>\n",
       "      <th>79902</th>\n",
       "      <th>77546</th>\n",
       "      <th>78154</th>\n",
       "    </tr>\n",
       "    <tr>\n",
       "      <th>Date</th>\n",
       "      <th></th>\n",
       "      <th></th>\n",
       "      <th></th>\n",
       "      <th></th>\n",
       "      <th></th>\n",
       "      <th></th>\n",
       "      <th></th>\n",
       "      <th></th>\n",
       "      <th></th>\n",
       "      <th></th>\n",
       "    </tr>\n",
       "  </thead>\n",
       "  <tbody>\n",
       "    <tr>\n",
       "      <th>2000-01-31</th>\n",
       "      <td>98841.0</td>\n",
       "      <td>102278.0</td>\n",
       "      <td>97120.0</td>\n",
       "      <td>95295.0</td>\n",
       "      <td>124315.0</td>\n",
       "      <td>96438.0</td>\n",
       "      <td>90856.0</td>\n",
       "      <td>115157.0</td>\n",
       "      <td>116817.0</td>\n",
       "      <td>127199.0</td>\n",
       "    </tr>\n",
       "    <tr>\n",
       "      <th>2000-02-29</th>\n",
       "      <td>99293.0</td>\n",
       "      <td>102296.0</td>\n",
       "      <td>97297.0</td>\n",
       "      <td>94999.0</td>\n",
       "      <td>124386.0</td>\n",
       "      <td>96570.0</td>\n",
       "      <td>91586.0</td>\n",
       "      <td>115152.0</td>\n",
       "      <td>116746.0</td>\n",
       "      <td>127446.0</td>\n",
       "    </tr>\n",
       "    <tr>\n",
       "      <th>2000-03-31</th>\n",
       "      <td>99466.0</td>\n",
       "      <td>102398.0</td>\n",
       "      <td>97659.0</td>\n",
       "      <td>94827.0</td>\n",
       "      <td>124464.0</td>\n",
       "      <td>96675.0</td>\n",
       "      <td>92131.0</td>\n",
       "      <td>114934.0</td>\n",
       "      <td>116437.0</td>\n",
       "      <td>127348.0</td>\n",
       "    </tr>\n",
       "    <tr>\n",
       "      <th>2000-04-30</th>\n",
       "      <td>99917.0</td>\n",
       "      <td>102485.0</td>\n",
       "      <td>98006.0</td>\n",
       "      <td>94754.0</td>\n",
       "      <td>124675.0</td>\n",
       "      <td>97001.0</td>\n",
       "      <td>93192.0</td>\n",
       "      <td>114847.0</td>\n",
       "      <td>116371.0</td>\n",
       "      <td>127301.0</td>\n",
       "    </tr>\n",
       "    <tr>\n",
       "      <th>2000-05-31</th>\n",
       "      <td>99827.0</td>\n",
       "      <td>101790.0</td>\n",
       "      <td>97790.0</td>\n",
       "      <td>95101.0</td>\n",
       "      <td>124982.0</td>\n",
       "      <td>97368.0</td>\n",
       "      <td>93774.0</td>\n",
       "      <td>115012.0</td>\n",
       "      <td>116334.0</td>\n",
       "      <td>126271.0</td>\n",
       "    </tr>\n",
       "  </tbody>\n",
       "</table>\n",
       "</div>"
      ],
      "text/plain": [
       "              77532     78229    77471    77486     77380    75605    79382  \\\n",
       "Date                                                                          \n",
       "2000-01-31  98841.0  102278.0  97120.0  95295.0  124315.0  96438.0  90856.0   \n",
       "2000-02-29  99293.0  102296.0  97297.0  94999.0  124386.0  96570.0  91586.0   \n",
       "2000-03-31  99466.0  102398.0  97659.0  94827.0  124464.0  96675.0  92131.0   \n",
       "2000-04-30  99917.0  102485.0  98006.0  94754.0  124675.0  97001.0  93192.0   \n",
       "2000-05-31  99827.0  101790.0  97790.0  95101.0  124982.0  97368.0  93774.0   \n",
       "\n",
       "               79902     77546     78154  \n",
       "Date                                      \n",
       "2000-01-31  115157.0  116817.0  127199.0  \n",
       "2000-02-29  115152.0  116746.0  127446.0  \n",
       "2000-03-31  114934.0  116437.0  127348.0  \n",
       "2000-04-30  114847.0  116371.0  127301.0  \n",
       "2000-05-31  115012.0  116334.0  126271.0  "
      ]
     },
     "execution_count": 53,
     "metadata": {},
     "output_type": "execute_result"
    }
   ],
   "source": [
    "ts_data = pd.DataFrame(ts)\n",
    "ts_data.head()"
   ]
  },
  {
   "cell_type": "code",
   "execution_count": 54,
   "metadata": {},
   "outputs": [],
   "source": [
    "ts_77532 = ts_data[ziplist[0]].copy()"
   ]
  },
  {
   "cell_type": "code",
   "execution_count": 55,
   "metadata": {},
   "outputs": [
    {
     "data": {
      "image/png": "[encoded data removed]",
      "text/plain": [
       "<Figure size 936x576 with 1 Axes>"
      ]
     },
     "metadata": {
      "needs_background": "light"
     },
     "output_type": "display_data"
    }
   ],
   "source": [
    "ax = ts_77532.plot(figsize=(13,8))\n",
    "ax.legend()\n",
    "plt.show()"
   ]
  },
  {
   "cell_type": "markdown",
   "metadata": {},
   "source": [
    "Below we will create various functions that will assist with further analysis. "
   ]
  },
  {
   "cell_type": "code",
   "execution_count": 56,
   "metadata": {},
   "outputs": [],
   "source": [
    "# forecast limits\n",
    "def forecast_to_df(forecast,zipcode):\n",
    "    test_pred = forecast.conf_int()\n",
    "    test_pred[zipcode] = forecast.predicted_mean\n",
    "    test_pred.columns = ['lower','upper','prediction']\n",
    "    return test_pred"
   ]
  },
  {
   "cell_type": "code",
   "execution_count": 57,
   "metadata": {},
   "outputs": [],
   "source": [
    "# Plot train test predictions\n",
    "def plot_train_test_pred(train,test,pred_df):\n",
    "    fig,ax = plt.subplots(figsize=(12,7))\n",
    "    kws = dict(marker='o')\n",
    "    \n",
    "    ax.plot(train,label='Train',**kws)\n",
    "    ax.plot(test,label='Test',**kws)\n",
    "    ax.plot(pred_df['prediction'],label='prediction',ls='--',**kws)\n",
    "\n",
    "    ax.fill_between(x=pred_df.index,y1=pred_df['lower'],y2=pred_df['upper'])\n",
    "    ax.legend(bbox_to_anchor=[1,1])\n",
    "    fig.tight_layout()\n",
    "    return fig,ax"
   ]
  },
  {
   "cell_type": "code",
   "execution_count": 58,
   "metadata": {},
   "outputs": [],
   "source": [
    "# root mean square error for ARIMA\n",
    "def rmse_arima(ts, p, d, q):\n",
    "    model = ARIMA(ts, order =(p,d,q)).fit()\n",
    "    preds = model.predict(typ='levels')\n",
    "    rmse = np.sqrt(mean_squared_error(ts, preds))\n",
    "    print(f'{rmse}')\n",
    "    return rmse"
   ]
  },
  {
   "cell_type": "code",
   "execution_count": 59,
   "metadata": {},
   "outputs": [],
   "source": [
    "# Akaike's Information Criterion for ARIMA\n",
    "def aic_arima(ts, p, d, q): \n",
    "    model = ARIMA(ts, order = (p,d,q)).fit()\n",
    "    aic = model.aic\n",
    "    print(f'{aic}')"
   ]
  },
  {
   "cell_type": "markdown",
   "metadata": {},
   "source": [
    "### Train-Test Split"
   ]
  },
  {
   "cell_type": "code",
   "execution_count": 60,
   "metadata": {},
   "outputs": [],
   "source": [
    "# Find the index to split 15% of the data\n",
    "train_size = 0.85\n",
    "split_idx = round(len(ts_77532)* train_size)\n",
    "split_idx\n",
    "\n",
    "# Split\n",
    "train = ts_77532.iloc[:split_idx]\n",
    "test = ts_77532.iloc[split_idx:]"
   ]
  },
  {
   "cell_type": "markdown",
   "metadata": {},
   "source": [
    "## Model 1: Random Walk Model"
   ]
  },
  {
   "cell_type": "markdown",
   "metadata": {},
   "source": [
    "For our first iteration we will use a simple prediction model, Random Walk Model. This model ccan be the baseline model to compare how our more sophisticated models, ARIMA and SARIMA, perform; by evaluating AIC and RMS. "
   ]
  },
  {
   "cell_type": "code",
   "execution_count": 61,
   "metadata": {},
   "outputs": [
    {
     "data": {
      "image/png": "[encoded data removed]",
      "text/plain": [
       "<Figure size 1080x432 with 1 Axes>"
      ]
     },
     "metadata": {
      "needs_background": "light"
     },
     "output_type": "display_data"
    }
   ],
   "source": [
    "train = ts_77532.iloc[:split_idx]\n",
    "random_walk = train.shift(1)\n",
    "\n",
    "fig,ax = plt.subplots(figsize=(15,6))\n",
    "\n",
    "train[0:270].plot(ax=ax, c='green', label='original')\n",
    "random_walk[0:270].plot(ax=ax, c='blue', label='shifted')\n",
    "ax.set_title('Random Walk for ZipCode 77532')\n",
    "ax.legend();"
   ]
  },
  {
   "cell_type": "code",
   "execution_count": 62,
   "metadata": {},
   "outputs": [
    {
     "data": {
      "text/plain": [
       "446577.9304347826"
      ]
     },
     "execution_count": 62,
     "metadata": {},
     "output_type": "execute_result"
    }
   ],
   "source": [
    "# Calculate the Root Mean Squared Error for above data\n",
    "residuals = random_walk - train\n",
    "rmse = mean_squared_error(train[1:], random_walk.dropna())\n",
    "rmse \n",
    "# this will be used as a benchmark for our modeling process"
   ]
  },
  {
   "cell_type": "markdown",
   "metadata": {},
   "source": [
    "## Model 2: ARIMA Model"
   ]
  },
  {
   "cell_type": "markdown",
   "metadata": {},
   "source": [
    "Below we will run some ARIMA models and see if they outperform the Random Walk Model. "
   ]
  },
  {
   "cell_type": "code",
   "execution_count": 63,
   "metadata": {},
   "outputs": [
    {
     "data": {
      "image/png": "[encoded data removed]",
      "text/plain": [
       "<Figure size 432x288 with 1 Axes>"
      ]
     },
     "metadata": {
      "needs_background": "light"
     },
     "output_type": "display_data"
    }
   ],
   "source": [
    "plot_acf(train,lags=34);"
   ]
  },
  {
   "cell_type": "markdown",
   "metadata": {},
   "source": [
    "The above autocorrelation shows that there is a correlation between lags up about 20 weeks back. Due to the strong correlation with higher order lags, we will check if first difference makes them any better. "
   ]
  },
  {
   "cell_type": "code",
   "execution_count": 64,
   "metadata": {},
   "outputs": [
    {
     "data": {
      "image/png": "[encoded data removed]",
      "text/plain": [
       "<Figure size 432x288 with 1 Axes>"
      ]
     },
     "metadata": {
      "needs_background": "light"
     },
     "output_type": "display_data"
    },
    {
     "data": {
      "image/png": "[encoded data removed]",
      "text/plain": [
       "<Figure size 432x288 with 1 Axes>"
      ]
     },
     "metadata": {
      "needs_background": "light"
     },
     "output_type": "display_data"
    }
   ],
   "source": [
    "# 0,1,0 model results\n",
    "plot_acf(train.diff().dropna());\n",
    "plot_pacf(train.diff().dropna());"
   ]
  },
  {
   "cell_type": "markdown",
   "metadata": {},
   "source": [
    "ACF plot looks better, but still not ideal, and tells us that there is a strong correlation with lag around 10. Also, our PACF shows an extremely different result where all lags are statistically significant. \n",
    "\n",
    "Our first model did not do so well, and therefore, we will run more iterations below. We will explore auto-ARIMA next. "
   ]
  },
  {
   "cell_type": "code",
   "execution_count": 65,
   "metadata": {},
   "outputs": [
    {
     "name": "stdout",
     "output_type": "stream",
     "text": [
      "Performing stepwise search to minimize aic\n",
      " ARIMA(0,2,0)(0,0,0)[0]             : AIC=3326.553, Time=0.05 sec\n",
      " ARIMA(1,2,0)(0,0,0)[0]             : AIC=3327.461, Time=0.02 sec\n",
      " ARIMA(0,2,1)(0,0,0)[0]             : AIC=3327.409, Time=0.03 sec\n",
      " ARIMA(1,2,1)(0,0,0)[0]             : AIC=3329.337, Time=0.07 sec\n",
      " ARIMA(0,2,0)(0,0,0)[0] intercept   : AIC=3328.551, Time=0.02 sec\n",
      "\n",
      "Best model:  ARIMA(0,2,0)(0,0,0)[0]          \n",
      "Total fit time: 0.204 seconds\n"
     ]
    },
    {
     "data": {
      "text/html": [
       "<table class=\"simpletable\">\n",
       "<caption>SARIMAX Results</caption>\n",
       "<tr>\n",
       "  <th>Dep. Variable:</th>           <td>y</td>        <th>  No. Observations:  </th>    <td>231</td>   \n",
       "</tr>\n",
       "<tr>\n",
       "  <th>Model:</th>           <td>SARIMAX(0, 2, 0)</td> <th>  Log Likelihood     </th> <td>-1662.276</td>\n",
       "</tr>\n",
       "<tr>\n",
       "  <th>Date:</th>            <td>Wed, 26 Oct 2022</td> <th>  AIC                </th> <td>3326.553</td> \n",
       "</tr>\n",
       "<tr>\n",
       "  <th>Time:</th>                <td>10:06:28</td>     <th>  BIC                </th> <td>3329.986</td> \n",
       "</tr>\n",
       "<tr>\n",
       "  <th>Sample:</th>             <td>01-31-2000</td>    <th>  HQIC               </th> <td>3327.938</td> \n",
       "</tr>\n",
       "<tr>\n",
       "  <th></th>                   <td>- 03-31-2019</td>   <th>                     </th>     <td> </td>    \n",
       "</tr>\n",
       "<tr>\n",
       "  <th>Covariance Type:</th>        <td>opg</td>       <th>                     </th>     <td> </td>    \n",
       "</tr>\n",
       "</table>\n",
       "<table class=\"simpletable\">\n",
       "<tr>\n",
       "     <td></td>       <th>coef</th>     <th>std err</th>      <th>z</th>      <th>P>|z|</th>  <th>[0.025</th>    <th>0.975]</th>  \n",
       "</tr>\n",
       "<tr>\n",
       "  <th>sigma2</th> <td> 1.178e+05</td> <td> 1.08e+04</td> <td>   10.860</td> <td> 0.000</td> <td> 9.66e+04</td> <td> 1.39e+05</td>\n",
       "</tr>\n",
       "</table>\n",
       "<table class=\"simpletable\">\n",
       "<tr>\n",
       "  <th>Ljung-Box (L1) (Q):</th>     <td>0.48</td> <th>  Jarque-Bera (JB):  </th> <td>0.37</td>\n",
       "</tr>\n",
       "<tr>\n",
       "  <th>Prob(Q):</th>                <td>0.49</td> <th>  Prob(JB):          </th> <td>0.83</td>\n",
       "</tr>\n",
       "<tr>\n",
       "  <th>Heteroskedasticity (H):</th> <td>1.11</td> <th>  Skew:              </th> <td>0.10</td>\n",
       "</tr>\n",
       "<tr>\n",
       "  <th>Prob(H) (two-sided):</th>    <td>0.66</td> <th>  Kurtosis:          </th> <td>3.05</td>\n",
       "</tr>\n",
       "</table><br/><br/>Warnings:<br/>[1] Covariance matrix calculated using the outer product of gradients (complex-step)."
      ],
      "text/plain": [
       "<class 'statsmodels.iolib.summary.Summary'>\n",
       "\"\"\"\n",
       "                               SARIMAX Results                                \n",
       "==============================================================================\n",
       "Dep. Variable:                      y   No. Observations:                  231\n",
       "Model:               SARIMAX(0, 2, 0)   Log Likelihood               -1662.276\n",
       "Date:                Wed, 26 Oct 2022   AIC                           3326.553\n",
       "Time:                        10:06:28   BIC                           3329.986\n",
       "Sample:                    01-31-2000   HQIC                          3327.938\n",
       "                         - 03-31-2019                                         \n",
       "Covariance Type:                  opg                                         \n",
       "==============================================================================\n",
       "                 coef    std err          z      P>|z|      [0.025      0.975]\n",
       "------------------------------------------------------------------------------\n",
       "sigma2      1.178e+05   1.08e+04     10.860      0.000    9.66e+04    1.39e+05\n",
       "===================================================================================\n",
       "Ljung-Box (L1) (Q):                   0.48   Jarque-Bera (JB):                 0.37\n",
       "Prob(Q):                              0.49   Prob(JB):                         0.83\n",
       "Heteroskedasticity (H):               1.11   Skew:                             0.10\n",
       "Prob(H) (two-sided):                  0.66   Kurtosis:                         3.05\n",
       "===================================================================================\n",
       "\n",
       "Warnings:\n",
       "[1] Covariance matrix calculated using the outer product of gradients (complex-step).\n",
       "\"\"\""
      ]
     },
     "metadata": {},
     "output_type": "display_data"
    },
    {
     "data": {
      "image/png": "[encoded data removed]",
      "text/plain": [
       "<Figure size 720x576 with 4 Axes>"
      ]
     },
     "metadata": {
      "needs_background": "light"
     },
     "output_type": "display_data"
    }
   ],
   "source": [
    "auto_model=auto_arima(y=train,start_p=0,start_q=0, seasonal=True, trace=True)\n",
    "display(auto_model.summary())\n",
    "auto_model.plot_diagnostics(figsize=(10,8));"
   ]
  },
  {
   "cell_type": "code",
   "execution_count": 66,
   "metadata": {},
   "outputs": [
    {
     "data": {
      "image/png": "[encoded data removed]",
      "text/plain": [
       "<Figure size 864x504 with 1 Axes>"
      ]
     },
     "metadata": {
      "needs_background": "light"
     },
     "output_type": "display_data"
    }
   ],
   "source": [
    "#Plotting training predictions\n",
    "auto_model = ARIMA(train,order=(0,2,1)).fit()\n",
    "train_pred = auto_model.predict(typ='levels')\n",
    "\n",
    "fig,ax=plt.subplots(figsize=(12,7))\n",
    "ax.plot(train, label='train')\n",
    "ax.plot(train_pred, label='train pred')\n",
    "ax.legend(loc='lower right');"
   ]
  },
  {
   "cell_type": "code",
   "execution_count": 67,
   "metadata": {},
   "outputs": [
    {
     "data": {
      "image/png": "[encoded data removed]",
      "text/plain": [
       "<Figure size 864x504 with 1 Axes>"
      ]
     },
     "metadata": {
      "needs_background": "light"
     },
     "output_type": "display_data"
    }
   ],
   "source": [
    "# Predicting on test data \n",
    "test_pred = auto_model.predict(start=test.index[0], end=test.index[-1], typ='levels')\n",
    "\n",
    "fig,ax = plt.subplots(figsize=(12,7))\n",
    "ax.plot(test, label='test');\n",
    "ax.plot(test_pred, label='test pred')\n",
    "ax.legend(loc='lower right');"
   ]
  },
  {
   "cell_type": "code",
   "execution_count": 68,
   "metadata": {},
   "outputs": [
    {
     "name": "stdout",
     "output_type": "stream",
     "text": [
      "7353.642957592709\n",
      "3623.5348798479304\n"
     ]
    }
   ],
   "source": [
    "rmse_arima(train, 0, 2, 1)\n",
    "aic_arima(train,0,1,1)"
   ]
  },
  {
   "cell_type": "code",
   "execution_count": 69,
   "metadata": {},
   "outputs": [
    {
     "data": {
      "text/plain": [
       "24678.44332440526"
      ]
     },
     "execution_count": 69,
     "metadata": {},
     "output_type": "execute_result"
    }
   ],
   "source": [
    "np.sqrt(mean_squared_error(test, test_pred))"
   ]
  },
  {
   "cell_type": "code",
   "execution_count": 70,
   "metadata": {},
   "outputs": [
    {
     "data": {
      "text/html": [
       "<div>\n",
       "<style scoped>\n",
       "    .dataframe tbody tr th:only-of-type {\n",
       "        vertical-align: middle;\n",
       "    }\n",
       "\n",
       "    .dataframe tbody tr th {\n",
       "        vertical-align: top;\n",
       "    }\n",
       "\n",
       "    .dataframe thead th {\n",
       "        text-align: right;\n",
       "    }\n",
       "</style>\n",
       "<table border=\"1\" class=\"dataframe\">\n",
       "  <thead>\n",
       "    <tr style=\"text-align: right;\">\n",
       "      <th></th>\n",
       "      <th>lower</th>\n",
       "      <th>upper</th>\n",
       "      <th>prediction</th>\n",
       "    </tr>\n",
       "  </thead>\n",
       "  <tbody>\n",
       "    <tr>\n",
       "      <th>2019-04-30</th>\n",
       "      <td>183919.609330</td>\n",
       "      <td>185265.603502</td>\n",
       "      <td>184592.606416</td>\n",
       "    </tr>\n",
       "    <tr>\n",
       "      <th>2019-05-31</th>\n",
       "      <td>183644.361020</td>\n",
       "      <td>186696.064646</td>\n",
       "      <td>185170.212833</td>\n",
       "    </tr>\n",
       "    <tr>\n",
       "      <th>2019-06-30</th>\n",
       "      <td>183179.572160</td>\n",
       "      <td>188316.066339</td>\n",
       "      <td>185747.819249</td>\n",
       "    </tr>\n",
       "    <tr>\n",
       "      <th>2019-07-31</th>\n",
       "      <td>182553.697914</td>\n",
       "      <td>190097.153417</td>\n",
       "      <td>186325.425666</td>\n",
       "    </tr>\n",
       "    <tr>\n",
       "      <th>2019-08-31</th>\n",
       "      <td>181785.578401</td>\n",
       "      <td>192020.485763</td>\n",
       "      <td>186903.032082</td>\n",
       "    </tr>\n",
       "  </tbody>\n",
       "</table>\n",
       "</div>"
      ],
      "text/plain": [
       "                    lower          upper     prediction\n",
       "2019-04-30  183919.609330  185265.603502  184592.606416\n",
       "2019-05-31  183644.361020  186696.064646  185170.212833\n",
       "2019-06-30  183179.572160  188316.066339  185747.819249\n",
       "2019-07-31  182553.697914  190097.153417  186325.425666\n",
       "2019-08-31  181785.578401  192020.485763  186903.032082"
      ]
     },
     "execution_count": 70,
     "metadata": {},
     "output_type": "execute_result"
    }
   ],
   "source": [
    "forecast = auto_model.get_forecast(steps=len(test))\n",
    "pred_df = forecast_to_df(forecast,ziplist[0])\n",
    "pred_df.head()"
   ]
  },
  {
   "cell_type": "code",
   "execution_count": 71,
   "metadata": {},
   "outputs": [
    {
     "data": {
      "image/png": "[encoded data removed]",
      "text/plain": [
       "<Figure size 864x504 with 1 Axes>"
      ]
     },
     "metadata": {
      "needs_background": "light"
     },
     "output_type": "display_data"
    }
   ],
   "source": [
    "plot_train_test_pred(train,test,pred_df)\n",
    "\n",
    "plt.show()"
   ]
  },
  {
   "cell_type": "markdown",
   "metadata": {},
   "source": [
    "This ARIMA model with gridsearch worked pretty well as it was able to predict our test set close. AIC also went down but RMSE is still very high. Therefore, we will try auto-arima on a SARIMA model."
   ]
  },
  {
   "cell_type": "markdown",
   "metadata": {},
   "source": [
    "## Model 3: SARIMA Model"
   ]
  },
  {
   "cell_type": "code",
   "execution_count": 72,
   "metadata": {},
   "outputs": [
    {
     "name": "stdout",
     "output_type": "stream",
     "text": [
      "Performing stepwise search to minimize aic\n",
      " ARIMA(0,2,0)(0,0,0)[12]             : AIC=3326.553, Time=0.02 sec\n",
      " ARIMA(1,2,0)(1,0,0)[12]             : AIC=3329.364, Time=0.05 sec\n",
      " ARIMA(0,2,1)(0,0,1)[12]             : AIC=3329.307, Time=0.05 sec\n",
      " ARIMA(0,2,0)(1,0,0)[12]             : AIC=3328.493, Time=0.03 sec\n",
      " ARIMA(0,2,0)(0,0,1)[12]             : AIC=3328.491, Time=0.09 sec\n",
      " ARIMA(0,2,0)(1,0,1)[12]             : AIC=3329.963, Time=0.25 sec\n",
      " ARIMA(1,2,0)(0,0,0)[12]             : AIC=3327.461, Time=0.03 sec\n",
      " ARIMA(0,2,1)(0,0,0)[12]             : AIC=3327.409, Time=0.03 sec\n",
      " ARIMA(1,2,1)(0,0,0)[12]             : AIC=3329.337, Time=0.07 sec\n",
      " ARIMA(0,2,0)(0,0,0)[12] intercept   : AIC=3328.551, Time=0.02 sec\n",
      "\n",
      "Best model:  ARIMA(0,2,0)(0,0,0)[12]          \n",
      "Total fit time: 0.666 seconds\n"
     ]
    },
    {
     "data": {
      "text/plain": [
       "ARIMA(order=(0, 2, 0), scoring_args={}, seasonal_order=(0, 0, 0, 12),\n",
       "      suppress_warnings=True, with_intercept=False)"
      ]
     },
     "execution_count": 72,
     "metadata": {},
     "output_type": "execute_result"
    }
   ],
   "source": [
    "# Running auto_arima\n",
    "auto_arima(y=train, start_p=0, start_q=0, max_p=10, max_q=10,\n",
    "                           start_P=0, start_Q=0, max_P=10, max_Q=10, m=12,\n",
    "                           max_order=None,trace=True)"
   ]
  },
  {
   "cell_type": "code",
   "execution_count": 73,
   "metadata": {},
   "outputs": [],
   "source": [
    "sarimax_model = SARIMAX(train,\n",
    "                       order=(0, 2, 1),\n",
    "                       seasonal_order=(0, 0, 0, 12),\n",
    "                       enforce_stationarity=False,\n",
    "                       enforce_invertibility=False).fit()"
   ]
  },
  {
   "cell_type": "code",
   "execution_count": 74,
   "metadata": {},
   "outputs": [
    {
     "data": {
      "image/png": "[encoded data removed]",
      "text/plain": [
       "<Figure size 864x504 with 1 Axes>"
      ]
     },
     "metadata": {
      "needs_background": "light"
     },
     "output_type": "display_data"
    }
   ],
   "source": [
    "# Plotting training predictions\n",
    "train_pred = sarimax_model.predict(typ='levels')\n",
    "test_pred = sarimax_model.predict(start=test.index[0], end=test.index[-1], typ='levels')\n",
    "\n",
    "fig,ax=plt.subplots(figsize=(12,7))\n",
    "ax.axvline(train.index[-1], ls=':', color='grey')\n",
    "ax.plot(train, label='train');\n",
    "ax.plot(train_pred, label='train pred')\n",
    "ax.plot(test, label='test')\n",
    "ax.plot(test_pred, label='test pred')\n",
    "ax.legend(loc='lower right');"
   ]
  },
  {
   "cell_type": "code",
   "execution_count": 75,
   "metadata": {},
   "outputs": [
    {
     "data": {
      "image/png": "[encoded data removed]",
      "text/plain": [
       "<Figure size 864x504 with 1 Axes>"
      ]
     },
     "metadata": {
      "needs_background": "light"
     },
     "output_type": "display_data"
    }
   ],
   "source": [
    "fig,ax=plt.subplots(figsize=(12,7))\n",
    "ax.axvline(train.index[-1], ls=':', color ='grey')\n",
    "ax.plot(train, label='train', c='mediumpurple')\n",
    "ax.plot(train_pred, label='train pred', c='gold')\n",
    "ax.plot(test, label='test', c='mediumpurple')\n",
    "ax.plot(test_pred, label='test pred',c='gold');"
   ]
  },
  {
   "cell_type": "code",
   "execution_count": 76,
   "metadata": {},
   "outputs": [
    {
     "data": {
      "image/png": "[encoded data removed]",
      "text/plain": [
       "<Figure size 864x504 with 1 Axes>"
      ]
     },
     "metadata": {
      "needs_background": "light"
     },
     "output_type": "display_data"
    }
   ],
   "source": [
    "forecast = sarimax_model.get_forecast(steps=len(test))\n",
    "pred_df = forecast_to_df(forecast,ziplist[0])\n",
    "\n",
    "plot_train_test_pred(train,test,pred_df)\n",
    "plt.show()"
   ]
  },
  {
   "cell_type": "code",
   "execution_count": 77,
   "metadata": {},
   "outputs": [
    {
     "data": {
      "text/plain": [
       "24745.297753507075"
      ]
     },
     "execution_count": 77,
     "metadata": {},
     "output_type": "execute_result"
    }
   ],
   "source": [
    "np.sqrt(mean_squared_error(test, test_pred))"
   ]
  },
  {
   "cell_type": "markdown",
   "metadata": {},
   "source": [
    "The SARIMAX model performed very well and RMSE on the test data also wend down significantly compared to the ARIMAX model. We will run auto_arima for the other zipcodes to idnetify the best performing parameters, and forecast average home values and ROIs for the next years. "
   ]
  },
  {
   "cell_type": "markdown",
   "metadata": {},
   "source": [
    "## Forecasting"
   ]
  },
  {
   "cell_type": "markdown",
   "metadata": {},
   "source": [
    "We will save each ZipCode data into individual dataframes to run the models below. "
   ]
  },
  {
   "cell_type": "code",
   "execution_count": 80,
   "metadata": {},
   "outputs": [],
   "source": [
    "ts_77532 = ts_data[ziplist[1]].copy()\n",
    "ts_78229 = ts_data[ziplist[2]].copy()\n",
    "ts_77471 = ts_data[ziplist[3]].copy()\n",
    "ts_77486 = ts_data[ziplist[4]].copy()\n",
    "ts_77380 = ts_data[ziplist[5]].copy()\n",
    "ts_75605 = ts_data[ziplist[6]].copy()\n",
    "ts_79382 = ts_data[ziplist[7]].copy()\n",
    "ts_79902 = ts_data[ziplist[8]].copy()\n",
    "ts_77546 = ts_data[ziplist[9]].copy()\n",
    "ts_78154 = ts_data[ziplist[0]].copy()"
   ]
  },
  {
   "cell_type": "code",
   "execution_count": 81,
   "metadata": {},
   "outputs": [
    {
     "data": {
      "text/html": [
       "<div>\n",
       "<style scoped>\n",
       "    .dataframe tbody tr th:only-of-type {\n",
       "        vertical-align: middle;\n",
       "    }\n",
       "\n",
       "    .dataframe tbody tr th {\n",
       "        vertical-align: top;\n",
       "    }\n",
       "\n",
       "    .dataframe thead th {\n",
       "        text-align: right;\n",
       "    }\n",
       "</style>\n",
       "<table border=\"1\" class=\"dataframe\">\n",
       "  <thead>\n",
       "    <tr style=\"text-align: right;\">\n",
       "      <th></th>\n",
       "      <th>2000-01-31</th>\n",
       "      <th>2000-02-29</th>\n",
       "      <th>2000-03-31</th>\n",
       "      <th>2000-04-30</th>\n",
       "      <th>2000-05-31</th>\n",
       "      <th>2000-06-30</th>\n",
       "      <th>2000-07-31</th>\n",
       "      <th>2000-08-31</th>\n",
       "      <th>2000-09-30</th>\n",
       "      <th>2000-10-31</th>\n",
       "      <th>...</th>\n",
       "      <th>2021-11-30</th>\n",
       "      <th>2021-12-31</th>\n",
       "      <th>2022-01-31</th>\n",
       "      <th>2022-02-28</th>\n",
       "      <th>2022-03-31</th>\n",
       "      <th>2022-04-30</th>\n",
       "      <th>2022-05-31</th>\n",
       "      <th>2022-06-30</th>\n",
       "      <th>2022-07-31</th>\n",
       "      <th>2022-08-31</th>\n",
       "    </tr>\n",
       "  </thead>\n",
       "  <tbody>\n",
       "    <tr>\n",
       "      <th>78229</th>\n",
       "      <td>102278.0</td>\n",
       "      <td>102296.0</td>\n",
       "      <td>102398.0</td>\n",
       "      <td>102485.0</td>\n",
       "      <td>101790.0</td>\n",
       "      <td>100957.0</td>\n",
       "      <td>100126.0</td>\n",
       "      <td>100174.0</td>\n",
       "      <td>100210.0</td>\n",
       "      <td>100131.0</td>\n",
       "      <td>...</td>\n",
       "      <td>236566.0</td>\n",
       "      <td>240515.0</td>\n",
       "      <td>243733.0</td>\n",
       "      <td>246121.0</td>\n",
       "      <td>249161.0</td>\n",
       "      <td>252489.0</td>\n",
       "      <td>255353.0</td>\n",
       "      <td>257522.0</td>\n",
       "      <td>258343.0</td>\n",
       "      <td>258747.0</td>\n",
       "    </tr>\n",
       "    <tr>\n",
       "      <th>77471</th>\n",
       "      <td>97120.0</td>\n",
       "      <td>97297.0</td>\n",
       "      <td>97659.0</td>\n",
       "      <td>98006.0</td>\n",
       "      <td>97790.0</td>\n",
       "      <td>97141.0</td>\n",
       "      <td>96730.0</td>\n",
       "      <td>96525.0</td>\n",
       "      <td>96652.0</td>\n",
       "      <td>97041.0</td>\n",
       "      <td>...</td>\n",
       "      <td>233464.0</td>\n",
       "      <td>236601.0</td>\n",
       "      <td>239686.0</td>\n",
       "      <td>244387.0</td>\n",
       "      <td>249732.0</td>\n",
       "      <td>255920.0</td>\n",
       "      <td>260765.0</td>\n",
       "      <td>264013.0</td>\n",
       "      <td>265312.0</td>\n",
       "      <td>264613.0</td>\n",
       "    </tr>\n",
       "    <tr>\n",
       "      <th>77486</th>\n",
       "      <td>95295.0</td>\n",
       "      <td>94999.0</td>\n",
       "      <td>94827.0</td>\n",
       "      <td>94754.0</td>\n",
       "      <td>95101.0</td>\n",
       "      <td>95087.0</td>\n",
       "      <td>94940.0</td>\n",
       "      <td>94499.0</td>\n",
       "      <td>94332.0</td>\n",
       "      <td>93971.0</td>\n",
       "      <td>...</td>\n",
       "      <td>219786.0</td>\n",
       "      <td>223706.0</td>\n",
       "      <td>227323.0</td>\n",
       "      <td>229955.0</td>\n",
       "      <td>233408.0</td>\n",
       "      <td>236194.0</td>\n",
       "      <td>239907.0</td>\n",
       "      <td>241501.0</td>\n",
       "      <td>243625.0</td>\n",
       "      <td>245626.0</td>\n",
       "    </tr>\n",
       "    <tr>\n",
       "      <th>77380</th>\n",
       "      <td>124315.0</td>\n",
       "      <td>124386.0</td>\n",
       "      <td>124464.0</td>\n",
       "      <td>124675.0</td>\n",
       "      <td>124982.0</td>\n",
       "      <td>125222.0</td>\n",
       "      <td>125169.0</td>\n",
       "      <td>125146.0</td>\n",
       "      <td>125143.0</td>\n",
       "      <td>125322.0</td>\n",
       "      <td>...</td>\n",
       "      <td>273994.0</td>\n",
       "      <td>278549.0</td>\n",
       "      <td>283059.0</td>\n",
       "      <td>288371.0</td>\n",
       "      <td>293999.0</td>\n",
       "      <td>301299.0</td>\n",
       "      <td>308958.0</td>\n",
       "      <td>315506.0</td>\n",
       "      <td>319195.0</td>\n",
       "      <td>319941.0</td>\n",
       "    </tr>\n",
       "    <tr>\n",
       "      <th>75605</th>\n",
       "      <td>96438.0</td>\n",
       "      <td>96570.0</td>\n",
       "      <td>96675.0</td>\n",
       "      <td>97001.0</td>\n",
       "      <td>97368.0</td>\n",
       "      <td>97790.0</td>\n",
       "      <td>98138.0</td>\n",
       "      <td>98413.0</td>\n",
       "      <td>98712.0</td>\n",
       "      <td>98975.0</td>\n",
       "      <td>...</td>\n",
       "      <td>226045.0</td>\n",
       "      <td>229385.0</td>\n",
       "      <td>232675.0</td>\n",
       "      <td>236620.0</td>\n",
       "      <td>240393.0</td>\n",
       "      <td>244583.0</td>\n",
       "      <td>248255.0</td>\n",
       "      <td>251819.0</td>\n",
       "      <td>255237.0</td>\n",
       "      <td>257829.0</td>\n",
       "    </tr>\n",
       "  </tbody>\n",
       "</table>\n",
       "<p>5 rows × 272 columns</p>\n",
       "</div>"
      ],
      "text/plain": [
       "       2000-01-31  2000-02-29  2000-03-31  2000-04-30  2000-05-31  2000-06-30  \\\n",
       "78229    102278.0    102296.0    102398.0    102485.0    101790.0    100957.0   \n",
       "77471     97120.0     97297.0     97659.0     98006.0     97790.0     97141.0   \n",
       "77486     95295.0     94999.0     94827.0     94754.0     95101.0     95087.0   \n",
       "77380    124315.0    124386.0    124464.0    124675.0    124982.0    125222.0   \n",
       "75605     96438.0     96570.0     96675.0     97001.0     97368.0     97790.0   \n",
       "\n",
       "       2000-07-31  2000-08-31  2000-09-30  2000-10-31  ...  2021-11-30  \\\n",
       "78229    100126.0    100174.0    100210.0    100131.0  ...    236566.0   \n",
       "77471     96730.0     96525.0     96652.0     97041.0  ...    233464.0   \n",
       "77486     94940.0     94499.0     94332.0     93971.0  ...    219786.0   \n",
       "77380    125169.0    125146.0    125143.0    125322.0  ...    273994.0   \n",
       "75605     98138.0     98413.0     98712.0     98975.0  ...    226045.0   \n",
       "\n",
       "       2021-12-31  2022-01-31  2022-02-28  2022-03-31  2022-04-30  2022-05-31  \\\n",
       "78229    240515.0    243733.0    246121.0    249161.0    252489.0    255353.0   \n",
       "77471    236601.0    239686.0    244387.0    249732.0    255920.0    260765.0   \n",
       "77486    223706.0    227323.0    229955.0    233408.0    236194.0    239907.0   \n",
       "77380    278549.0    283059.0    288371.0    293999.0    301299.0    308958.0   \n",
       "75605    229385.0    232675.0    236620.0    240393.0    244583.0    248255.0   \n",
       "\n",
       "       2022-06-30  2022-07-31  2022-08-31  \n",
       "78229    257522.0    258343.0    258747.0  \n",
       "77471    264013.0    265312.0    264613.0  \n",
       "77486    241501.0    243625.0    245626.0  \n",
       "77380    315506.0    319195.0    319941.0  \n",
       "75605    251819.0    255237.0    257829.0  \n",
       "\n",
       "[5 rows x 272 columns]"
      ]
     },
     "execution_count": 81,
     "metadata": {},
     "output_type": "execute_result"
    }
   ],
   "source": [
    "zip_data = pd.DataFrame()\n",
    "zip_data = zip_data.append(ts_77532)\n",
    "zip_data = zip_data.append(ts_78229)\n",
    "zip_data = zip_data.append(ts_77471)\n",
    "zip_data = zip_data.append(ts_77486)\n",
    "zip_data = zip_data.append(ts_77380)\n",
    "zip_data = zip_data.append(ts_75605)\n",
    "zip_data = zip_data.append(ts_79382)\n",
    "zip_data = zip_data.append(ts_79902)\n",
    "zip_data = zip_data.append(ts_77546)\n",
    "zip_data = zip_data.append(ts_78154)\n",
    "\n",
    "zip_data.head()"
   ]
  },
  {
   "cell_type": "markdown",
   "metadata": {},
   "source": [
    "### 1) ZipCode 77532 Harris County - Crosby "
   ]
  },
  {
   "cell_type": "code",
   "execution_count": 83,
   "metadata": {},
   "outputs": [
    {
     "data": {
      "text/plain": [
       "ARIMA(order=(0, 2, 0), scoring_args={}, seasonal_order=(1, 0, 1, 12),\n",
       "      suppress_warnings=True, with_intercept=False)"
      ]
     },
     "execution_count": 83,
     "metadata": {},
     "output_type": "execute_result"
    }
   ],
   "source": [
    "gridsearch = auto_arima(y=ts_77532, start_p=0, start_q=0, max_p=10, max_q=10,\n",
    "                           start_P=0, start_Q=0, max_P=10, max_Q=10, m=12,\n",
    "                           max_order=None)\n",
    "\n",
    "gridsearch"
   ]
  },
  {
   "cell_type": "code",
   "execution_count": 84,
   "metadata": {},
   "outputs": [],
   "source": [
    "pdq = (5, 1, 1)\n",
    "pdqs = (0, 0, 0, 12)\n",
    "sarimax_model = SARIMAX(ts_77532, order=pdq, \n",
    "                        seasonal_order=pdqs).fit()"
   ]
  },
  {
   "cell_type": "code",
   "execution_count": 88,
   "metadata": {},
   "outputs": [],
   "source": [
    "# This function will be used to plot train, test, prediction\n",
    "def plot_train_test(ts):\n",
    "    train_size = 0.85\n",
    "    split_idx = round(len(ts) * train_size)\n",
    "    \n",
    "    # Split \n",
    "    train = ts.iloc[:split_idx]\n",
    "    test = ts.iloc[split_idx:]\n",
    "\n",
    "    # Calculate train and test pred\n",
    "    train_pred = sarimax_model.predict(typ='levels')\n",
    "    test_pred = sarimax_model.predict(start=test.index[0], end=test.index[-1], typ='levels')\n",
    "    \n",
    "    # Calculate RMSE\n",
    "    rmse = np.sqrt(mean_squared_error(test, test_pred))\n",
    "    print(f'SARIMA model RMSE on test data: {rmse}')\n",
    "\n",
    "    # Plotting training predictions\n",
    "    fig,ax=plt.subplots(figsize=(12,7))\n",
    "    ax.axvline(train.index[-1], ls=':', color='red')\n",
    "    ax.plot(train, label='train');\n",
    "    ax.plot(train_pred, label='train pred')\n",
    "    ax.plot(test, label='test')\n",
    "    ax.plot(test_pred, label='test pred')\n",
    "    ax.legend(loc='lower right');"
   ]
  },
  {
   "cell_type": "code",
   "execution_count": 89,
   "metadata": {},
   "outputs": [
    {
     "name": "stdout",
     "output_type": "stream",
     "text": [
      "SARIMA model RMSE on test data: 1564.4231538028096\n"
     ]
    },
    {
     "data": {
      "image/png": "[encoded data removed]",
      "text/plain": [
       "<Figure size 864x504 with 1 Axes>"
      ]
     },
     "metadata": {
      "needs_background": "light"
     },
     "output_type": "display_data"
    }
   ],
   "source": [
    "plot_train_test(ts_77532)"
   ]
  },
  {
   "cell_type": "code",
   "execution_count": 90,
   "metadata": {},
   "outputs": [
    {
     "data": {
      "image/png": "[encoded data removed]",
      "text/plain": [
       "<Figure size 864x504 with 1 Axes>"
      ]
     },
     "metadata": {
      "needs_background": "light"
     },
     "output_type": "display_data"
    }
   ],
   "source": [
    "forecast = sarimax_model.get_forecast(steps=120)\n",
    "pred_df = forecast_to_df(forecast,ziplist[0])\n",
    "\n",
    "plot_train_test_pred(train,test,pred_df)\n",
    "plt.show()"
   ]
  },
  {
   "cell_type": "code",
   "execution_count": 91,
   "metadata": {},
   "outputs": [],
   "source": [
    "# This function will be used to plot ROI for the next 10 years, and print ROI in 1, 3, 5, and 10 years\n",
    "def calculate_roi(forecast):\n",
    "    investment = pred_df['prediction'].iloc[0]\n",
    "    roi = ((pred_df - investment)/investment) * 100\n",
    "    LowerCI = roi['lower']\n",
    "    UpperCI = roi['upper']\n",
    "    roi['prediction'].plot()\n",
    "    roi_1year = roi['prediction'].iloc[12]\n",
    "    roi_3year = roi['prediction'].iloc[36]\n",
    "    roi_5year = roi['prediction'].iloc[60]\n",
    "    roi_10year = roi['prediction'].iloc[-1]\n",
    "    print(f'Total Expected ROI in 1 year: {round(roi_1year,2)}%')\n",
    "    print(f'Total Expected ROI in 3 year: {round(roi_3year,2)}%') \n",
    "    print(f'Total Expected ROI in 5 year: {round(roi_5year,2)}%')\n",
    "    print(f'Total Expected ROI in 10 year: {round(roi_10year,2)}%')\n",
    "    plt.fill_between(roi.index, \n",
    "                        LowerCI,\n",
    "                        UpperCI,color='g',alpha=0.3)\n",
    "    plt.title('Forecasted ROI for next 10 Years')\n",
    "    plt.xlabel('Time')\n",
    "    plt.ylabel('ROI in %')\n",
    "    plt.tight_layout()"
   ]
  },
  {
   "cell_type": "code",
   "execution_count": 92,
   "metadata": {},
   "outputs": [
    {
     "name": "stdout",
     "output_type": "stream",
     "text": [
      "Total Expected ROI in 1 year: 2.39%\n",
      "Total Expected ROI in 3 year: 6.85%\n",
      "Total Expected ROI in 5 year: 11.24%\n",
      "Total Expected ROI in 10 year: 21.73%\n"
     ]
    },
    {
     "data": {
      "image/png": "[encoded data removed]",
      "text/plain": [
       "<Figure size 432x288 with 1 Axes>"
      ]
     },
     "metadata": {
      "needs_background": "light"
     },
     "output_type": "display_data"
    }
   ],
   "source": [
    "calculate_roi(ts_77532)"
   ]
  },
  {
   "cell_type": "code",
   "execution_count": 93,
   "metadata": {},
   "outputs": [
    {
     "data": {
      "text/html": [
       "<div>\n",
       "<style scoped>\n",
       "    .dataframe tbody tr th:only-of-type {\n",
       "        vertical-align: middle;\n",
       "    }\n",
       "\n",
       "    .dataframe tbody tr th {\n",
       "        vertical-align: top;\n",
       "    }\n",
       "\n",
       "    .dataframe thead th {\n",
       "        text-align: right;\n",
       "    }\n",
       "</style>\n",
       "<table border=\"1\" class=\"dataframe\">\n",
       "  <thead>\n",
       "    <tr style=\"text-align: right;\">\n",
       "      <th></th>\n",
       "      <th>lower</th>\n",
       "      <th>upper</th>\n",
       "      <th>prediction</th>\n",
       "    </tr>\n",
       "  </thead>\n",
       "  <tbody>\n",
       "    <tr>\n",
       "      <th>2022-09-30</th>\n",
       "      <td>258239.213274</td>\n",
       "      <td>260879.281489</td>\n",
       "      <td>259559.247382</td>\n",
       "    </tr>\n",
       "    <tr>\n",
       "      <th>2022-10-31</th>\n",
       "      <td>258239.276998</td>\n",
       "      <td>262215.805886</td>\n",
       "      <td>260227.541442</td>\n",
       "    </tr>\n",
       "    <tr>\n",
       "      <th>2022-11-30</th>\n",
       "      <td>258242.566156</td>\n",
       "      <td>263273.980814</td>\n",
       "      <td>260758.273485</td>\n",
       "    </tr>\n",
       "    <tr>\n",
       "      <th>2022-12-31</th>\n",
       "      <td>258252.171794</td>\n",
       "      <td>264317.287194</td>\n",
       "      <td>261284.729494</td>\n",
       "    </tr>\n",
       "    <tr>\n",
       "      <th>2023-01-31</th>\n",
       "      <td>258282.252268</td>\n",
       "      <td>265354.009647</td>\n",
       "      <td>261818.130957</td>\n",
       "    </tr>\n",
       "    <tr>\n",
       "      <th>...</th>\n",
       "      <td>...</td>\n",
       "      <td>...</td>\n",
       "      <td>...</td>\n",
       "    </tr>\n",
       "    <tr>\n",
       "      <th>2032-04-30</th>\n",
       "      <td>290259.533933</td>\n",
       "      <td>338026.915210</td>\n",
       "      <td>314143.224572</td>\n",
       "    </tr>\n",
       "    <tr>\n",
       "      <th>2032-05-31</th>\n",
       "      <td>290580.330612</td>\n",
       "      <td>338612.827951</td>\n",
       "      <td>314596.579282</td>\n",
       "    </tr>\n",
       "    <tr>\n",
       "      <th>2032-06-30</th>\n",
       "      <td>290901.049346</td>\n",
       "      <td>339198.208446</td>\n",
       "      <td>315049.628896</td>\n",
       "    </tr>\n",
       "    <tr>\n",
       "      <th>2032-07-31</th>\n",
       "      <td>291221.686274</td>\n",
       "      <td>339783.060965</td>\n",
       "      <td>315502.373619</td>\n",
       "    </tr>\n",
       "    <tr>\n",
       "      <th>2032-08-31</th>\n",
       "      <td>291542.237632</td>\n",
       "      <td>340367.389684</td>\n",
       "      <td>315954.813658</td>\n",
       "    </tr>\n",
       "  </tbody>\n",
       "</table>\n",
       "<p>120 rows × 3 columns</p>\n",
       "</div>"
      ],
      "text/plain": [
       "                    lower          upper     prediction\n",
       "2022-09-30  258239.213274  260879.281489  259559.247382\n",
       "2022-10-31  258239.276998  262215.805886  260227.541442\n",
       "2022-11-30  258242.566156  263273.980814  260758.273485\n",
       "2022-12-31  258252.171794  264317.287194  261284.729494\n",
       "2023-01-31  258282.252268  265354.009647  261818.130957\n",
       "...                   ...            ...            ...\n",
       "2032-04-30  290259.533933  338026.915210  314143.224572\n",
       "2032-05-31  290580.330612  338612.827951  314596.579282\n",
       "2032-06-30  290901.049346  339198.208446  315049.628896\n",
       "2032-07-31  291221.686274  339783.060965  315502.373619\n",
       "2032-08-31  291542.237632  340367.389684  315954.813658\n",
       "\n",
       "[120 rows x 3 columns]"
      ]
     },
     "execution_count": 93,
     "metadata": {},
     "output_type": "execute_result"
    }
   ],
   "source": [
    "pred_df"
   ]
  },
  {
   "cell_type": "markdown",
   "metadata": {},
   "source": [
    "### 2) ZipCode 78229 Bexar County - San Antonio"
   ]
  },
  {
   "cell_type": "code",
   "execution_count": null,
   "metadata": {},
   "outputs": [],
   "source": []
  }
 ],
 "metadata": {
  "kernelspec": {
   "display_name": "Python 3",
   "language": "python",
   "name": "python3"
  },
  "language_info": {
   "codemirror_mode": {
    "name": "ipython",
    "version": 3
   },
   "file_extension": ".py",
   "mimetype": "text/x-python",
   "name": "python",
   "nbconvert_exporter": "python",
   "pygments_lexer": "ipython3",
   "version": "3.8.5"
  }
 },
 "nbformat": 4,
 "nbformat_minor": 4
}
