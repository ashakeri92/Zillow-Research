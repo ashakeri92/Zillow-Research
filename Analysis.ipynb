{
 "cells": [
  {
   "cell_type": "markdown",
   "metadata": {},
   "source": [
    "# Zillow Research Analysis"
   ]
  },
  {
   "cell_type": "markdown",
   "metadata": {},
   "source": [
    "by: Armun Shakeri"
   ]
  },
  {
   "cell_type": "code",
   "execution_count": 1,
   "metadata": {},
   "outputs": [],
   "source": [
    "# Ideas for analysis\n",
    "\n",
    "# 3 year, 5 year, and 10 year\n",
    "# forecast housing prices \n",
    "# ROI, highest and lowest\n",
    "# Median Sale Price\n"
   ]
  },
  {
   "cell_type": "markdown",
   "metadata": {},
   "source": [
    "## Overview and Business Problem"
   ]
  },
  {
   "cell_type": "markdown",
   "metadata": {},
   "source": [
    "This project analyzes 3 bedroom homes in Texas to determine which 10 zipcodes had the highest ROI for 3, 5 and 10 year span. "
   ]
  },
  {
   "cell_type": "markdown",
   "metadata": {},
   "source": [
    "## Data Understanding"
   ]
  },
  {
   "cell_type": "markdown",
   "metadata": {},
   "source": [
    "This data represents median monthly housing sales for 3 bedroom homes across the United States. \n",
    "\n",
    "Each row represents a unique ZipCode. Each record contains loccation info and median housing sales prices for each month.\n",
    "\n",
    "There are 23404 rows and 281 variables:\n",
    "\n",
    "RegionID: Unique index, \n",
    "<br />RegionName: Unique Zip Code,\n",
    "<br />City: City in which the zip code is located,\n",
    "<br />State: State in which the zip code is located,\n",
    "<br />Metro: Metropolitan Area in which the zip code is located,\n",
    "<br />CountyName: County in which the zip code is located,\n",
    "<br />SizeRank: Numerical rank of size of zip code, ranked 1 through 23404\n",
    "01-00 through 08-22: refers to the median housing sales values for January 2000 through August 2022, that is 274 data points of monthly data for each zip code"
   ]
  },
  {
   "cell_type": "markdown",
   "metadata": {},
   "source": [
    "## Import standard packages and data"
   ]
  },
  {
   "cell_type": "code",
   "execution_count": 2,
   "metadata": {},
   "outputs": [],
   "source": [
    "import pandas as pd\n",
    "import numpy as np\n",
    "import matplotlib.pyplot as plt\n",
    "import seaborn as sns\n",
    "import itertools\n",
    "import time\n",
    "from datetime import datetime\n",
    "import warnings\n",
    "warnings.filterwarnings('ignore')"
   ]
  },
  {
   "cell_type": "code",
   "execution_count": 3,
   "metadata": {},
   "outputs": [
    {
     "data": {
      "text/html": [
       "<div>\n",
       "<style scoped>\n",
       "    .dataframe tbody tr th:only-of-type {\n",
       "        vertical-align: middle;\n",
       "    }\n",
       "\n",
       "    .dataframe tbody tr th {\n",
       "        vertical-align: top;\n",
       "    }\n",
       "\n",
       "    .dataframe thead th {\n",
       "        text-align: right;\n",
       "    }\n",
       "</style>\n",
       "<table border=\"1\" class=\"dataframe\">\n",
       "  <thead>\n",
       "    <tr style=\"text-align: right;\">\n",
       "      <th></th>\n",
       "      <th>RegionID</th>\n",
       "      <th>SizeRank</th>\n",
       "      <th>RegionName</th>\n",
       "      <th>RegionType</th>\n",
       "      <th>StateName</th>\n",
       "      <th>State</th>\n",
       "      <th>City</th>\n",
       "      <th>Metro</th>\n",
       "      <th>CountyName</th>\n",
       "      <th>2000-01-31</th>\n",
       "      <th>...</th>\n",
       "      <th>2021-11-30</th>\n",
       "      <th>2021-12-31</th>\n",
       "      <th>2022-01-31</th>\n",
       "      <th>2022-02-28</th>\n",
       "      <th>2022-03-31</th>\n",
       "      <th>2022-04-30</th>\n",
       "      <th>2022-05-31</th>\n",
       "      <th>2022-06-30</th>\n",
       "      <th>2022-07-31</th>\n",
       "      <th>2022-08-31</th>\n",
       "    </tr>\n",
       "  </thead>\n",
       "  <tbody>\n",
       "    <tr>\n",
       "      <th>0</th>\n",
       "      <td>91940</td>\n",
       "      <td>0</td>\n",
       "      <td>77449</td>\n",
       "      <td>zip</td>\n",
       "      <td>TX</td>\n",
       "      <td>TX</td>\n",
       "      <td>NaN</td>\n",
       "      <td>Houston-The Woodlands-Sugar Land, TX</td>\n",
       "      <td>Harris County</td>\n",
       "      <td>96603.0</td>\n",
       "      <td>...</td>\n",
       "      <td>232376.0</td>\n",
       "      <td>236021.0</td>\n",
       "      <td>239693.0</td>\n",
       "      <td>244103.0</td>\n",
       "      <td>249528.0</td>\n",
       "      <td>255561.0</td>\n",
       "      <td>261406.0</td>\n",
       "      <td>266140.0</td>\n",
       "      <td>269363.0</td>\n",
       "      <td>271087.0</td>\n",
       "    </tr>\n",
       "    <tr>\n",
       "      <th>1</th>\n",
       "      <td>91982</td>\n",
       "      <td>1</td>\n",
       "      <td>77494</td>\n",
       "      <td>zip</td>\n",
       "      <td>TX</td>\n",
       "      <td>TX</td>\n",
       "      <td>NaN</td>\n",
       "      <td>Houston-The Woodlands-Sugar Land, TX</td>\n",
       "      <td>Fort Bend County</td>\n",
       "      <td>163540.0</td>\n",
       "      <td>...</td>\n",
       "      <td>330128.0</td>\n",
       "      <td>334969.0</td>\n",
       "      <td>339733.0</td>\n",
       "      <td>346806.0</td>\n",
       "      <td>355476.0</td>\n",
       "      <td>365971.0</td>\n",
       "      <td>374539.0</td>\n",
       "      <td>379908.0</td>\n",
       "      <td>381471.0</td>\n",
       "      <td>380327.0</td>\n",
       "    </tr>\n",
       "    <tr>\n",
       "      <th>2</th>\n",
       "      <td>93144</td>\n",
       "      <td>2</td>\n",
       "      <td>79936</td>\n",
       "      <td>zip</td>\n",
       "      <td>TX</td>\n",
       "      <td>TX</td>\n",
       "      <td>El Paso</td>\n",
       "      <td>El Paso, TX</td>\n",
       "      <td>El Paso County</td>\n",
       "      <td>87170.0</td>\n",
       "      <td>...</td>\n",
       "      <td>167760.0</td>\n",
       "      <td>169442.0</td>\n",
       "      <td>171444.0</td>\n",
       "      <td>173448.0</td>\n",
       "      <td>175569.0</td>\n",
       "      <td>178832.0</td>\n",
       "      <td>182377.0</td>\n",
       "      <td>185780.0</td>\n",
       "      <td>188090.0</td>\n",
       "      <td>189856.0</td>\n",
       "    </tr>\n",
       "    <tr>\n",
       "      <th>3</th>\n",
       "      <td>62080</td>\n",
       "      <td>3</td>\n",
       "      <td>11368</td>\n",
       "      <td>zip</td>\n",
       "      <td>NY</td>\n",
       "      <td>NY</td>\n",
       "      <td>New York</td>\n",
       "      <td>New York-Newark-Jersey City, NY-NJ-PA</td>\n",
       "      <td>Queens County</td>\n",
       "      <td>324450.0</td>\n",
       "      <td>...</td>\n",
       "      <td>814606.0</td>\n",
       "      <td>815163.0</td>\n",
       "      <td>817786.0</td>\n",
       "      <td>818496.0</td>\n",
       "      <td>823195.0</td>\n",
       "      <td>827059.0</td>\n",
       "      <td>836542.0</td>\n",
       "      <td>842837.0</td>\n",
       "      <td>849412.0</td>\n",
       "      <td>852484.0</td>\n",
       "    </tr>\n",
       "    <tr>\n",
       "      <th>4</th>\n",
       "      <td>62093</td>\n",
       "      <td>4</td>\n",
       "      <td>11385</td>\n",
       "      <td>zip</td>\n",
       "      <td>NY</td>\n",
       "      <td>NY</td>\n",
       "      <td>New York</td>\n",
       "      <td>New York-Newark-Jersey City, NY-NJ-PA</td>\n",
       "      <td>Queens County</td>\n",
       "      <td>279395.0</td>\n",
       "      <td>...</td>\n",
       "      <td>749033.0</td>\n",
       "      <td>750202.0</td>\n",
       "      <td>754601.0</td>\n",
       "      <td>758353.0</td>\n",
       "      <td>764191.0</td>\n",
       "      <td>766694.0</td>\n",
       "      <td>772804.0</td>\n",
       "      <td>778368.0</td>\n",
       "      <td>783167.0</td>\n",
       "      <td>785138.0</td>\n",
       "    </tr>\n",
       "  </tbody>\n",
       "</table>\n",
       "<p>5 rows × 281 columns</p>\n",
       "</div>"
      ],
      "text/plain": [
       "   RegionID  SizeRank  RegionName RegionType StateName State      City  \\\n",
       "0     91940         0       77449        zip        TX    TX       NaN   \n",
       "1     91982         1       77494        zip        TX    TX       NaN   \n",
       "2     93144         2       79936        zip        TX    TX   El Paso   \n",
       "3     62080         3       11368        zip        NY    NY  New York   \n",
       "4     62093         4       11385        zip        NY    NY  New York   \n",
       "\n",
       "                                   Metro        CountyName  2000-01-31  ...  \\\n",
       "0   Houston-The Woodlands-Sugar Land, TX     Harris County     96603.0  ...   \n",
       "1   Houston-The Woodlands-Sugar Land, TX  Fort Bend County    163540.0  ...   \n",
       "2                            El Paso, TX    El Paso County     87170.0  ...   \n",
       "3  New York-Newark-Jersey City, NY-NJ-PA     Queens County    324450.0  ...   \n",
       "4  New York-Newark-Jersey City, NY-NJ-PA     Queens County    279395.0  ...   \n",
       "\n",
       "   2021-11-30  2021-12-31  2022-01-31  2022-02-28  2022-03-31  2022-04-30  \\\n",
       "0    232376.0    236021.0    239693.0    244103.0    249528.0    255561.0   \n",
       "1    330128.0    334969.0    339733.0    346806.0    355476.0    365971.0   \n",
       "2    167760.0    169442.0    171444.0    173448.0    175569.0    178832.0   \n",
       "3    814606.0    815163.0    817786.0    818496.0    823195.0    827059.0   \n",
       "4    749033.0    750202.0    754601.0    758353.0    764191.0    766694.0   \n",
       "\n",
       "   2022-05-31  2022-06-30  2022-07-31  2022-08-31  \n",
       "0    261406.0    266140.0    269363.0    271087.0  \n",
       "1    374539.0    379908.0    381471.0    380327.0  \n",
       "2    182377.0    185780.0    188090.0    189856.0  \n",
       "3    836542.0    842837.0    849412.0    852484.0  \n",
       "4    772804.0    778368.0    783167.0    785138.0  \n",
       "\n",
       "[5 rows x 281 columns]"
      ]
     },
     "execution_count": 3,
     "metadata": {},
     "output_type": "execute_result"
    }
   ],
   "source": [
    "data = pd.read_csv(\"Data/Zip_zhvi_bdrmcnt_3_uc_sfrcondo_tier_0.33_0.67_sm_sa_month.csv\")\n",
    "data.head()"
   ]
  },
  {
   "cell_type": "markdown",
   "metadata": {},
   "source": [
    "Drop all states outside of Texas, and display information regarding columns. "
   ]
  },
  {
   "cell_type": "code",
   "execution_count": 4,
   "metadata": {},
   "outputs": [
    {
     "name": "stdout",
     "output_type": "stream",
     "text": [
      "<class 'pandas.core.frame.DataFrame'>\n",
      "Int64Index: 1293 entries, 0 to 23400\n",
      "Data columns (total 281 columns):\n",
      " #   Column      Dtype  \n",
      "---  ------      -----  \n",
      " 0   RegionID    int64  \n",
      " 1   SizeRank    int64  \n",
      " 2   RegionName  int64  \n",
      " 3   RegionType  object \n",
      " 4   StateName   object \n",
      " 5   State       object \n",
      " 6   City        object \n",
      " 7   Metro       object \n",
      " 8   CountyName  object \n",
      " 9   2000-01-31  float64\n",
      " 10  2000-02-29  float64\n",
      " 11  2000-03-31  float64\n",
      " 12  2000-04-30  float64\n",
      " 13  2000-05-31  float64\n",
      " 14  2000-06-30  float64\n",
      " 15  2000-07-31  float64\n",
      " 16  2000-08-31  float64\n",
      " 17  2000-09-30  float64\n",
      " 18  2000-10-31  float64\n",
      " 19  2000-11-30  float64\n",
      " 20  2000-12-31  float64\n",
      " 21  2001-01-31  float64\n",
      " 22  2001-02-28  float64\n",
      " 23  2001-03-31  float64\n",
      " 24  2001-04-30  float64\n",
      " 25  2001-05-31  float64\n",
      " 26  2001-06-30  float64\n",
      " 27  2001-07-31  float64\n",
      " 28  2001-08-31  float64\n",
      " 29  2001-09-30  float64\n",
      " 30  2001-10-31  float64\n",
      " 31  2001-11-30  float64\n",
      " 32  2001-12-31  float64\n",
      " 33  2002-01-31  float64\n",
      " 34  2002-02-28  float64\n",
      " 35  2002-03-31  float64\n",
      " 36  2002-04-30  float64\n",
      " 37  2002-05-31  float64\n",
      " 38  2002-06-30  float64\n",
      " 39  2002-07-31  float64\n",
      " 40  2002-08-31  float64\n",
      " 41  2002-09-30  float64\n",
      " 42  2002-10-31  float64\n",
      " 43  2002-11-30  float64\n",
      " 44  2002-12-31  float64\n",
      " 45  2003-01-31  float64\n",
      " 46  2003-02-28  float64\n",
      " 47  2003-03-31  float64\n",
      " 48  2003-04-30  float64\n",
      " 49  2003-05-31  float64\n",
      " 50  2003-06-30  float64\n",
      " 51  2003-07-31  float64\n",
      " 52  2003-08-31  float64\n",
      " 53  2003-09-30  float64\n",
      " 54  2003-10-31  float64\n",
      " 55  2003-11-30  float64\n",
      " 56  2003-12-31  float64\n",
      " 57  2004-01-31  float64\n",
      " 58  2004-02-29  float64\n",
      " 59  2004-03-31  float64\n",
      " 60  2004-04-30  float64\n",
      " 61  2004-05-31  float64\n",
      " 62  2004-06-30  float64\n",
      " 63  2004-07-31  float64\n",
      " 64  2004-08-31  float64\n",
      " 65  2004-09-30  float64\n",
      " 66  2004-10-31  float64\n",
      " 67  2004-11-30  float64\n",
      " 68  2004-12-31  float64\n",
      " 69  2005-01-31  float64\n",
      " 70  2005-02-28  float64\n",
      " 71  2005-03-31  float64\n",
      " 72  2005-04-30  float64\n",
      " 73  2005-05-31  float64\n",
      " 74  2005-06-30  float64\n",
      " 75  2005-07-31  float64\n",
      " 76  2005-08-31  float64\n",
      " 77  2005-09-30  float64\n",
      " 78  2005-10-31  float64\n",
      " 79  2005-11-30  float64\n",
      " 80  2005-12-31  float64\n",
      " 81  2006-01-31  float64\n",
      " 82  2006-02-28  float64\n",
      " 83  2006-03-31  float64\n",
      " 84  2006-04-30  float64\n",
      " 85  2006-05-31  float64\n",
      " 86  2006-06-30  float64\n",
      " 87  2006-07-31  float64\n",
      " 88  2006-08-31  float64\n",
      " 89  2006-09-30  float64\n",
      " 90  2006-10-31  float64\n",
      " 91  2006-11-30  float64\n",
      " 92  2006-12-31  float64\n",
      " 93  2007-01-31  float64\n",
      " 94  2007-02-28  float64\n",
      " 95  2007-03-31  float64\n",
      " 96  2007-04-30  float64\n",
      " 97  2007-05-31  float64\n",
      " 98  2007-06-30  float64\n",
      " 99  2007-07-31  float64\n",
      " 100 2007-08-31  float64\n",
      " 101 2007-09-30  float64\n",
      " 102 2007-10-31  float64\n",
      " 103 2007-11-30  float64\n",
      " 104 2007-12-31  float64\n",
      " 105 2008-01-31  float64\n",
      " 106 2008-02-29  float64\n",
      " 107 2008-03-31  float64\n",
      " 108 2008-04-30  float64\n",
      " 109 2008-05-31  float64\n",
      " 110 2008-06-30  float64\n",
      " 111 2008-07-31  float64\n",
      " 112 2008-08-31  float64\n",
      " 113 2008-09-30  float64\n",
      " 114 2008-10-31  float64\n",
      " 115 2008-11-30  float64\n",
      " 116 2008-12-31  float64\n",
      " 117 2009-01-31  float64\n",
      " 118 2009-02-28  float64\n",
      " 119 2009-03-31  float64\n",
      " 120 2009-04-30  float64\n",
      " 121 2009-05-31  float64\n",
      " 122 2009-06-30  float64\n",
      " 123 2009-07-31  float64\n",
      " 124 2009-08-31  float64\n",
      " 125 2009-09-30  float64\n",
      " 126 2009-10-31  float64\n",
      " 127 2009-11-30  float64\n",
      " 128 2009-12-31  float64\n",
      " 129 2010-01-31  float64\n",
      " 130 2010-02-28  float64\n",
      " 131 2010-03-31  float64\n",
      " 132 2010-04-30  float64\n",
      " 133 2010-05-31  float64\n",
      " 134 2010-06-30  float64\n",
      " 135 2010-07-31  float64\n",
      " 136 2010-08-31  float64\n",
      " 137 2010-09-30  float64\n",
      " 138 2010-10-31  float64\n",
      " 139 2010-11-30  float64\n",
      " 140 2010-12-31  float64\n",
      " 141 2011-01-31  float64\n",
      " 142 2011-02-28  float64\n",
      " 143 2011-03-31  float64\n",
      " 144 2011-04-30  float64\n",
      " 145 2011-05-31  float64\n",
      " 146 2011-06-30  float64\n",
      " 147 2011-07-31  float64\n",
      " 148 2011-08-31  float64\n",
      " 149 2011-09-30  float64\n",
      " 150 2011-10-31  float64\n",
      " 151 2011-11-30  float64\n",
      " 152 2011-12-31  float64\n",
      " 153 2012-01-31  float64\n",
      " 154 2012-02-29  float64\n",
      " 155 2012-03-31  float64\n",
      " 156 2012-04-30  float64\n",
      " 157 2012-05-31  float64\n",
      " 158 2012-06-30  float64\n",
      " 159 2012-07-31  float64\n",
      " 160 2012-08-31  float64\n",
      " 161 2012-09-30  float64\n",
      " 162 2012-10-31  float64\n",
      " 163 2012-11-30  float64\n",
      " 164 2012-12-31  float64\n",
      " 165 2013-01-31  float64\n",
      " 166 2013-02-28  float64\n",
      " 167 2013-03-31  float64\n",
      " 168 2013-04-30  float64\n",
      " 169 2013-05-31  float64\n",
      " 170 2013-06-30  float64\n",
      " 171 2013-07-31  float64\n",
      " 172 2013-08-31  float64\n",
      " 173 2013-09-30  float64\n",
      " 174 2013-10-31  float64\n",
      " 175 2013-11-30  float64\n",
      " 176 2013-12-31  float64\n",
      " 177 2014-01-31  float64\n",
      " 178 2014-02-28  float64\n",
      " 179 2014-03-31  float64\n",
      " 180 2014-04-30  float64\n",
      " 181 2014-05-31  float64\n",
      " 182 2014-06-30  float64\n",
      " 183 2014-07-31  float64\n",
      " 184 2014-08-31  float64\n",
      " 185 2014-09-30  float64\n",
      " 186 2014-10-31  float64\n",
      " 187 2014-11-30  float64\n",
      " 188 2014-12-31  float64\n",
      " 189 2015-01-31  float64\n",
      " 190 2015-02-28  float64\n",
      " 191 2015-03-31  float64\n",
      " 192 2015-04-30  float64\n",
      " 193 2015-05-31  float64\n",
      " 194 2015-06-30  float64\n",
      " 195 2015-07-31  float64\n",
      " 196 2015-08-31  float64\n",
      " 197 2015-09-30  float64\n",
      " 198 2015-10-31  float64\n",
      " 199 2015-11-30  float64\n",
      " 200 2015-12-31  float64\n",
      " 201 2016-01-31  float64\n",
      " 202 2016-02-29  float64\n",
      " 203 2016-03-31  float64\n",
      " 204 2016-04-30  float64\n",
      " 205 2016-05-31  float64\n",
      " 206 2016-06-30  float64\n",
      " 207 2016-07-31  float64\n",
      " 208 2016-08-31  float64\n",
      " 209 2016-09-30  float64\n",
      " 210 2016-10-31  float64\n",
      " 211 2016-11-30  float64\n",
      " 212 2016-12-31  float64\n",
      " 213 2017-01-31  float64\n",
      " 214 2017-02-28  float64\n",
      " 215 2017-03-31  float64\n",
      " 216 2017-04-30  float64\n",
      " 217 2017-05-31  float64\n",
      " 218 2017-06-30  float64\n",
      " 219 2017-07-31  float64\n",
      " 220 2017-08-31  float64\n",
      " 221 2017-09-30  float64\n",
      " 222 2017-10-31  float64\n",
      " 223 2017-11-30  float64\n",
      " 224 2017-12-31  float64\n",
      " 225 2018-01-31  float64\n",
      " 226 2018-02-28  float64\n",
      " 227 2018-03-31  float64\n",
      " 228 2018-04-30  float64\n",
      " 229 2018-05-31  float64\n",
      " 230 2018-06-30  float64\n",
      " 231 2018-07-31  float64\n",
      " 232 2018-08-31  float64\n",
      " 233 2018-09-30  float64\n",
      " 234 2018-10-31  float64\n",
      " 235 2018-11-30  float64\n",
      " 236 2018-12-31  float64\n",
      " 237 2019-01-31  float64\n",
      " 238 2019-02-28  float64\n",
      " 239 2019-03-31  float64\n",
      " 240 2019-04-30  float64\n",
      " 241 2019-05-31  float64\n",
      " 242 2019-06-30  float64\n",
      " 243 2019-07-31  float64\n",
      " 244 2019-08-31  float64\n",
      " 245 2019-09-30  float64\n",
      " 246 2019-10-31  float64\n",
      " 247 2019-11-30  float64\n",
      " 248 2019-12-31  float64\n",
      " 249 2020-01-31  float64\n",
      " 250 2020-02-29  float64\n",
      " 251 2020-03-31  float64\n",
      " 252 2020-04-30  float64\n",
      " 253 2020-05-31  float64\n",
      " 254 2020-06-30  float64\n",
      " 255 2020-07-31  float64\n",
      " 256 2020-08-31  float64\n",
      " 257 2020-09-30  float64\n",
      " 258 2020-10-31  float64\n",
      " 259 2020-11-30  float64\n",
      " 260 2020-12-31  float64\n",
      " 261 2021-01-31  float64\n",
      " 262 2021-02-28  float64\n",
      " 263 2021-03-31  float64\n",
      " 264 2021-04-30  float64\n",
      " 265 2021-05-31  float64\n",
      " 266 2021-06-30  float64\n",
      " 267 2021-07-31  float64\n",
      " 268 2021-08-31  float64\n",
      " 269 2021-09-30  float64\n",
      " 270 2021-10-31  float64\n",
      " 271 2021-11-30  float64\n",
      " 272 2021-12-31  float64\n",
      " 273 2022-01-31  float64\n",
      " 274 2022-02-28  float64\n",
      " 275 2022-03-31  float64\n",
      " 276 2022-04-30  float64\n",
      " 277 2022-05-31  float64\n",
      " 278 2022-06-30  float64\n",
      " 279 2022-07-31  float64\n",
      " 280 2022-08-31  float64\n",
      "dtypes: float64(272), int64(3), object(6)\n",
      "memory usage: 2.8+ MB\n"
     ]
    }
   ],
   "source": [
    "data = data[data['State'] == 'TX']\n",
    "data.head()\n",
    "data.info(verbose=True)"
   ]
  },
  {
   "cell_type": "markdown",
   "metadata": {},
   "source": [
    "We will drop 'StateName' and 'RegionType' due to redundancy, and 'SizeRank' due to it being irrelevant for analysis. "
   ]
  },
  {
   "cell_type": "code",
   "execution_count": 5,
   "metadata": {},
   "outputs": [],
   "source": [
    "# Drop unnecessary columns \n",
    "data = data.drop(['RegionID', 'StateName', 'RegionType', 'SizeRank'], axis=1)\n",
    "\n",
    "# Change name of 'RegionName' to 'ZipCode'\n",
    "data = data.rename(columns={'RegionName': 'ZipCode'})"
   ]
  },
  {
   "cell_type": "markdown",
   "metadata": {},
   "source": [
    "We can see that there are 101,792 missing values within the dataset. "
   ]
  },
  {
   "cell_type": "code",
   "execution_count": 6,
   "metadata": {},
   "outputs": [
    {
     "data": {
      "text/plain": [
       "101792"
      ]
     },
     "execution_count": 6,
     "metadata": {},
     "output_type": "execute_result"
    }
   ],
   "source": [
    "data.isna().sum().sum()"
   ]
  },
  {
   "cell_type": "markdown",
   "metadata": {},
   "source": [
    "The data has 1,293 rows and 279 columns."
   ]
  },
  {
   "cell_type": "code",
   "execution_count": 7,
   "metadata": {},
   "outputs": [
    {
     "data": {
      "text/plain": [
       "(1293, 277)"
      ]
     },
     "execution_count": 7,
     "metadata": {},
     "output_type": "execute_result"
    }
   ],
   "source": [
    "data.shape"
   ]
  },
  {
   "cell_type": "markdown",
   "metadata": {},
   "source": [
    "## Analyze 'ZipCode'"
   ]
  },
  {
   "cell_type": "markdown",
   "metadata": {},
   "source": [
    "Next we will look at RegionName, this is the zip code. We can see that there are 419 unique values. "
   ]
  },
  {
   "cell_type": "code",
   "execution_count": 8,
   "metadata": {},
   "outputs": [
    {
     "data": {
      "text/plain": [
       "77880    1\n",
       "76437    1\n",
       "76476    1\n",
       "78526    1\n",
       "76085    1\n",
       "        ..\n",
       "78933    1\n",
       "79226    1\n",
       "77657    1\n",
       "75134    1\n",
       "77563    1\n",
       "Name: ZipCode, Length: 1293, dtype: int64"
      ]
     },
     "execution_count": 8,
     "metadata": {},
     "output_type": "execute_result"
    }
   ],
   "source": [
    "data.ZipCode.value_counts() "
   ]
  },
  {
   "cell_type": "markdown",
   "metadata": {},
   "source": [
    "All zipcodes are unique. I will change the astype to string."
   ]
  },
  {
   "cell_type": "code",
   "execution_count": 9,
   "metadata": {},
   "outputs": [],
   "source": [
    "data.ZipCode = data.ZipCode.astype('string')"
   ]
  },
  {
   "cell_type": "code",
   "execution_count": 10,
   "metadata": {},
   "outputs": [
    {
     "data": {
      "text/html": [
       "<div>\n",
       "<style scoped>\n",
       "    .dataframe tbody tr th:only-of-type {\n",
       "        vertical-align: middle;\n",
       "    }\n",
       "\n",
       "    .dataframe tbody tr th {\n",
       "        vertical-align: top;\n",
       "    }\n",
       "\n",
       "    .dataframe thead th {\n",
       "        text-align: right;\n",
       "    }\n",
       "</style>\n",
       "<table border=\"1\" class=\"dataframe\">\n",
       "  <thead>\n",
       "    <tr style=\"text-align: right;\">\n",
       "      <th></th>\n",
       "      <th>ZipCode</th>\n",
       "      <th>State</th>\n",
       "    </tr>\n",
       "  </thead>\n",
       "  <tbody>\n",
       "    <tr>\n",
       "      <th>7529</th>\n",
       "      <td>75001</td>\n",
       "      <td>TX</td>\n",
       "    </tr>\n",
       "    <tr>\n",
       "      <th>142</th>\n",
       "      <td>75002</td>\n",
       "      <td>TX</td>\n",
       "    </tr>\n",
       "    <tr>\n",
       "      <th>768</th>\n",
       "      <td>75006</td>\n",
       "      <td>TX</td>\n",
       "    </tr>\n",
       "    <tr>\n",
       "      <th>571</th>\n",
       "      <td>75007</td>\n",
       "      <td>TX</td>\n",
       "    </tr>\n",
       "    <tr>\n",
       "      <th>6689</th>\n",
       "      <td>75009</td>\n",
       "      <td>TX</td>\n",
       "    </tr>\n",
       "    <tr>\n",
       "      <th>...</th>\n",
       "      <td>...</td>\n",
       "      <td>...</td>\n",
       "    </tr>\n",
       "    <tr>\n",
       "      <th>3745</th>\n",
       "      <td>79932</td>\n",
       "      <td>TX</td>\n",
       "    </tr>\n",
       "    <tr>\n",
       "      <th>4607</th>\n",
       "      <td>79934</td>\n",
       "      <td>TX</td>\n",
       "    </tr>\n",
       "    <tr>\n",
       "      <th>7240</th>\n",
       "      <td>79935</td>\n",
       "      <td>TX</td>\n",
       "    </tr>\n",
       "    <tr>\n",
       "      <th>2</th>\n",
       "      <td>79936</td>\n",
       "      <td>TX</td>\n",
       "    </tr>\n",
       "    <tr>\n",
       "      <th>97</th>\n",
       "      <td>79938</td>\n",
       "      <td>TX</td>\n",
       "    </tr>\n",
       "  </tbody>\n",
       "</table>\n",
       "<p>1293 rows × 2 columns</p>\n",
       "</div>"
      ],
      "text/plain": [
       "     ZipCode State\n",
       "7529   75001    TX\n",
       "142    75002    TX\n",
       "768    75006    TX\n",
       "571    75007    TX\n",
       "6689   75009    TX\n",
       "...      ...   ...\n",
       "3745   79932    TX\n",
       "4607   79934    TX\n",
       "7240   79935    TX\n",
       "2      79936    TX\n",
       "97     79938    TX\n",
       "\n",
       "[1293 rows x 2 columns]"
      ]
     },
     "execution_count": 10,
     "metadata": {},
     "output_type": "execute_result"
    }
   ],
   "source": [
    "data[['ZipCode', 'State']].sort_values(by=['ZipCode'])"
   ]
  },
  {
   "cell_type": "markdown",
   "metadata": {},
   "source": [
    "## Analyze 'City'"
   ]
  },
  {
   "cell_type": "code",
   "execution_count": 11,
   "metadata": {},
   "outputs": [
    {
     "data": {
      "text/plain": [
       "701"
      ]
     },
     "execution_count": 11,
     "metadata": {},
     "output_type": "execute_result"
    }
   ],
   "source": [
    "data.City.nunique()"
   ]
  },
  {
   "cell_type": "code",
   "execution_count": 12,
   "metadata": {},
   "outputs": [
    {
     "data": {
      "text/plain": [
       "102"
      ]
     },
     "execution_count": 12,
     "metadata": {},
     "output_type": "execute_result"
    }
   ],
   "source": [
    "data.City.isna().sum()"
   ]
  },
  {
   "cell_type": "code",
   "execution_count": 13,
   "metadata": {},
   "outputs": [],
   "source": [
    "data.City.fillna('None', inplace=True)"
   ]
  },
  {
   "cell_type": "markdown",
   "metadata": {},
   "source": [
    "## Analyze 'Metro'"
   ]
  },
  {
   "cell_type": "markdown",
   "metadata": {},
   "source": [
    "Fillna with None"
   ]
  },
  {
   "cell_type": "code",
   "execution_count": 14,
   "metadata": {},
   "outputs": [
    {
     "name": "stdout",
     "output_type": "stream",
     "text": [
      "Dallas-Fort Worth-Arlington, TX         249\n",
      "Houston-The Woodlands-Sugar Land, TX    213\n",
      "San Antonio-New Braunfels, TX            94\n",
      "Austin-Round Rock-Georgetown, TX         83\n",
      "El Paso, TX                              26\n",
      "                                       ... \n",
      "Lamesa, TX                                1\n",
      "Zapata, TX                                1\n",
      "Pearsall, TX                              1\n",
      "Eagle Pass, TX                            1\n",
      "Pampa, TX                                 1\n",
      "Name: Metro, Length: 71, dtype: int64\n",
      "71\n"
     ]
    }
   ],
   "source": [
    "print(data.Metro.value_counts())\n",
    "print(data.Metro.nunique())"
   ]
  },
  {
   "cell_type": "code",
   "execution_count": 15,
   "metadata": {},
   "outputs": [],
   "source": [
    "data.Metro.fillna('None', inplace=True)"
   ]
  },
  {
   "cell_type": "code",
   "execution_count": 16,
   "metadata": {},
   "outputs": [
    {
     "data": {
      "text/plain": [
       "Dallas-Fort Worth-Arlington, TX         249\n",
       "Houston-The Woodlands-Sugar Land, TX    213\n",
       "None                                    189\n",
       "San Antonio-New Braunfels, TX            94\n",
       "Austin-Round Rock-Georgetown, TX         83\n",
       "                                       ... \n",
       "Lamesa, TX                                1\n",
       "Zapata, TX                                1\n",
       "Pearsall, TX                              1\n",
       "Eagle Pass, TX                            1\n",
       "Pampa, TX                                 1\n",
       "Name: Metro, Length: 72, dtype: int64"
      ]
     },
     "execution_count": 16,
     "metadata": {},
     "output_type": "execute_result"
    }
   ],
   "source": [
    "data.Metro.value_counts()"
   ]
  },
  {
   "cell_type": "markdown",
   "metadata": {},
   "source": [
    "## Analyze 'CountyName'"
   ]
  },
  {
   "cell_type": "code",
   "execution_count": 17,
   "metadata": {},
   "outputs": [
    {
     "data": {
      "text/plain": [
       "Harris County       129\n",
       "Dallas County        77\n",
       "Bexar County         65\n",
       "Tarrant County       63\n",
       "Travis County        45\n",
       "                   ... \n",
       "Ochiltree County      1\n",
       "Delta County          1\n",
       "Coleman County        1\n",
       "Armstrong County      1\n",
       "Hartley County        1\n",
       "Name: CountyName, Length: 206, dtype: int64"
      ]
     },
     "execution_count": 17,
     "metadata": {},
     "output_type": "execute_result"
    }
   ],
   "source": [
    "data.CountyName.value_counts()"
   ]
  },
  {
   "cell_type": "code",
   "execution_count": 18,
   "metadata": {},
   "outputs": [
    {
     "data": {
      "text/plain": [
       "ZipCode        0\n",
       "State          0\n",
       "City           0\n",
       "Metro          0\n",
       "CountyName     0\n",
       "              ..\n",
       "2022-04-30    16\n",
       "2022-05-31    13\n",
       "2022-06-30     6\n",
       "2022-07-31     4\n",
       "2022-08-31     0\n",
       "Length: 277, dtype: int64"
      ]
     },
     "execution_count": 18,
     "metadata": {},
     "output_type": "execute_result"
    }
   ],
   "source": [
    "data.isna().sum()"
   ]
  },
  {
   "cell_type": "code",
   "execution_count": 19,
   "metadata": {},
   "outputs": [],
   "source": [
    "data.CountyName.fillna('None', inplace=True)"
   ]
  },
  {
   "cell_type": "markdown",
   "metadata": {},
   "source": [
    "## Drop sales data that have missing values"
   ]
  },
  {
   "cell_type": "markdown",
   "metadata": {},
   "source": [
    "We will need to drop all sales data that are missing sales values since we will not be able to use them for analysis. "
   ]
  },
  {
   "cell_type": "code",
   "execution_count": 20,
   "metadata": {},
   "outputs": [],
   "source": [
    "# data = data.dropna()\n",
    "\n",
    "\n",
    "# use .bfill? "
   ]
  },
  {
   "cell_type": "code",
   "execution_count": 21,
   "metadata": {},
   "outputs": [
    {
     "data": {
      "text/html": [
       "<div>\n",
       "<style scoped>\n",
       "    .dataframe tbody tr th:only-of-type {\n",
       "        vertical-align: middle;\n",
       "    }\n",
       "\n",
       "    .dataframe tbody tr th {\n",
       "        vertical-align: top;\n",
       "    }\n",
       "\n",
       "    .dataframe thead th {\n",
       "        text-align: right;\n",
       "    }\n",
       "</style>\n",
       "<table border=\"1\" class=\"dataframe\">\n",
       "  <thead>\n",
       "    <tr style=\"text-align: right;\">\n",
       "      <th></th>\n",
       "      <th>ZipCode</th>\n",
       "      <th>State</th>\n",
       "      <th>City</th>\n",
       "      <th>Metro</th>\n",
       "      <th>CountyName</th>\n",
       "      <th>2000-01-31</th>\n",
       "      <th>2000-02-29</th>\n",
       "      <th>2000-03-31</th>\n",
       "      <th>2000-04-30</th>\n",
       "      <th>2000-05-31</th>\n",
       "      <th>...</th>\n",
       "      <th>2021-11-30</th>\n",
       "      <th>2021-12-31</th>\n",
       "      <th>2022-01-31</th>\n",
       "      <th>2022-02-28</th>\n",
       "      <th>2022-03-31</th>\n",
       "      <th>2022-04-30</th>\n",
       "      <th>2022-05-31</th>\n",
       "      <th>2022-06-30</th>\n",
       "      <th>2022-07-31</th>\n",
       "      <th>2022-08-31</th>\n",
       "    </tr>\n",
       "  </thead>\n",
       "  <tbody>\n",
       "    <tr>\n",
       "      <th>32</th>\n",
       "      <td>78521</td>\n",
       "      <td>TX</td>\n",
       "      <td>Brownsville</td>\n",
       "      <td>Brownsville-Harlingen, TX</td>\n",
       "      <td>Cameron County</td>\n",
       "      <td>NaN</td>\n",
       "      <td>NaN</td>\n",
       "      <td>NaN</td>\n",
       "      <td>NaN</td>\n",
       "      <td>NaN</td>\n",
       "      <td>...</td>\n",
       "      <td>141332.0</td>\n",
       "      <td>143702.0</td>\n",
       "      <td>145785.0</td>\n",
       "      <td>148925.0</td>\n",
       "      <td>151875.0</td>\n",
       "      <td>155071.0</td>\n",
       "      <td>157557.0</td>\n",
       "      <td>160752.0</td>\n",
       "      <td>163829.0</td>\n",
       "      <td>167074.0</td>\n",
       "    </tr>\n",
       "    <tr>\n",
       "      <th>50</th>\n",
       "      <td>77573</td>\n",
       "      <td>TX</td>\n",
       "      <td>League City</td>\n",
       "      <td>Houston-The Woodlands-Sugar Land, TX</td>\n",
       "      <td>Galveston County</td>\n",
       "      <td>NaN</td>\n",
       "      <td>NaN</td>\n",
       "      <td>NaN</td>\n",
       "      <td>NaN</td>\n",
       "      <td>NaN</td>\n",
       "      <td>...</td>\n",
       "      <td>290825.0</td>\n",
       "      <td>294876.0</td>\n",
       "      <td>297864.0</td>\n",
       "      <td>301136.0</td>\n",
       "      <td>305735.0</td>\n",
       "      <td>312295.0</td>\n",
       "      <td>317528.0</td>\n",
       "      <td>320674.0</td>\n",
       "      <td>321755.0</td>\n",
       "      <td>323265.0</td>\n",
       "    </tr>\n",
       "    <tr>\n",
       "      <th>86</th>\n",
       "      <td>78666</td>\n",
       "      <td>TX</td>\n",
       "      <td>San Marcos</td>\n",
       "      <td>Austin-Round Rock-Georgetown, TX</td>\n",
       "      <td>Hays County</td>\n",
       "      <td>NaN</td>\n",
       "      <td>NaN</td>\n",
       "      <td>NaN</td>\n",
       "      <td>NaN</td>\n",
       "      <td>NaN</td>\n",
       "      <td>...</td>\n",
       "      <td>347549.0</td>\n",
       "      <td>354405.0</td>\n",
       "      <td>362174.0</td>\n",
       "      <td>372118.0</td>\n",
       "      <td>378769.0</td>\n",
       "      <td>385599.0</td>\n",
       "      <td>387554.0</td>\n",
       "      <td>389007.0</td>\n",
       "      <td>386720.0</td>\n",
       "      <td>383152.0</td>\n",
       "    </tr>\n",
       "    <tr>\n",
       "      <th>87</th>\n",
       "      <td>78572</td>\n",
       "      <td>TX</td>\n",
       "      <td>Mission</td>\n",
       "      <td>McAllen-Edinburg-Mission, TX</td>\n",
       "      <td>Hidalgo County</td>\n",
       "      <td>NaN</td>\n",
       "      <td>NaN</td>\n",
       "      <td>NaN</td>\n",
       "      <td>NaN</td>\n",
       "      <td>NaN</td>\n",
       "      <td>...</td>\n",
       "      <td>155467.0</td>\n",
       "      <td>157316.0</td>\n",
       "      <td>159385.0</td>\n",
       "      <td>161236.0</td>\n",
       "      <td>163578.0</td>\n",
       "      <td>165853.0</td>\n",
       "      <td>168492.0</td>\n",
       "      <td>171377.0</td>\n",
       "      <td>174236.0</td>\n",
       "      <td>177440.0</td>\n",
       "    </tr>\n",
       "    <tr>\n",
       "      <th>93</th>\n",
       "      <td>78130</td>\n",
       "      <td>TX</td>\n",
       "      <td>New Braunfels</td>\n",
       "      <td>San Antonio-New Braunfels, TX</td>\n",
       "      <td>Comal County</td>\n",
       "      <td>NaN</td>\n",
       "      <td>NaN</td>\n",
       "      <td>NaN</td>\n",
       "      <td>NaN</td>\n",
       "      <td>NaN</td>\n",
       "      <td>...</td>\n",
       "      <td>306869.0</td>\n",
       "      <td>313174.0</td>\n",
       "      <td>320356.0</td>\n",
       "      <td>326121.0</td>\n",
       "      <td>333881.0</td>\n",
       "      <td>342038.0</td>\n",
       "      <td>349460.0</td>\n",
       "      <td>354485.0</td>\n",
       "      <td>356144.0</td>\n",
       "      <td>357161.0</td>\n",
       "    </tr>\n",
       "    <tr>\n",
       "      <th>...</th>\n",
       "      <td>...</td>\n",
       "      <td>...</td>\n",
       "      <td>...</td>\n",
       "      <td>...</td>\n",
       "      <td>...</td>\n",
       "      <td>...</td>\n",
       "      <td>...</td>\n",
       "      <td>...</td>\n",
       "      <td>...</td>\n",
       "      <td>...</td>\n",
       "      <td>...</td>\n",
       "      <td>...</td>\n",
       "      <td>...</td>\n",
       "      <td>...</td>\n",
       "      <td>...</td>\n",
       "      <td>...</td>\n",
       "      <td>...</td>\n",
       "      <td>...</td>\n",
       "      <td>...</td>\n",
       "      <td>...</td>\n",
       "      <td>...</td>\n",
       "    </tr>\n",
       "    <tr>\n",
       "      <th>23278</th>\n",
       "      <td>77476</td>\n",
       "      <td>TX</td>\n",
       "      <td>Simonton</td>\n",
       "      <td>Houston-The Woodlands-Sugar Land, TX</td>\n",
       "      <td>Fort Bend County</td>\n",
       "      <td>NaN</td>\n",
       "      <td>NaN</td>\n",
       "      <td>NaN</td>\n",
       "      <td>NaN</td>\n",
       "      <td>NaN</td>\n",
       "      <td>...</td>\n",
       "      <td>NaN</td>\n",
       "      <td>NaN</td>\n",
       "      <td>NaN</td>\n",
       "      <td>NaN</td>\n",
       "      <td>NaN</td>\n",
       "      <td>NaN</td>\n",
       "      <td>385388.0</td>\n",
       "      <td>389306.0</td>\n",
       "      <td>390118.0</td>\n",
       "      <td>389159.0</td>\n",
       "    </tr>\n",
       "    <tr>\n",
       "      <th>23325</th>\n",
       "      <td>79350</td>\n",
       "      <td>TX</td>\n",
       "      <td>New Deal</td>\n",
       "      <td>Lubbock, TX</td>\n",
       "      <td>Lubbock County</td>\n",
       "      <td>NaN</td>\n",
       "      <td>NaN</td>\n",
       "      <td>NaN</td>\n",
       "      <td>NaN</td>\n",
       "      <td>NaN</td>\n",
       "      <td>...</td>\n",
       "      <td>107664.0</td>\n",
       "      <td>108907.0</td>\n",
       "      <td>110654.0</td>\n",
       "      <td>113874.0</td>\n",
       "      <td>114829.0</td>\n",
       "      <td>117038.0</td>\n",
       "      <td>117008.0</td>\n",
       "      <td>118964.0</td>\n",
       "      <td>120559.0</td>\n",
       "      <td>121161.0</td>\n",
       "    </tr>\n",
       "    <tr>\n",
       "      <th>23371</th>\n",
       "      <td>77978</td>\n",
       "      <td>TX</td>\n",
       "      <td>Point Comfort</td>\n",
       "      <td>Port Lavaca, TX</td>\n",
       "      <td>Calhoun County</td>\n",
       "      <td>NaN</td>\n",
       "      <td>NaN</td>\n",
       "      <td>NaN</td>\n",
       "      <td>NaN</td>\n",
       "      <td>NaN</td>\n",
       "      <td>...</td>\n",
       "      <td>115988.0</td>\n",
       "      <td>118425.0</td>\n",
       "      <td>120843.0</td>\n",
       "      <td>123808.0</td>\n",
       "      <td>124556.0</td>\n",
       "      <td>125456.0</td>\n",
       "      <td>125696.0</td>\n",
       "      <td>127545.0</td>\n",
       "      <td>129641.0</td>\n",
       "      <td>132003.0</td>\n",
       "    </tr>\n",
       "    <tr>\n",
       "      <th>23372</th>\n",
       "      <td>77663</td>\n",
       "      <td>TX</td>\n",
       "      <td>Village Mills</td>\n",
       "      <td>Beaumont-Port Arthur, TX</td>\n",
       "      <td>Hardin County</td>\n",
       "      <td>NaN</td>\n",
       "      <td>NaN</td>\n",
       "      <td>NaN</td>\n",
       "      <td>NaN</td>\n",
       "      <td>NaN</td>\n",
       "      <td>...</td>\n",
       "      <td>195445.0</td>\n",
       "      <td>197359.0</td>\n",
       "      <td>200307.0</td>\n",
       "      <td>202782.0</td>\n",
       "      <td>204581.0</td>\n",
       "      <td>206977.0</td>\n",
       "      <td>209768.0</td>\n",
       "      <td>213646.0</td>\n",
       "      <td>216736.0</td>\n",
       "      <td>219361.0</td>\n",
       "    </tr>\n",
       "    <tr>\n",
       "      <th>23400</th>\n",
       "      <td>77451</td>\n",
       "      <td>TX</td>\n",
       "      <td>East Bernard</td>\n",
       "      <td>Houston-The Woodlands-Sugar Land, TX</td>\n",
       "      <td>Fort Bend County</td>\n",
       "      <td>NaN</td>\n",
       "      <td>NaN</td>\n",
       "      <td>NaN</td>\n",
       "      <td>NaN</td>\n",
       "      <td>NaN</td>\n",
       "      <td>...</td>\n",
       "      <td>NaN</td>\n",
       "      <td>NaN</td>\n",
       "      <td>NaN</td>\n",
       "      <td>NaN</td>\n",
       "      <td>NaN</td>\n",
       "      <td>NaN</td>\n",
       "      <td>211125.0</td>\n",
       "      <td>211719.0</td>\n",
       "      <td>210235.0</td>\n",
       "      <td>205233.0</td>\n",
       "    </tr>\n",
       "  </tbody>\n",
       "</table>\n",
       "<p>760 rows × 277 columns</p>\n",
       "</div>"
      ],
      "text/plain": [
       "      ZipCode State           City                                 Metro  \\\n",
       "32      78521    TX    Brownsville             Brownsville-Harlingen, TX   \n",
       "50      77573    TX    League City  Houston-The Woodlands-Sugar Land, TX   \n",
       "86      78666    TX     San Marcos      Austin-Round Rock-Georgetown, TX   \n",
       "87      78572    TX        Mission          McAllen-Edinburg-Mission, TX   \n",
       "93      78130    TX  New Braunfels         San Antonio-New Braunfels, TX   \n",
       "...       ...   ...            ...                                   ...   \n",
       "23278   77476    TX       Simonton  Houston-The Woodlands-Sugar Land, TX   \n",
       "23325   79350    TX       New Deal                           Lubbock, TX   \n",
       "23371   77978    TX  Point Comfort                       Port Lavaca, TX   \n",
       "23372   77663    TX  Village Mills              Beaumont-Port Arthur, TX   \n",
       "23400   77451    TX   East Bernard  Houston-The Woodlands-Sugar Land, TX   \n",
       "\n",
       "             CountyName  2000-01-31  2000-02-29  2000-03-31  2000-04-30  \\\n",
       "32       Cameron County         NaN         NaN         NaN         NaN   \n",
       "50     Galveston County         NaN         NaN         NaN         NaN   \n",
       "86          Hays County         NaN         NaN         NaN         NaN   \n",
       "87       Hidalgo County         NaN         NaN         NaN         NaN   \n",
       "93         Comal County         NaN         NaN         NaN         NaN   \n",
       "...                 ...         ...         ...         ...         ...   \n",
       "23278  Fort Bend County         NaN         NaN         NaN         NaN   \n",
       "23325    Lubbock County         NaN         NaN         NaN         NaN   \n",
       "23371    Calhoun County         NaN         NaN         NaN         NaN   \n",
       "23372     Hardin County         NaN         NaN         NaN         NaN   \n",
       "23400  Fort Bend County         NaN         NaN         NaN         NaN   \n",
       "\n",
       "       2000-05-31  ...  2021-11-30  2021-12-31  2022-01-31  2022-02-28  \\\n",
       "32            NaN  ...    141332.0    143702.0    145785.0    148925.0   \n",
       "50            NaN  ...    290825.0    294876.0    297864.0    301136.0   \n",
       "86            NaN  ...    347549.0    354405.0    362174.0    372118.0   \n",
       "87            NaN  ...    155467.0    157316.0    159385.0    161236.0   \n",
       "93            NaN  ...    306869.0    313174.0    320356.0    326121.0   \n",
       "...           ...  ...         ...         ...         ...         ...   \n",
       "23278         NaN  ...         NaN         NaN         NaN         NaN   \n",
       "23325         NaN  ...    107664.0    108907.0    110654.0    113874.0   \n",
       "23371         NaN  ...    115988.0    118425.0    120843.0    123808.0   \n",
       "23372         NaN  ...    195445.0    197359.0    200307.0    202782.0   \n",
       "23400         NaN  ...         NaN         NaN         NaN         NaN   \n",
       "\n",
       "       2022-03-31  2022-04-30  2022-05-31  2022-06-30  2022-07-31  2022-08-31  \n",
       "32       151875.0    155071.0    157557.0    160752.0    163829.0    167074.0  \n",
       "50       305735.0    312295.0    317528.0    320674.0    321755.0    323265.0  \n",
       "86       378769.0    385599.0    387554.0    389007.0    386720.0    383152.0  \n",
       "87       163578.0    165853.0    168492.0    171377.0    174236.0    177440.0  \n",
       "93       333881.0    342038.0    349460.0    354485.0    356144.0    357161.0  \n",
       "...           ...         ...         ...         ...         ...         ...  \n",
       "23278         NaN         NaN    385388.0    389306.0    390118.0    389159.0  \n",
       "23325    114829.0    117038.0    117008.0    118964.0    120559.0    121161.0  \n",
       "23371    124556.0    125456.0    125696.0    127545.0    129641.0    132003.0  \n",
       "23372    204581.0    206977.0    209768.0    213646.0    216736.0    219361.0  \n",
       "23400         NaN         NaN    211125.0    211719.0    210235.0    205233.0  \n",
       "\n",
       "[760 rows x 277 columns]"
      ]
     },
     "execution_count": 21,
     "metadata": {},
     "output_type": "execute_result"
    }
   ],
   "source": [
    "# 760 zip codes don't have full data\n",
    "data[data['2000-01-31'].isna()]"
   ]
  },
  {
   "cell_type": "code",
   "execution_count": 22,
   "metadata": {},
   "outputs": [
    {
     "data": {
      "text/html": [
       "<div>\n",
       "<style scoped>\n",
       "    .dataframe tbody tr th:only-of-type {\n",
       "        vertical-align: middle;\n",
       "    }\n",
       "\n",
       "    .dataframe tbody tr th {\n",
       "        vertical-align: top;\n",
       "    }\n",
       "\n",
       "    .dataframe thead th {\n",
       "        text-align: right;\n",
       "    }\n",
       "</style>\n",
       "<table border=\"1\" class=\"dataframe\">\n",
       "  <thead>\n",
       "    <tr style=\"text-align: right;\">\n",
       "      <th></th>\n",
       "      <th>ZipCode</th>\n",
       "      <th>State</th>\n",
       "      <th>City</th>\n",
       "      <th>Metro</th>\n",
       "      <th>CountyName</th>\n",
       "      <th>2000-01-31</th>\n",
       "      <th>2000-02-29</th>\n",
       "      <th>2000-03-31</th>\n",
       "      <th>2000-04-30</th>\n",
       "      <th>2000-05-31</th>\n",
       "      <th>...</th>\n",
       "      <th>2021-11-30</th>\n",
       "      <th>2021-12-31</th>\n",
       "      <th>2022-01-31</th>\n",
       "      <th>2022-02-28</th>\n",
       "      <th>2022-03-31</th>\n",
       "      <th>2022-04-30</th>\n",
       "      <th>2022-05-31</th>\n",
       "      <th>2022-06-30</th>\n",
       "      <th>2022-07-31</th>\n",
       "      <th>2022-08-31</th>\n",
       "    </tr>\n",
       "  </thead>\n",
       "  <tbody>\n",
       "  </tbody>\n",
       "</table>\n",
       "<p>0 rows × 277 columns</p>\n",
       "</div>"
      ],
      "text/plain": [
       "Empty DataFrame\n",
       "Columns: [ZipCode, State, City, Metro, CountyName, 2000-01-31, 2000-02-29, 2000-03-31, 2000-04-30, 2000-05-31, 2000-06-30, 2000-07-31, 2000-08-31, 2000-09-30, 2000-10-31, 2000-11-30, 2000-12-31, 2001-01-31, 2001-02-28, 2001-03-31, 2001-04-30, 2001-05-31, 2001-06-30, 2001-07-31, 2001-08-31, 2001-09-30, 2001-10-31, 2001-11-30, 2001-12-31, 2002-01-31, 2002-02-28, 2002-03-31, 2002-04-30, 2002-05-31, 2002-06-30, 2002-07-31, 2002-08-31, 2002-09-30, 2002-10-31, 2002-11-30, 2002-12-31, 2003-01-31, 2003-02-28, 2003-03-31, 2003-04-30, 2003-05-31, 2003-06-30, 2003-07-31, 2003-08-31, 2003-09-30, 2003-10-31, 2003-11-30, 2003-12-31, 2004-01-31, 2004-02-29, 2004-03-31, 2004-04-30, 2004-05-31, 2004-06-30, 2004-07-31, 2004-08-31, 2004-09-30, 2004-10-31, 2004-11-30, 2004-12-31, 2005-01-31, 2005-02-28, 2005-03-31, 2005-04-30, 2005-05-31, 2005-06-30, 2005-07-31, 2005-08-31, 2005-09-30, 2005-10-31, 2005-11-30, 2005-12-31, 2006-01-31, 2006-02-28, 2006-03-31, 2006-04-30, 2006-05-31, 2006-06-30, 2006-07-31, 2006-08-31, 2006-09-30, 2006-10-31, 2006-11-30, 2006-12-31, 2007-01-31, 2007-02-28, 2007-03-31, 2007-04-30, 2007-05-31, 2007-06-30, 2007-07-31, 2007-08-31, 2007-09-30, 2007-10-31, 2007-11-30, ...]\n",
       "Index: []\n",
       "\n",
       "[0 rows x 277 columns]"
      ]
     },
     "execution_count": 22,
     "metadata": {},
     "output_type": "execute_result"
    }
   ],
   "source": [
    "# All zipcodes have some data\n",
    "data[data['2022-08-31'].isna()]"
   ]
  },
  {
   "cell_type": "markdown",
   "metadata": {},
   "source": [
    "We will need to find an ROI that we can compare all of them on, nex"
   ]
  },
  {
   "cell_type": "code",
   "execution_count": 23,
   "metadata": {},
   "outputs": [],
   "source": [
    "# I need to find an ROI that I can compare them all on\n",
    "# Find the zips with the least data\n",
    "# for col in reversed(data.columns):\n",
    "#     if data[col].isna().sum() > 0:\n",
    "#         print(col)\n",
    "#         break"
   ]
  },
  {
   "cell_type": "code",
   "execution_count": 24,
   "metadata": {},
   "outputs": [],
   "source": [
    "# 4 zip codes only go back to 07-22\n",
    "# data[data['07-22'].isna()]"
   ]
  },
  {
   "cell_type": "code",
   "execution_count": 25,
   "metadata": {},
   "outputs": [],
   "source": [
    "def melt_data(data):\n",
    "    melted = pd.melt(data,\n",
    "                     id_vars=['ZipCode', 'State', 'City', 'Metro', 'CountyName'],\n",
    "                     var_name='Date')\n",
    "    melted['Date'] = pd.to_datetime(melted['Date'], infer_datetime_format=True)\n",
    "    melted = melted.dropna(subset=['value'])\n",
    "    return melted"
   ]
  },
  {
   "cell_type": "code",
   "execution_count": 26,
   "metadata": {},
   "outputs": [
    {
     "name": "stdout",
     "output_type": "stream",
     "text": [
      "<class 'pandas.core.frame.DataFrame'>\n",
      "Int64Index: 250195 entries, 0 to 351695\n",
      "Data columns (total 7 columns):\n",
      " #   Column      Non-Null Count   Dtype         \n",
      "---  ------      --------------   -----         \n",
      " 0   ZipCode     250195 non-null  string        \n",
      " 1   State       250195 non-null  object        \n",
      " 2   City        250195 non-null  object        \n",
      " 3   Metro       250195 non-null  object        \n",
      " 4   CountyName  250195 non-null  object        \n",
      " 5   Date        250195 non-null  datetime64[ns]\n",
      " 6   value       250195 non-null  float64       \n",
      "dtypes: datetime64[ns](1), float64(1), object(4), string(1)\n",
      "memory usage: 15.3+ MB\n"
     ]
    }
   ],
   "source": [
    "melted_data = melt_data(data)\n",
    "melted_data.info()"
   ]
  },
  {
   "cell_type": "code",
   "execution_count": 27,
   "metadata": {},
   "outputs": [
    {
     "data": {
      "text/plain": [
       "<bound method NDFrame.head of            ZipCode State           City                                 Metro  \\\n",
       "Date                                                                            \n",
       "2000-01-31   77449    TX           None  Houston-The Woodlands-Sugar Land, TX   \n",
       "2000-01-31   77494    TX           None  Houston-The Woodlands-Sugar Land, TX   \n",
       "2000-01-31   79936    TX        El Paso                           El Paso, TX   \n",
       "2000-01-31   77084    TX        Houston  Houston-The Woodlands-Sugar Land, TX   \n",
       "2000-01-31   78660    TX   Pflugerville      Austin-Round Rock-Georgetown, TX   \n",
       "...            ...   ...            ...                                   ...   \n",
       "2022-08-31   79350    TX       New Deal                           Lubbock, TX   \n",
       "2022-08-31   79366    TX  Ransom Canyon                           Lubbock, TX   \n",
       "2022-08-31   77978    TX  Point Comfort                       Port Lavaca, TX   \n",
       "2022-08-31   77663    TX  Village Mills              Beaumont-Port Arthur, TX   \n",
       "2022-08-31   77451    TX   East Bernard  Houston-The Woodlands-Sugar Land, TX   \n",
       "\n",
       "                  CountyName     value  \n",
       "Date                                    \n",
       "2000-01-31     Harris County   96603.0  \n",
       "2000-01-31  Fort Bend County  163540.0  \n",
       "2000-01-31    El Paso County   87170.0  \n",
       "2000-01-31     Harris County   96608.0  \n",
       "2000-01-31     Travis County  142867.0  \n",
       "...                      ...       ...  \n",
       "2022-08-31    Lubbock County  121161.0  \n",
       "2022-08-31    Lubbock County  345207.0  \n",
       "2022-08-31    Calhoun County  132003.0  \n",
       "2022-08-31     Hardin County  219361.0  \n",
       "2022-08-31  Fort Bend County  205233.0  \n",
       "\n",
       "[250195 rows x 6 columns]>"
      ]
     },
     "execution_count": 27,
     "metadata": {},
     "output_type": "execute_result"
    }
   ],
   "source": [
    "# Make sure the data type of the 'Date' column is datetime\n",
    "melted_data['Date'] = pd.to_datetime(melted_data['Date'], format='%Y/%m')\n",
    "\n",
    "# Set the 'Date' columns as index\n",
    "melted_data.set_index('Date', inplace=True)\n",
    "\n",
    "melted_data.info"
   ]
  },
  {
   "cell_type": "code",
   "execution_count": 29,
   "metadata": {},
   "outputs": [
    {
     "data": {
      "text/html": [
       "<div>\n",
       "<style scoped>\n",
       "    .dataframe tbody tr th:only-of-type {\n",
       "        vertical-align: middle;\n",
       "    }\n",
       "\n",
       "    .dataframe tbody tr th {\n",
       "        vertical-align: top;\n",
       "    }\n",
       "\n",
       "    .dataframe thead th {\n",
       "        text-align: right;\n",
       "    }\n",
       "</style>\n",
       "<table border=\"1\" class=\"dataframe\">\n",
       "  <thead>\n",
       "    <tr style=\"text-align: right;\">\n",
       "      <th></th>\n",
       "      <th>ZipCode</th>\n",
       "      <th>State</th>\n",
       "      <th>City</th>\n",
       "      <th>Metro</th>\n",
       "      <th>CountyName</th>\n",
       "      <th>value</th>\n",
       "    </tr>\n",
       "    <tr>\n",
       "      <th>Date</th>\n",
       "      <th></th>\n",
       "      <th></th>\n",
       "      <th></th>\n",
       "      <th></th>\n",
       "      <th></th>\n",
       "      <th></th>\n",
       "    </tr>\n",
       "  </thead>\n",
       "  <tbody>\n",
       "    <tr>\n",
       "      <th>2000-01-31</th>\n",
       "      <td>77449</td>\n",
       "      <td>TX</td>\n",
       "      <td>None</td>\n",
       "      <td>Houston-The Woodlands-Sugar Land, TX</td>\n",
       "      <td>Harris County</td>\n",
       "      <td>96603.0</td>\n",
       "    </tr>\n",
       "    <tr>\n",
       "      <th>2000-01-31</th>\n",
       "      <td>77494</td>\n",
       "      <td>TX</td>\n",
       "      <td>None</td>\n",
       "      <td>Houston-The Woodlands-Sugar Land, TX</td>\n",
       "      <td>Fort Bend County</td>\n",
       "      <td>163540.0</td>\n",
       "    </tr>\n",
       "    <tr>\n",
       "      <th>2000-01-31</th>\n",
       "      <td>79936</td>\n",
       "      <td>TX</td>\n",
       "      <td>El Paso</td>\n",
       "      <td>El Paso, TX</td>\n",
       "      <td>El Paso County</td>\n",
       "      <td>87170.0</td>\n",
       "    </tr>\n",
       "    <tr>\n",
       "      <th>2000-01-31</th>\n",
       "      <td>77084</td>\n",
       "      <td>TX</td>\n",
       "      <td>Houston</td>\n",
       "      <td>Houston-The Woodlands-Sugar Land, TX</td>\n",
       "      <td>Harris County</td>\n",
       "      <td>96608.0</td>\n",
       "    </tr>\n",
       "    <tr>\n",
       "      <th>2000-01-31</th>\n",
       "      <td>78660</td>\n",
       "      <td>TX</td>\n",
       "      <td>Pflugerville</td>\n",
       "      <td>Austin-Round Rock-Georgetown, TX</td>\n",
       "      <td>Travis County</td>\n",
       "      <td>142867.0</td>\n",
       "    </tr>\n",
       "  </tbody>\n",
       "</table>\n",
       "</div>"
      ],
      "text/plain": [
       "           ZipCode State          City                                 Metro  \\\n",
       "Date                                                                           \n",
       "2000-01-31   77449    TX          None  Houston-The Woodlands-Sugar Land, TX   \n",
       "2000-01-31   77494    TX          None  Houston-The Woodlands-Sugar Land, TX   \n",
       "2000-01-31   79936    TX       El Paso                           El Paso, TX   \n",
       "2000-01-31   77084    TX       Houston  Houston-The Woodlands-Sugar Land, TX   \n",
       "2000-01-31   78660    TX  Pflugerville      Austin-Round Rock-Georgetown, TX   \n",
       "\n",
       "                  CountyName     value  \n",
       "Date                                    \n",
       "2000-01-31     Harris County   96603.0  \n",
       "2000-01-31  Fort Bend County  163540.0  \n",
       "2000-01-31    El Paso County   87170.0  \n",
       "2000-01-31     Harris County   96608.0  \n",
       "2000-01-31     Travis County  142867.0  "
      ]
     },
     "execution_count": 29,
     "metadata": {},
     "output_type": "execute_result"
    }
   ],
   "source": [
    "melted_data.head()"
   ]
  },
  {
   "cell_type": "markdown",
   "metadata": {},
   "source": [
    "## EDA on ZipCodes"
   ]
  },
  {
   "cell_type": "code",
   "execution_count": 30,
   "metadata": {},
   "outputs": [
    {
     "name": "stdout",
     "output_type": "stream",
     "text": [
      "Average TX home value 303454\n"
     ]
    }
   ],
   "source": [
    "print('Average TX home value' ,round(data['2022-08-31'].mean()))"
   ]
  },
  {
   "cell_type": "code",
   "execution_count": 44,
   "metadata": {},
   "outputs": [
    {
     "data": {
      "image/png": "[encoded data removed]",
      "text/plain": [
       "<Figure size 864x360 with 1 Axes>"
      ]
     },
     "metadata": {
      "needs_background": "light"
     },
     "output_type": "display_data"
    }
   ],
   "source": [
    "#Average Home Value by Month and Year\n",
    "month_data = melted_data['value'].resample('MS').mean()\n",
    "month_data = month_data.fillna(month_data.bfill())\n",
    "month_data.plot(figsize=(12,5), color='red')\n",
    "plt.title('Average TX Home Value By Month')\n",
    "plt.ylabel('Value')\n",
    "plt.show()"
   ]
  },
  {
   "cell_type": "code",
   "execution_count": 37,
   "metadata": {},
   "outputs": [
    {
     "data": {
      "image/png": "[encoded data removed]",
      "text/plain": [
       "<Figure size 864x360 with 1 Axes>"
      ]
     },
     "metadata": {
      "needs_background": "light"
     },
     "output_type": "display_data"
    }
   ],
   "source": [
    "yr_data = melted_data['value'].resample('A').mean()\n",
    "yr_data.plot.line(figsize=(12,5), color='orange')\n",
    "plt.title('Average TX Home Value By Year')\n",
    "plt.ylabel('Value')\n",
    "plt.show()"
   ]
  },
  {
   "cell_type": "markdown",
   "metadata": {},
   "source": [
    "## Top 10 Metro and County (mean)"
   ]
  },
  {
   "cell_type": "code",
   "execution_count": 39,
   "metadata": {},
   "outputs": [
    {
     "data": {
      "image/png": "[encoded data removed]",
      "text/plain": [
       "<Figure size 864x504 with 1 Axes>"
      ]
     },
     "metadata": {
      "needs_background": "light"
     },
     "output_type": "display_data"
    }
   ],
   "source": [
    "# Get Mean Home Value by metro\n",
    "metro = melted_data.groupby('Metro')\n",
    "metro = metro.value.mean()\n",
    "metro = metro.sort_values(ascending=False).head(10)\n",
    "\n",
    "# Plot Mean Home Value by Metro\n",
    "metro.plot.barh(figsize=(12,7), color='blue')\n",
    "plt.title('10-Year Mean Value by Metro')\n",
    "plt.xlabel('Value in Millions of Dollars ($)')\n",
    "plt.show()"
   ]
  },
  {
   "cell_type": "code",
   "execution_count": 42,
   "metadata": {},
   "outputs": [
    {
     "data": {
      "image/png": "[encoded data removed]",
      "text/plain": [
       "<Figure size 864x504 with 1 Axes>"
      ]
     },
     "metadata": {
      "needs_background": "light"
     },
     "output_type": "display_data"
    }
   ],
   "source": [
    "# Get Mean Home Value by County\n",
    "county = melted_data.groupby('CountyName')\n",
    "county = county.value.mean()\n",
    "county = county.sort_values(ascending=False).head(10)\n",
    "\n",
    "# Plot Mean Home Value by County\n",
    "county.plot.barh(figsize = (12,7), color='darkgreen')\n",
    "plt.title('10-Year Mean Value by County')\n",
    "plt.xlabel('Value in Millions of Dollars ($)')\n",
    "plt.ylabel('County Name')\n",
    "plt.show()"
   ]
  },
  {
   "cell_type": "markdown",
   "metadata": {},
   "source": [
    "## Most recent one year ROI"
   ]
  },
  {
   "cell_type": "code",
   "execution_count": 31,
   "metadata": {},
   "outputs": [
    {
     "data": {
      "text/plain": [
       "0        0.232488\n",
       "1        0.219513\n",
       "2        0.182189\n",
       "7        0.207553\n",
       "17       0.123829\n",
       "           ...   \n",
       "23325    0.175567\n",
       "23352    0.179743\n",
       "23371    0.169669\n",
       "23372    0.145991\n",
       "23400         NaN\n",
       "Name: recent_1_yr_ROI, Length: 1293, dtype: float64"
      ]
     },
     "execution_count": 31,
     "metadata": {},
     "output_type": "execute_result"
    }
   ],
   "source": [
    "# Check out most recent 1 year ROI\n",
    "data['recent_1_yr_ROI'] = (data['2022-08-31'] - data['2021-08-31'])/(data['2021-08-31'])\n",
    "data['recent_1_yr_ROI']"
   ]
  },
  {
   "cell_type": "code",
   "execution_count": 32,
   "metadata": {},
   "outputs": [
    {
     "data": {
      "text/html": [
       "<div>\n",
       "<style scoped>\n",
       "    .dataframe tbody tr th:only-of-type {\n",
       "        vertical-align: middle;\n",
       "    }\n",
       "\n",
       "    .dataframe tbody tr th {\n",
       "        vertical-align: top;\n",
       "    }\n",
       "\n",
       "    .dataframe thead th {\n",
       "        text-align: right;\n",
       "    }\n",
       "</style>\n",
       "<table border=\"1\" class=\"dataframe\">\n",
       "  <thead>\n",
       "    <tr style=\"text-align: right;\">\n",
       "      <th></th>\n",
       "      <th>ZipCode</th>\n",
       "      <th>City</th>\n",
       "      <th>recent_1_yr_ROI</th>\n",
       "    </tr>\n",
       "  </thead>\n",
       "  <tbody>\n",
       "    <tr>\n",
       "      <th>15843</th>\n",
       "      <td>78650</td>\n",
       "      <td>McDade</td>\n",
       "      <td>-0.038050</td>\n",
       "    </tr>\n",
       "    <tr>\n",
       "      <th>5133</th>\n",
       "      <td>79764</td>\n",
       "      <td>Odessa</td>\n",
       "      <td>-0.001729</td>\n",
       "    </tr>\n",
       "    <tr>\n",
       "      <th>10220</th>\n",
       "      <td>75758</td>\n",
       "      <td>Chandler</td>\n",
       "      <td>0.001106</td>\n",
       "    </tr>\n",
       "    <tr>\n",
       "      <th>7696</th>\n",
       "      <td>77701</td>\n",
       "      <td>Beaumont</td>\n",
       "      <td>0.001393</td>\n",
       "    </tr>\n",
       "    <tr>\n",
       "      <th>16286</th>\n",
       "      <td>77335</td>\n",
       "      <td>None</td>\n",
       "      <td>0.004570</td>\n",
       "    </tr>\n",
       "  </tbody>\n",
       "</table>\n",
       "</div>"
      ],
      "text/plain": [
       "      ZipCode      City  recent_1_yr_ROI\n",
       "15843   78650    McDade        -0.038050\n",
       "5133    79764    Odessa        -0.001729\n",
       "10220   75758  Chandler         0.001106\n",
       "7696    77701  Beaumont         0.001393\n",
       "16286   77335      None         0.004570"
      ]
     },
     "execution_count": 32,
     "metadata": {},
     "output_type": "execute_result"
    }
   ],
   "source": [
    "# Lowest Values\n",
    "data.sort_values('recent_1_yr_ROI').head()[['ZipCode', 'City', 'recent_1_yr_ROI']]"
   ]
  },
  {
   "cell_type": "code",
   "execution_count": 33,
   "metadata": {},
   "outputs": [
    {
     "data": {
      "text/html": [
       "<div>\n",
       "<style scoped>\n",
       "    .dataframe tbody tr th:only-of-type {\n",
       "        vertical-align: middle;\n",
       "    }\n",
       "\n",
       "    .dataframe tbody tr th {\n",
       "        vertical-align: top;\n",
       "    }\n",
       "\n",
       "    .dataframe thead th {\n",
       "        text-align: right;\n",
       "    }\n",
       "</style>\n",
       "<table border=\"1\" class=\"dataframe\">\n",
       "  <thead>\n",
       "    <tr style=\"text-align: right;\">\n",
       "      <th></th>\n",
       "      <th>ZipCode</th>\n",
       "      <th>City</th>\n",
       "      <th>recent_1_yr_ROI</th>\n",
       "    </tr>\n",
       "  </thead>\n",
       "  <tbody>\n",
       "    <tr>\n",
       "      <th>6514</th>\n",
       "      <td>76541</td>\n",
       "      <td>Killeen</td>\n",
       "      <td>0.405265</td>\n",
       "    </tr>\n",
       "    <tr>\n",
       "      <th>18276</th>\n",
       "      <td>78615</td>\n",
       "      <td>Coupland</td>\n",
       "      <td>0.382277</td>\n",
       "    </tr>\n",
       "    <tr>\n",
       "      <th>17560</th>\n",
       "      <td>75058</td>\n",
       "      <td>Gunter</td>\n",
       "      <td>0.362419</td>\n",
       "    </tr>\n",
       "    <tr>\n",
       "      <th>11436</th>\n",
       "      <td>78583</td>\n",
       "      <td>Rio Hondo</td>\n",
       "      <td>0.360510</td>\n",
       "    </tr>\n",
       "    <tr>\n",
       "      <th>15845</th>\n",
       "      <td>76569</td>\n",
       "      <td>Rogers</td>\n",
       "      <td>0.356386</td>\n",
       "    </tr>\n",
       "  </tbody>\n",
       "</table>\n",
       "</div>"
      ],
      "text/plain": [
       "      ZipCode       City  recent_1_yr_ROI\n",
       "6514    76541    Killeen         0.405265\n",
       "18276   78615   Coupland         0.382277\n",
       "17560   75058     Gunter         0.362419\n",
       "11436   78583  Rio Hondo         0.360510\n",
       "15845   76569     Rogers         0.356386"
      ]
     },
     "execution_count": 33,
     "metadata": {},
     "output_type": "execute_result"
    }
   ],
   "source": [
    "# Highest Values \n",
    "data.sort_values('recent_1_yr_ROI', ascending=False).head()[['ZipCode', 'City', 'recent_1_yr_ROI']]"
   ]
  },
  {
   "cell_type": "code",
   "execution_count": null,
   "metadata": {},
   "outputs": [],
   "source": []
  }
 ],
 "metadata": {
  "kernelspec": {
   "display_name": "Python 3",
   "language": "python",
   "name": "python3"
  },
  "language_info": {
   "codemirror_mode": {
    "name": "ipython",
    "version": 3
   },
   "file_extension": ".py",
   "mimetype": "text/x-python",
   "name": "python",
   "nbconvert_exporter": "python",
   "pygments_lexer": "ipython3",
   "version": "3.8.5"
  }
 },
 "nbformat": 4,
 "nbformat_minor": 4
}
